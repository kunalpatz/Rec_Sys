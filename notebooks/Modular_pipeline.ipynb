{
  "nbformat": 4,
  "nbformat_minor": 0,
  "metadata": {
    "colab": {
      "name": "Modular_pipeline.ipynb",
      "provenance": [],
      "collapsed_sections": []
    },
    "kernelspec": {
      "name": "python3",
      "display_name": "Python 3"
    }
  },
  "cells": [
    {
      "cell_type": "markdown",
      "metadata": {
        "id": "n-6VAiap8MV2"
      },
      "source": [
        "# Modular pipeline assignment"
      ]
    },
    {
      "cell_type": "markdown",
      "metadata": {
        "id": "7ST7yEIZ8SPr"
      },
      "source": [
        "Author: Kunal PATIL (AIS S20)"
      ]
    },
    {
      "cell_type": "markdown",
      "metadata": {
        "id": "O-bPgMga8dJq"
      },
      "source": [
        "Import Neccesary Libraries"
      ]
    },
    {
      "cell_type": "code",
      "metadata": {
        "id": "I2FrkKfCbRH3"
      },
      "source": [
        "import pandas as pd\r\n",
        "import numpy as np\r\n",
        "from tabulate import tabulate"
      ],
      "execution_count": null,
      "outputs": []
    },
    {
      "cell_type": "markdown",
      "metadata": {
        "id": "CdIjxH9i9ziC"
      },
      "source": [
        "Import pipeline Module"
      ]
    },
    {
      "cell_type": "code",
      "metadata": {
        "id": "KCOivts79uhn"
      },
      "source": [
        "from ../recsys/pipeline import *"
      ],
      "execution_count": null,
      "outputs": []
    },
    {
      "cell_type": "markdown",
      "metadata": {
        "id": "DDefc6X98jV-"
      },
      "source": [
        "Trials with Module"
      ]
    },
    {
      "cell_type": "code",
      "metadata": {
        "id": "FGowW4vNbYT3",
        "colab": {
          "base_uri": "https://localhost:8080/"
        },
        "outputId": "d76a89d3-400c-4b3b-9b8a-c1e95c17bb06"
      },
      "source": [
        "KNN_data = {'k':40, 'min_k':1 ,'sim_options': {'user_based': False, 'name': 'pearson'}}\r\n",
        "model, metrics_dict = train_and_evalute_model_pipeline('KNN', model_kwargs=KNN_data, load_from_surprise=False)\r\n",
        "model, metrics_dict"
      ],
      "execution_count": null,
      "outputs": [
        {
          "output_type": "stream",
          "text": [
            "Computing the pearson similarity matrix...\n",
            "Done computing similarity matrix.\n"
          ],
          "name": "stdout"
        },
        {
          "output_type": "execute_result",
          "data": {
            "text/plain": [
              "(<surprise.prediction_algorithms.knns.KNNBasic at 0x7f147b03d3c8>,\n",
              " {'MAE': 0.7522015252807513,\n",
              "  'RMSE': 0.972090216587812,\n",
              "  'fit time': 27.99131202697754})"
            ]
          },
          "metadata": {
            "tags": []
          },
          "execution_count": 55
        }
      ]
    },
    {
      "cell_type": "markdown",
      "metadata": {
        "id": "oZSQVbyW8oc8"
      },
      "source": [
        "## Model BenchMarking\r\n",
        "\r\n",
        "Here we will perform benchmarking for algorithm KNNBasic:\r\n",
        "\r\n",
        "    User Based Model\r\n",
        "        Cosine Similarity\r\n",
        "        Pearson Similarity\r\n",
        "\r\n",
        "    Item Based Model\r\n",
        "        Cosine Similarity\r\n",
        "        Pearson Similarity\r\n",
        "\r\n",
        "    NMF User Based Model\r\n",
        "\r\n",
        "    SVD User Based Model\r\n",
        "\r\n"
      ]
    },
    {
      "cell_type": "code",
      "metadata": {
        "id": "jhqDpGlhvy5E"
      },
      "source": [
        "model_dict_for_benchmark = {'KNN Cosine Similarity User Based Model': \r\n",
        "                            {'algo': 'KNN', 'model_kwargs': \r\n",
        "                             {'k':40, 'min_k':1 ,'sim_options': \r\n",
        "                              {'user_based': True, 'name': 'cosine'}}, \r\n",
        "                             'from_surprise':False},\r\n",
        "                            \r\n",
        "                            'KNN Pearson Similarity User Based Model':\r\n",
        "                            {'algo': 'KNN', 'model_kwargs':\r\n",
        "                             {'k':40, 'min_k':1 ,'sim_options': \r\n",
        "                              {'user_based': True, 'name': 'pearson'}},\r\n",
        "                             'from_surprise':False},\r\n",
        "                            \r\n",
        "                            'KNN Cosine Similarity Item Based Model':\r\n",
        "                            {'algo': 'KNN', 'model_kwargs':\r\n",
        "                             {'k':40, 'min_k':1 ,'sim_options': \r\n",
        "                              {'user_based': False, 'name': 'cosine'}},\r\n",
        "                             'from_surprise':False},\r\n",
        "                            \r\n",
        "                            'KNN Pearson Similarity Item Based Model':\r\n",
        "                            {'algo': 'KNN', 'model_kwargs':\r\n",
        "                             {'k':40, 'min_k':1 ,'sim_options': \r\n",
        "                              {'user_based': False, 'name': 'pearson'}},\r\n",
        "                             'from_surprise':False},\r\n",
        "                            \r\n",
        "                            'NMF User Based Model':\r\n",
        "                            {'algo': 'NMF', 'model_kwargs':\r\n",
        "                             {'n_factors':15, 'n_epochs': 50, 'verbose':False},\r\n",
        "                             'from_surprise':False},\r\n",
        "                            \r\n",
        "                            'SVD User Based Model':\r\n",
        "                            {'algo': 'SVD', 'model_kwargs':{}, \r\n",
        "                             'from_surprise':False}\r\n",
        "                            }\r\n",
        "                            "
      ],
      "execution_count": null,
      "outputs": []
    },
    {
      "cell_type": "code",
      "metadata": {
        "colab": {
          "base_uri": "https://localhost:8080/",
          "height": 387
        },
        "id": "WQAAEZrd34rK",
        "outputId": "7e347f05-4aa6-487c-e153-8a29d2fcf70d"
      },
      "source": [
        "df = benchmark(model_dict_for_benchmark)\r\n",
        "df"
      ],
      "execution_count": null,
      "outputs": [
        {
          "output_type": "stream",
          "text": [
            "Computing the cosine similarity matrix...\n",
            "Done computing similarity matrix.\n",
            "Computing the pearson similarity matrix...\n",
            "Done computing similarity matrix.\n",
            "Computing the cosine similarity matrix...\n",
            "Done computing similarity matrix.\n",
            "Computing the pearson similarity matrix...\n",
            "Done computing similarity matrix.\n"
          ],
          "name": "stdout"
        },
        {
          "output_type": "execute_result",
          "data": {
            "text/html": [
              "<div>\n",
              "<style scoped>\n",
              "    .dataframe tbody tr th:only-of-type {\n",
              "        vertical-align: middle;\n",
              "    }\n",
              "\n",
              "    .dataframe tbody tr th {\n",
              "        vertical-align: top;\n",
              "    }\n",
              "\n",
              "    .dataframe thead th {\n",
              "        text-align: right;\n",
              "    }\n",
              "</style>\n",
              "<table border=\"1\" class=\"dataframe\">\n",
              "  <thead>\n",
              "    <tr style=\"text-align: right;\">\n",
              "      <th></th>\n",
              "      <th>Model Name</th>\n",
              "      <th>RMSE</th>\n",
              "      <th>MAE</th>\n",
              "      <th>Fit Time</th>\n",
              "    </tr>\n",
              "  </thead>\n",
              "  <tbody>\n",
              "    <tr>\n",
              "      <th>0</th>\n",
              "      <td>KNN Cosine Similarity User Based Model</td>\n",
              "      <td>0.980566</td>\n",
              "      <td>0.755153</td>\n",
              "      <td>0.361765</td>\n",
              "    </tr>\n",
              "    <tr>\n",
              "      <th>1</th>\n",
              "      <td>KNN Pearson Similarity User Based Model</td>\n",
              "      <td>0.981730</td>\n",
              "      <td>0.756999</td>\n",
              "      <td>0.519544</td>\n",
              "    </tr>\n",
              "    <tr>\n",
              "      <th>2</th>\n",
              "      <td>KNN Cosine Similarity Item Based Model</td>\n",
              "      <td>0.979963</td>\n",
              "      <td>0.761495</td>\n",
              "      <td>23.439316</td>\n",
              "    </tr>\n",
              "    <tr>\n",
              "      <th>3</th>\n",
              "      <td>KNN Pearson Similarity Item Based Model</td>\n",
              "      <td>0.972090</td>\n",
              "      <td>0.752202</td>\n",
              "      <td>25.075799</td>\n",
              "    </tr>\n",
              "    <tr>\n",
              "      <th>4</th>\n",
              "      <td>NMF User Based Model</td>\n",
              "      <td>0.931591</td>\n",
              "      <td>0.710343</td>\n",
              "      <td>6.710555</td>\n",
              "    </tr>\n",
              "    <tr>\n",
              "      <th>5</th>\n",
              "      <td>SVD User Based Model</td>\n",
              "      <td>0.881964</td>\n",
              "      <td>0.678153</td>\n",
              "      <td>5.420250</td>\n",
              "    </tr>\n",
              "  </tbody>\n",
              "</table>\n",
              "</div>"
            ],
            "text/plain": [
              "                                Model Name      RMSE       MAE   Fit Time\n",
              "0   KNN Cosine Similarity User Based Model  0.980566  0.755153   0.361765\n",
              "1  KNN Pearson Similarity User Based Model  0.981730  0.756999   0.519544\n",
              "2   KNN Cosine Similarity Item Based Model  0.979963  0.761495  23.439316\n",
              "3  KNN Pearson Similarity Item Based Model  0.972090  0.752202  25.075799\n",
              "4                     NMF User Based Model  0.931591  0.710343   6.710555\n",
              "5                     SVD User Based Model  0.881964  0.678153   5.420250"
            ]
          },
          "metadata": {
            "tags": []
          },
          "execution_count": 85
        }
      ]
    },
    {
      "cell_type": "markdown",
      "metadata": {
        "id": "UeXnb8gI8-mb"
      },
      "source": [
        "## Comparative Graphs"
      ]
    },
    {
      "cell_type": "markdown",
      "metadata": {
        "id": "fD4Z38DL9FN-"
      },
      "source": [
        "Graph for RMSE"
      ]
    },
    {
      "cell_type": "code",
      "metadata": {
        "colab": {
          "base_uri": "https://localhost:8080/",
          "height": 542
        },
        "id": "SwYNj6Fl9NCM",
        "outputId": "729166bb-5105-4682-fa91-aa62be1c6a0f"
      },
      "source": [
        "import plotly.express as px\r\n",
        "fig = px.bar(df, x='Model Name', y='RMSE', range_y=[0.8,1], title=\"RMSE\")\r\n",
        "fig.show()"
      ],
      "execution_count": null,
      "outputs": [
        {
          "output_type": "display_data",
          "data": {
            "text/html": [
              "<html>\n",
              "<head><meta charset=\"utf-8\" /></head>\n",
              "<body>\n",
              "    <div>\n",
              "            <script src=\"https://cdnjs.cloudflare.com/ajax/libs/mathjax/2.7.5/MathJax.js?config=TeX-AMS-MML_SVG\"></script><script type=\"text/javascript\">if (window.MathJax) {MathJax.Hub.Config({SVG: {font: \"STIX-Web\"}});}</script>\n",
              "                <script type=\"text/javascript\">window.PlotlyConfig = {MathJaxConfig: 'local'};</script>\n",
              "        <script src=\"https://cdn.plot.ly/plotly-latest.min.js\"></script>    \n",
              "            <div id=\"954eae14-7043-4bb5-b2c6-ebf95154346d\" class=\"plotly-graph-div\" style=\"height:525px; width:100%;\"></div>\n",
              "            <script type=\"text/javascript\">\n",
              "                \n",
              "                    window.PLOTLYENV=window.PLOTLYENV || {};\n",
              "                    \n",
              "                if (document.getElementById(\"954eae14-7043-4bb5-b2c6-ebf95154346d\")) {\n",
              "                    Plotly.newPlot(\n",
              "                        '954eae14-7043-4bb5-b2c6-ebf95154346d',\n",
              "                        [{\"alignmentgroup\": \"True\", \"hoverlabel\": {\"namelength\": 0}, \"hovertemplate\": \"Model Name=%{x}<br>RMSE=%{y}\", \"legendgroup\": \"\", \"marker\": {\"color\": \"#636efa\"}, \"name\": \"\", \"offsetgroup\": \"\", \"orientation\": \"v\", \"showlegend\": false, \"textposition\": \"auto\", \"type\": \"bar\", \"x\": [\"KNN Cosine Similarity User Based Model\", \"KNN Pearson Similarity User Based Model\", \"KNN Cosine Similarity Item Based Model\", \"KNN Pearson Similarity Item Based Model\", \"NMF User Based Model\", \"SVD User Based Model\"], \"xaxis\": \"x\", \"y\": [0.9805664487082234, 0.9817298825342252, 0.9799629843055228, 0.972090216587812, 0.9315910513071134, 0.8819640017291851], \"yaxis\": \"y\"}],\n",
              "                        {\"barmode\": \"relative\", \"legend\": {\"tracegroupgap\": 0}, \"template\": {\"data\": {\"bar\": [{\"error_x\": {\"color\": \"#2a3f5f\"}, \"error_y\": {\"color\": \"#2a3f5f\"}, \"marker\": {\"line\": {\"color\": \"#E5ECF6\", \"width\": 0.5}}, \"type\": \"bar\"}], \"barpolar\": [{\"marker\": {\"line\": {\"color\": \"#E5ECF6\", \"width\": 0.5}}, \"type\": \"barpolar\"}], \"carpet\": [{\"aaxis\": {\"endlinecolor\": \"#2a3f5f\", \"gridcolor\": \"white\", \"linecolor\": \"white\", \"minorgridcolor\": \"white\", \"startlinecolor\": \"#2a3f5f\"}, \"baxis\": {\"endlinecolor\": \"#2a3f5f\", \"gridcolor\": \"white\", \"linecolor\": \"white\", \"minorgridcolor\": \"white\", \"startlinecolor\": \"#2a3f5f\"}, \"type\": \"carpet\"}], \"choropleth\": [{\"colorbar\": {\"outlinewidth\": 0, \"ticks\": \"\"}, \"type\": \"choropleth\"}], \"contour\": [{\"colorbar\": {\"outlinewidth\": 0, \"ticks\": \"\"}, \"colorscale\": [[0.0, \"#0d0887\"], [0.1111111111111111, \"#46039f\"], [0.2222222222222222, \"#7201a8\"], [0.3333333333333333, \"#9c179e\"], [0.4444444444444444, \"#bd3786\"], [0.5555555555555556, \"#d8576b\"], [0.6666666666666666, \"#ed7953\"], [0.7777777777777778, \"#fb9f3a\"], [0.8888888888888888, \"#fdca26\"], [1.0, \"#f0f921\"]], \"type\": \"contour\"}], \"contourcarpet\": [{\"colorbar\": {\"outlinewidth\": 0, \"ticks\": \"\"}, \"type\": \"contourcarpet\"}], \"heatmap\": [{\"colorbar\": {\"outlinewidth\": 0, \"ticks\": \"\"}, \"colorscale\": [[0.0, \"#0d0887\"], [0.1111111111111111, \"#46039f\"], [0.2222222222222222, \"#7201a8\"], [0.3333333333333333, \"#9c179e\"], [0.4444444444444444, \"#bd3786\"], [0.5555555555555556, \"#d8576b\"], [0.6666666666666666, \"#ed7953\"], [0.7777777777777778, \"#fb9f3a\"], [0.8888888888888888, \"#fdca26\"], [1.0, \"#f0f921\"]], \"type\": \"heatmap\"}], \"heatmapgl\": [{\"colorbar\": {\"outlinewidth\": 0, \"ticks\": \"\"}, \"colorscale\": [[0.0, \"#0d0887\"], [0.1111111111111111, \"#46039f\"], [0.2222222222222222, \"#7201a8\"], [0.3333333333333333, \"#9c179e\"], [0.4444444444444444, \"#bd3786\"], [0.5555555555555556, \"#d8576b\"], [0.6666666666666666, \"#ed7953\"], [0.7777777777777778, \"#fb9f3a\"], [0.8888888888888888, \"#fdca26\"], [1.0, \"#f0f921\"]], \"type\": \"heatmapgl\"}], \"histogram\": [{\"marker\": {\"colorbar\": {\"outlinewidth\": 0, \"ticks\": \"\"}}, \"type\": \"histogram\"}], \"histogram2d\": [{\"colorbar\": {\"outlinewidth\": 0, \"ticks\": \"\"}, \"colorscale\": [[0.0, \"#0d0887\"], [0.1111111111111111, \"#46039f\"], [0.2222222222222222, \"#7201a8\"], [0.3333333333333333, \"#9c179e\"], [0.4444444444444444, \"#bd3786\"], [0.5555555555555556, \"#d8576b\"], [0.6666666666666666, \"#ed7953\"], [0.7777777777777778, \"#fb9f3a\"], [0.8888888888888888, \"#fdca26\"], [1.0, \"#f0f921\"]], \"type\": \"histogram2d\"}], \"histogram2dcontour\": [{\"colorbar\": {\"outlinewidth\": 0, \"ticks\": \"\"}, \"colorscale\": [[0.0, \"#0d0887\"], [0.1111111111111111, \"#46039f\"], [0.2222222222222222, \"#7201a8\"], [0.3333333333333333, \"#9c179e\"], [0.4444444444444444, \"#bd3786\"], [0.5555555555555556, \"#d8576b\"], [0.6666666666666666, \"#ed7953\"], [0.7777777777777778, \"#fb9f3a\"], [0.8888888888888888, \"#fdca26\"], [1.0, \"#f0f921\"]], \"type\": \"histogram2dcontour\"}], \"mesh3d\": [{\"colorbar\": {\"outlinewidth\": 0, \"ticks\": \"\"}, \"type\": \"mesh3d\"}], \"parcoords\": [{\"line\": {\"colorbar\": {\"outlinewidth\": 0, \"ticks\": \"\"}}, \"type\": \"parcoords\"}], \"pie\": [{\"automargin\": true, \"type\": \"pie\"}], \"scatter\": [{\"marker\": {\"colorbar\": {\"outlinewidth\": 0, \"ticks\": \"\"}}, \"type\": \"scatter\"}], \"scatter3d\": [{\"line\": {\"colorbar\": {\"outlinewidth\": 0, \"ticks\": \"\"}}, \"marker\": {\"colorbar\": {\"outlinewidth\": 0, \"ticks\": \"\"}}, \"type\": \"scatter3d\"}], \"scattercarpet\": [{\"marker\": {\"colorbar\": {\"outlinewidth\": 0, \"ticks\": \"\"}}, \"type\": \"scattercarpet\"}], \"scattergeo\": [{\"marker\": {\"colorbar\": {\"outlinewidth\": 0, \"ticks\": \"\"}}, \"type\": \"scattergeo\"}], \"scattergl\": [{\"marker\": {\"colorbar\": {\"outlinewidth\": 0, \"ticks\": \"\"}}, \"type\": \"scattergl\"}], \"scattermapbox\": [{\"marker\": {\"colorbar\": {\"outlinewidth\": 0, \"ticks\": \"\"}}, \"type\": \"scattermapbox\"}], \"scatterpolar\": [{\"marker\": {\"colorbar\": {\"outlinewidth\": 0, \"ticks\": \"\"}}, \"type\": \"scatterpolar\"}], \"scatterpolargl\": [{\"marker\": {\"colorbar\": {\"outlinewidth\": 0, \"ticks\": \"\"}}, \"type\": \"scatterpolargl\"}], \"scatterternary\": [{\"marker\": {\"colorbar\": {\"outlinewidth\": 0, \"ticks\": \"\"}}, \"type\": \"scatterternary\"}], \"surface\": [{\"colorbar\": {\"outlinewidth\": 0, \"ticks\": \"\"}, \"colorscale\": [[0.0, \"#0d0887\"], [0.1111111111111111, \"#46039f\"], [0.2222222222222222, \"#7201a8\"], [0.3333333333333333, \"#9c179e\"], [0.4444444444444444, \"#bd3786\"], [0.5555555555555556, \"#d8576b\"], [0.6666666666666666, \"#ed7953\"], [0.7777777777777778, \"#fb9f3a\"], [0.8888888888888888, \"#fdca26\"], [1.0, \"#f0f921\"]], \"type\": \"surface\"}], \"table\": [{\"cells\": {\"fill\": {\"color\": \"#EBF0F8\"}, \"line\": {\"color\": \"white\"}}, \"header\": {\"fill\": {\"color\": \"#C8D4E3\"}, \"line\": {\"color\": \"white\"}}, \"type\": \"table\"}]}, \"layout\": {\"annotationdefaults\": {\"arrowcolor\": \"#2a3f5f\", \"arrowhead\": 0, \"arrowwidth\": 1}, \"coloraxis\": {\"colorbar\": {\"outlinewidth\": 0, \"ticks\": \"\"}}, \"colorscale\": {\"diverging\": [[0, \"#8e0152\"], [0.1, \"#c51b7d\"], [0.2, \"#de77ae\"], [0.3, \"#f1b6da\"], [0.4, \"#fde0ef\"], [0.5, \"#f7f7f7\"], [0.6, \"#e6f5d0\"], [0.7, \"#b8e186\"], [0.8, \"#7fbc41\"], [0.9, \"#4d9221\"], [1, \"#276419\"]], \"sequential\": [[0.0, \"#0d0887\"], [0.1111111111111111, \"#46039f\"], [0.2222222222222222, \"#7201a8\"], [0.3333333333333333, \"#9c179e\"], [0.4444444444444444, \"#bd3786\"], [0.5555555555555556, \"#d8576b\"], [0.6666666666666666, \"#ed7953\"], [0.7777777777777778, \"#fb9f3a\"], [0.8888888888888888, \"#fdca26\"], [1.0, \"#f0f921\"]], \"sequentialminus\": [[0.0, \"#0d0887\"], [0.1111111111111111, \"#46039f\"], [0.2222222222222222, \"#7201a8\"], [0.3333333333333333, \"#9c179e\"], [0.4444444444444444, \"#bd3786\"], [0.5555555555555556, \"#d8576b\"], [0.6666666666666666, \"#ed7953\"], [0.7777777777777778, \"#fb9f3a\"], [0.8888888888888888, \"#fdca26\"], [1.0, \"#f0f921\"]]}, \"colorway\": [\"#636efa\", \"#EF553B\", \"#00cc96\", \"#ab63fa\", \"#FFA15A\", \"#19d3f3\", \"#FF6692\", \"#B6E880\", \"#FF97FF\", \"#FECB52\"], \"font\": {\"color\": \"#2a3f5f\"}, \"geo\": {\"bgcolor\": \"white\", \"lakecolor\": \"white\", \"landcolor\": \"#E5ECF6\", \"showlakes\": true, \"showland\": true, \"subunitcolor\": \"white\"}, \"hoverlabel\": {\"align\": \"left\"}, \"hovermode\": \"closest\", \"mapbox\": {\"style\": \"light\"}, \"paper_bgcolor\": \"white\", \"plot_bgcolor\": \"#E5ECF6\", \"polar\": {\"angularaxis\": {\"gridcolor\": \"white\", \"linecolor\": \"white\", \"ticks\": \"\"}, \"bgcolor\": \"#E5ECF6\", \"radialaxis\": {\"gridcolor\": \"white\", \"linecolor\": \"white\", \"ticks\": \"\"}}, \"scene\": {\"xaxis\": {\"backgroundcolor\": \"#E5ECF6\", \"gridcolor\": \"white\", \"gridwidth\": 2, \"linecolor\": \"white\", \"showbackground\": true, \"ticks\": \"\", \"zerolinecolor\": \"white\"}, \"yaxis\": {\"backgroundcolor\": \"#E5ECF6\", \"gridcolor\": \"white\", \"gridwidth\": 2, \"linecolor\": \"white\", \"showbackground\": true, \"ticks\": \"\", \"zerolinecolor\": \"white\"}, \"zaxis\": {\"backgroundcolor\": \"#E5ECF6\", \"gridcolor\": \"white\", \"gridwidth\": 2, \"linecolor\": \"white\", \"showbackground\": true, \"ticks\": \"\", \"zerolinecolor\": \"white\"}}, \"shapedefaults\": {\"line\": {\"color\": \"#2a3f5f\"}}, \"ternary\": {\"aaxis\": {\"gridcolor\": \"white\", \"linecolor\": \"white\", \"ticks\": \"\"}, \"baxis\": {\"gridcolor\": \"white\", \"linecolor\": \"white\", \"ticks\": \"\"}, \"bgcolor\": \"#E5ECF6\", \"caxis\": {\"gridcolor\": \"white\", \"linecolor\": \"white\", \"ticks\": \"\"}}, \"title\": {\"x\": 0.05}, \"xaxis\": {\"automargin\": true, \"gridcolor\": \"white\", \"linecolor\": \"white\", \"ticks\": \"\", \"title\": {\"standoff\": 15}, \"zerolinecolor\": \"white\", \"zerolinewidth\": 2}, \"yaxis\": {\"automargin\": true, \"gridcolor\": \"white\", \"linecolor\": \"white\", \"ticks\": \"\", \"title\": {\"standoff\": 15}, \"zerolinecolor\": \"white\", \"zerolinewidth\": 2}}}, \"title\": {\"text\": \"RMSE\"}, \"xaxis\": {\"anchor\": \"y\", \"domain\": [0.0, 1.0], \"title\": {\"text\": \"Model Name\"}}, \"yaxis\": {\"anchor\": \"x\", \"domain\": [0.0, 1.0], \"range\": [0.8, 1], \"title\": {\"text\": \"RMSE\"}}},\n",
              "                        {\"responsive\": true}\n",
              "                    ).then(function(){\n",
              "                            \n",
              "var gd = document.getElementById('954eae14-7043-4bb5-b2c6-ebf95154346d');\n",
              "var x = new MutationObserver(function (mutations, observer) {{\n",
              "        var display = window.getComputedStyle(gd).display;\n",
              "        if (!display || display === 'none') {{\n",
              "            console.log([gd, 'removed!']);\n",
              "            Plotly.purge(gd);\n",
              "            observer.disconnect();\n",
              "        }}\n",
              "}});\n",
              "\n",
              "// Listen for the removal of the full notebook cells\n",
              "var notebookContainer = gd.closest('#notebook-container');\n",
              "if (notebookContainer) {{\n",
              "    x.observe(notebookContainer, {childList: true});\n",
              "}}\n",
              "\n",
              "// Listen for the clearing of the current output cell\n",
              "var outputEl = gd.closest('.output');\n",
              "if (outputEl) {{\n",
              "    x.observe(outputEl, {childList: true});\n",
              "}}\n",
              "\n",
              "                        })\n",
              "                };\n",
              "                \n",
              "            </script>\n",
              "        </div>\n",
              "</body>\n",
              "</html>"
            ]
          },
          "metadata": {
            "tags": []
          }
        }
      ]
    },
    {
      "cell_type": "markdown",
      "metadata": {
        "id": "MvZ3tdlz_FIA"
      },
      "source": [
        "![RMSE.png](data:image/png;base64,iVBORw0KGgoAAAANSUhEUgAABIEAAAINCAYAAACplG9YAAAgAElEQVR4nO3dX29l62Hf97wevgjNNS914xte8CIAgd4IB3VIQAIsmFaBFgFBIHFrX9BIRSB0gPSPioTTuskkaSvHHtvqWPIolTxGHKvQGXh0zjQSEmk4c3T89OJ4cR6u2XuTXM/ea/241+cDfIGcGeqccbDwDPePe639dwoAAAAAW+/vTP0HAAAAAGDzjEAAAAAAM2AEAgAAAJgBIxAAAADADBiBAAAAAGbACAQAAAAwA0YgAAAAgBkwAgEAAADMgBEIAAAAYAaMQAAAAAAzYAQCAAAAmAEjEAAAAMAMGIEAAAAAZsAIBAAAADADRiAAAACAGTACAQAAAMyAEQgAAABgBoxAAAAAADNgBAIAAACYASMQAAAAwAwYgQAAAABmwAgEAAAAMANGIAAAAIAZMAIBAAAAzIARCAAAAGAGjEAAAAAAM2AEAgAAAJgBIxAAAADADBiBAAAAAGbACAQAAAAwA0YgAAAAgBkwAgEAAADMgBEIAAAAYAaMQAAAAAAzYAQCAAAAmAEjEAAAAMAMGIEAAAAAZmBWI9BHX//NsvNo/4O+9OWvLPz6L335K2Xn0X75lYNfX/j7v/utJ9f/jh/9+K8/+P1F/61F/67uv7Os3/3Wk7b/wwEAAIDZm+UI1B9slg059TizaORZ9vvdOPTR13/zxtd/+4/+bOHo9KUvf2XpEAUAAACwDkag8n6c+fu/9U9u/PqXvvyV8isHv16+9OWvLB10Fv07V717qPtz9P87RiAAAABgk4xA5fYRqHtnT/2/+5WDXy8fff03y9//rX+ycATqDz2rGIEAAACATTMClfe3b/WfvdONQKXcHHZ+9OO/LjuP9su3/+jPFo5A3W1i3/6jP7vTn8sIBAAAAGza7EegbtBZ9M6degTqxp7u39P/9UX/zn79dxrV/x0PhgYAAAA2aZYjUL9FD30u5eYIVMr7dwPV7/JZNALVfuXg1z/473kmEAAAADC2WY5A3WCz7NO6Ov0RqPvf17922wjU141C9a1iRiAAAABg02Y9ApXy/nlAiz7Nqz8Cdbd51bdn3XcEWvT8ISMQAAAAsGmzH4HqX1/26WCr9EegH/34r5c++2fR13f/HSMQAAAAsElGoL/V3abVf4fOkBGoe/ZP/9PBuncBeSYQAAAAMDYjUKX7lK5upBkyAvX/XXd5CLVPBwMAAAA2bVYjEAAAAMBcGYEAAAAAZsAIBAAAADADRiAAAACAGTACAQAAAMyAEQgAAABgBoxAAAAAADNgBAIAAACYASMQAAAAwAwYgQAAAABmwAgEAAAAMANGIAAAAIAZMAIBAAAAzIARCAAAAGAGjEAAAAAAM2AEAgAAAJgBIxAAAADADBiBAAAAAGbACAQAAAAwA0YgAAAAgBkwAgEAAADMgBEIAAAAYAaMQAAAAAAzYAQCAAAAmAEjEAAAAMAMGIEAAAAAZsAIBAAAADADRiAAAACAGTACAQAAAMyAEQgAAABgBoxAAAAAADNgBAIAAACYASMQAAAAwAwYgQAAAABmwAgEAAAAMANGIAAAAIAZMAIBAAAAzIARCAAAAGAGjEAAAAAAM2AEAgAAAJgBIxAAAADADBiBAAAAAGbACAQAAAAwA0YgAAAAgBkwAgEAAADMgBHojh4/eVp2946m/mMAAAAADGIEusWz5y/KzqP9svNo3wgEAAAAPFhGoDvyTiAAAADgITMC3ZERCAAAAHjIjEB3ZAQCAAAAHjIj0B0tG4E+/vQXkiRJkiRppN68/eUEq8B2MALdkRFIkiRJkqTpMwINZwS6IyOQJEmSJEnTZwQazgh0i/oj4rvOLi6vf3/qi1+SJEmSpDllBBrOCNRo6otfkiRJkqQ5ZQQazgjUaOqLX5IkSZKkOWUEGs4I1Gjqi1+SJEmSpDllBBrOCNRo6otfkiRJkqQ5ZQQazgjUaOqLX5IkSZKkOWUEGs4I1Gjqi1+SJEmSpDllBBrOCNRo6otfkiRJkqQ5ZQQazgjUaOqLX5IkSZKkOWUEGs4I1Gjqi1+SJEmSpDllBBrOCNRo6otfkiRJkqQ5ZQQazgjUaOqLX5IkSZKkOWUEGs4I1Gjqi1+SJEmSpDllBBrOCNRo6otfkiRJkqQ5ZQQazgjUaOqLX5IkSZKkOWUEGs4I1Gjqi1+SJEmSpDllBBrOCNRo6otfkiRJkqQ5ZQQazgjUaOqLX5IkSZKkOWUEGs4I1Gjqi1+SJEmSpDllBBrOCNRo6otf2kTf+f6b8n/9ifRFf/jdq8mvSUmSJKnLCDScEahR68X78tNflJevpfd9/HriQ/WTn5dv/d5VOfjonVQOPnpXfvv8qnz8yc8n/8tekiRJ+vhTI1ALI1Cj1ov3j//sTflv/uHb8l+dSm/Lf/uP3pYf/OWbaQ/VT35e/uf/7ar83a+8k8rf/cq78t/999OPQD/+9Ofl+V+8Kd/74ZVUvvfDq+nPSkmSNFlGoOGMQI1aL94//NM35b/41elf5Cmjr37jXfl/pn5hYwRSr4QR6ONPf1F+83fell/9tXdS+dVfe1f+9R9clY8/mf6bUEmSNH5GoOGMQI1aL14jkOqMQEosZQT6r//B28n//0I5/ctvvzECSZI004xAwxmBGrVevEYg1RmBlJgRSIkZgSRJmm9GoOGMQI1aL14jkOqMQErMCKTEjECSJM03I9BwRqBGrRevEUh1RiAlZgRSYkYgSZLmmxFoOCNQo9aL1wikOiOQEjMCKTEjkCRJ880INJwRqFHrxWsEUp0RSIkZgZSYEUiSpPlmBBrOCNSo9eI1AqnOCKTEjEBKzAgkSdJ8MwINZwRq1HrxGoFUZwRSYkYgJWYEkiRpvhmBhjMCNWq9eI1AqjMCKTEjkBJLGIH+/Ee/KP/2/35Tvv0n0pvyb7/zpvzgP0z8d7gkzSQj0HBGoEatF68RSHVGICVmBFJiCSPQd3/4pvyXv+a61Bd99LW35Tv/7mrys1KS5pARaDgjUKPWi9cIpDojkBIzAikxI5DSMgJJ0ngZgYYzAjVqvXiNQKozAikxI5ASMwIpLSOQJI2XEWg4I1Cj1ovXCKQ6I5ASMwIpMSOQ0jICSdJ4GYGGMwI1ar14jUCqMwIpMSOQEjMCKS0jkCSNlxFoOCNQo9aL1wikOiOQEjMCKTEjkNIyAknSeBmBhjMCNWq9eI1AqjMCKTEjkBIzAiktI5AkjZcRaDgjUKPWi9cIpDojkBIzAikxI5DSMgJJ0ngZgYYzAjVqvXiNQKozAikxI5ASMwIpLSOQJI2XEWg4I1Cj1ovXCKQ6I5ASMwIpMSOQ0jICSdJ4GYGGMwI1ar14jUCqMwIpMSOQEjMCKS0jkCSNlxFoOCNQo9aL1wikOiOQEjMCKTEjkNIyAknSeBmBhjMCNWq9eI1AqjMCKTEjkBIzAiktI5AkjZcRaDgjUKPWi9cIpDojkBIzAikxI5DSMgJJ0ngZgYYzAjVqvXiNQKozAikxI5ASMwIpLSOQJI2XEWg4I1Cj1ovXCKQ6I5ASMwIpMSOQ0jICSdJ4GYGGMwI1ar14jUCqMwIpMSOQEjMCKS0jkCSNlxFoOCNQo9aL1wikOiOQEjMCKTEjkNIyAknSeBmBhjMCNWq9eI1AqjMCKTEjkBIzAiktI5AkjZcRaDgjUKPWi9cIpDojkBIzAikxI5DSMgJJ0ngZgYYzAjVqvXiNQKozAikxI5ASMwIpLSOQJI2XEWg4I1Cj1ovXCKQ6I5ASMwIpMSOQ0jICSdJ4GYGG28oR6ODwpOw82i87j/bLweHJrV+/u3e09OvPLi6vf6+u03rxGoFUZwRSYkYgJWYEUlpGIEkaLyPQcFs3Ah2fnt8Ycg4OT8rx6fnSr9/dOypnF5c3/rn++rOLy5VDUuvFawRSnRFIiRmBlJgRSGkZgSRpvIxAw23dCLS7d1SePX9x/c/Pnr8ou3tHC7/22fMXN97Vs+jXjEAaMyOQEjMCKTEjkNIyAknSeBmBhtuqEejlq9dl59F+efnq9cpf6ywagfpf378drD8otV68RiDVGYGUmBFIiRmBlJYRSJLGywg03KxHoFJK2Xm0f+N2sNu+/uDw5MY7g67e/bJcvft8cM++/9YIpOu++o135Ucff9Z0TbX2i6tfln/2L7yo0ft++5tX5T+/mfa6/E9vPjMC6Ub/5g/eljdvp7smr959Xn74l++MQLruo6+9Ld9/8W7Sa1KS5tLbzz5f04owP7MfgbrfX/bg577+u4c+/dlV+fRnbwf3x9+7MgLpuq9+41158VfDr6d19MlPr8q3fs87gfS+3/rmVfnJf2w761r7yU+vjEC60b/6/avyyU+nPS+f//mVEUjXffS1t+VPfzDtNSlJc+nqnXcCDbVVI1Ap93sm0CJnF5crHyTdH4Fa38bmdjDVuR1MibkdTIm5HUxpuR1MksbL7WDDbd0IdNung/Vv56p1A0/9rqH+gNT/9LDWi9cIpDojkBIzAikxI5DSMgJJ0ngZgYbbuhGolC+Gnu62rv7g0x+BHj95uvI2sPrftfNo/4N3CbVevEYg1RmBlJgRSIkZgZSWEUiSxssINNxWjkBjar14jUCqMwIpMSOQEjMCKS0jkCSNlxFoOCNQo9aL1wikOiOQEjMCKTEjkNIyAknSeBmBhjMCNWq9eI1AqjMCKTEjkBIzAiktI5AkjZcRaDgjUKPWi9cIpDojkBIzAikxI5DSMgJJ0ngZgYYzAjVqvXiNQKozAikxI5ASMwIpLSOQJI2XEWg4I1Cj1ovXCKQ6I5ASMwIpMSOQ0jICSdJ4GYGGMwI1ar14jUCqMwIpMSOQEjMCKS0jkCSNlxFoOCNQo9aL1wikOiOQEjMCKTEjkNIyAknSeBmBhjMCNWq9eI1AqjMCKTEjkBIzAiktI5AkjZcRaDgjUKPWi9cIpDojkBIzAikxI5DSMgJJ0ngZgYYzAjVqvXiNQKozAikxI5ASMwIpLSOQJI2XEWg4I1Cj1ovXCKQ6I5ASMwIpMSOQ0jICSdJ4GYGGMwI1ar14jUCqMwIpMSOQEjMCKS0jkCSNlxFoOCNQo9aL1wikOiOQEjMCKTEjkNIyAknSeBmBhjMCNWq9eI1AqjMCKTEjkBIzAiktI5AkjZcRaDgjUKPWi9cIpDojkBIzAikxI5DSMgJJ0ngZgYYzAjVqvXiNQKozAikxI5ASMwIpLSOQJI2XEWg4I1Cj1ovXCKQ6I5ASMwIpMSOQ0jICSdJ4GYGGMwI1ar14jUCqMwIpMSOQEjMCKa2UEeh7L96Ub39H+qI//O6b8uOJz0ppExmBhjMCNWq9eI1AqjMCKTEjkBIzAimtlBHoXz99M/n/Xyin3zh5W/7fn0x7TUqbyAg0nBGoUevFawRSnRFIiRmBlJgRSGkZgZSYEUjbmhFoOCNQo9aL1wikOiOQEjMCKTEjkNIyAikxI5C2NSPQcEagRq0XrxFIdUYgJWYEUmJGIKVlBFJiRiBta0ag4YxAjVovXiOQ6oxASswIpMSMQErLCKTEjEDa1oxAwxmBGrVevEYg1RmBlJgRSIkZgZSWEUiJGYG0rRmBhjMCNWq9eI1AqjMCKTEjkBIzAiktI5ASMwJpWzMCDWcEatR68RqBVGcEUmJGICVmBFJaRiAlZgTStmYEGs4I1Kj14jUCqc4IpMSMQErMCKS0jEBKzAikbc0INJwRqFHrxWsEUp0RSIkZgZSYEUhpGYGUmBFI25oRaDgjUKPWi9cIpDojkBIzAikxI5DSMgIpMSOQtjUj0HBGoEatF68RSHVGICVmBFJiRiClZQRSYkYgbWtGoOGMQI1aL14jkOqMQErMCKTEjEBKywikxIxA2taMQMMZgRq1XrxGINUZgZSYEUiJGYGUlhFIiRmBtK0ZgYYzAjVqvXiNQKozAikxI5ASMwIpLSOQEjMCaVszAg1nBGrUevEagVRnBFJiRiAlZgRSWkYgJWYE0rZmBBrOCNSo9eI1AqnOCKTEjEBKzAiktIxASswIpG3NCDScEahR68VrBFKdEUiJGYGUmBFIaRmBlJgRSNuaEWg4I1Cj1ovXCKQ6I5ASMwIpMSOQ0jICKTEjkLY1I9BwRqBGrRevEUh1RiAlZgRSYkYgpWUEUmJGIG1rRqDhmkegnUf75dnzF6WUUl6+el12Hu2Xl69eX//+s+cvys6j/db/TKzWi9cIpDojkBIzAikxI5DSMgIpMSOQtjUj0HBGoEatF68RSHVGICVmBFJiRiClZQRSYkYgbWtGoOGMQI1aL14jkOqMQErMCKTEjEBKywikxIxA2taMQMMZgRq1XrxGINUZgZSYEUiJGYGUlhFIiRmBtK0ZgYYzAjVqvXiNQKozAikxI5ASMwIpLSOQEjMCaVszAg1nBGrUevEagVRnBFJiRiAlZgRSWkYgJWYE0rZmBBpuLSPQXdpWrRevEUh1RiAlZgRSYkYgpWUEUmJGIG1rRqDhmkeguWu9eI1AqjMCKTEjkBIzAiktI5ASMwJpWzMCDWcEatR68RqBVGcEUmJGICVmBFJaRiAlZgTStmYEGq55BDq7uLzxXKBSSnn85On1bWBnF5et/4lorRevEUh1RiAlZgRSYkYgpWUEUmJGIG1rRqDhmkegg8OTcnx6fv3P3cOhu1Ho4PCkPH7ytPU/E6v14jUCqc4IpMSMQErMCKS0jEBKzAikbc0INFzzCLS7d3Rj5Hn85GnZ3Tu68c8Hhyet/5lYrRevEUh1RiAlZgRSYkYgpWUEUmJGIG1rRqDh1voR8aWUcnx6fuOdQT4ifnVGINUZgZSYEUiJGYGUlhFIiRmBtK0ZgYZb+wh0cHhy4zlARqDVGYFUZwRSYkYgJWYEUlpGICVmBNK2ZgQabi3PBKpvB7vt9rAEB4cn1w+uvsutart7R0u/vvXiNQKpzgikxIxASswIpLSMQErMCKRtzQg0XPMIVD/zZ9G7fg4OT6KeCXR8en7jz9N/sHXf7t7RjXc27e4d3fj61ovXCKQ6I5ASMwIpMSOQ0jICKTEjkLY1I9BwzSNQKV8MK907ZRZ9VHzSp4Pt7h3d+DM+e/5i6TuVFo1a/V9rvXiNQKozAikxI5ASMwIpLSOQEjMCaVszAg23lmcC3aUE3cfXv3z1euWvdRaNQP2vb714jUCqMwIpMSOQEjMCKS0jkBIzAmlbMwINt7YRqH53Tar7jkClfPF/X3072G1ff1/f/XfvjEC67qvfeFc+fjXtgfb5539T/vm/9KJG7/vtb16Vd599Pul1+fazz41AutH/+Ydvy9/8zaSXZfmLv/rMCKTrPvra2/KDf//ZtBdlKeX3v+Oa1Pt+4+Rt+cXbaf8Oh014O/H3pg/ZWm4HO7u4LDuP9uMeAN03ZATqfn/ZO5taF0zvBFKddwIpMe8EUmLeCaS0vBNIiXknkLY17wQabi0jUKf7FK36nTNp7vNMoEXOLi49GFobywikxIxASswIpLSMQErMCKRtzQg03FpHoFJuvnMm8Rax2z4dbNWnmXXPCKrfNdR68RqBVGcEUmJGICVmBFJaRiAlZgTStmYEGm7tI1D3iWCpI1ApXww93Z+xP/j0R6D6/55FD7huvXiNQKozAikxI5ASMwIpLSOQEjMCaVszAg23thGofgdQ/c6abdd68RqBVGcEUmJGICVmBFJaRiAlZgTStmYEGm4tI1D3zpr0B0NvQuvFawRSnRFIiRmBlJgRSGkZgZSYEUjbmhFouFl9RPwmtF68RiDVGYGUmBFIiRmBlJYRSIkZgbStGYGGW9sIdFvbqvXiNQKpzgikxIxASswIpLSMQErMCKRtzQg03NofDD03rRevEUh1RiAlZgRSYkYgpWUEUmJGIG1rRqDhjECNWi9eI5DqjEBKzAikxIxASssIpMSMQNrWjEDDjTICbfOnhbVevEYg1RmBlJgRSIkZgZSWEUiJGYG0rRmBhtv4CNR9cti2ar14jUCqMwIpMSOQEjMCKS0jkBIzAmlbMwINt5YRqH4A9NnF5fWv7+4dlZ1H++Xlq9fr+M9Ear14jUCqMwIpMSOQEjMCKS0jkBIzAmlbMwIN1zwCHRye3Ljd6+DwpJxdXG79p4J1Wi9eI5DqjEBKzAikxIxASssIpMSMQNrWjEDDreUj4p89f3H9z8+evyg7j/bLweFJ67/6QWi9eI1AqjMCKTEjkBIzAiktI5ASMwJpWzMCDbexEWguWi9eI5DqjEBKzAikxIxASssIpMSMQNrWjEDDGYEatV68RiDVGYGUmBFIiRmBlJYRSIkZgbStGYGGW8sIdJe2VevFawRSnRFIiRmBlJgRSGkZgZSYEUjbmhFouI1/RPy2a714jUCqMwIpMSOQEjMCKS0jkBIzAmlbMwINZwRq1HrxGoFUZwRSYkYgJWYEUlpGICVmBNK2ZgQazgjUqPXiNQKpzgikxIxASswIpLSMQErMCKRtzQg0nBGoUevFawRSnRFIiRmBlJgRSGkZgZRYxAj0yS/K9//iTfnuD6+k8t0fXpXv//v268oINJwRqFHrxWsEUp0RSIkZgZSYEUhpGYGUWMQI9Okvyj/+H9+Wv/f1d1L5e19/V/6X//2q/LjxmjICDWcEatR6IBqBVGcEUmJGICVmBFJaRiAlljIC/c4/dlbqff/0nxuBpmQEatR6IBqBVGcEUmJGICVmBFJaRiAlZgRSYkagaRmBGrUeiEYg1RmBlJgRSIkZgZSWEUiJGYGUmBFoWkagRq0HohFIdUYgJWYEUmJGIKVlBFJiRiAlZgSalhGoUeuBaARSnRFIiRmBlJgRSGkZgZSYEUiJGYGmZQRq1HogGoFUZwRSYkYgJWYEUlpGICVmBFJiRqBpGYEatR6IRiDVGYGUmBFIiRmBlJYRSIkZgZSYEWhaRqBGrQeiEUh1RiAlZgRSYkYgpWUEUmJGICVmBJqWEahR64FoBFKdEUiJGYGUmBFIaRmBlJgRSIkZgaZlBGrUeiAagVRnBFJiRiAlZgRSWkYgJWYEUmJGoGkZgRq1HohGINUZgZSYEUiJGYGUlhFIiRmBlJgRaFpGoEatB6IRSHVGICVmBFJiRiClZQRSYkYgJWYEmpYRqFHrgWgEUp0RSIkZgZSYEUhpGYGUmBFIiRmBpmUEatR6IBqBVGcEUmJGICVmBFJaRiAlZgRSYkagaRmBGrUeiEYg1RmBlJgRSIkZgZSWEUiJGYGUmBFoWkagRq0HohFIdUYgJWYEUmJGIKVlBFJiRiAlZgSalhGoUeuBaARSnRFIiRmBlJgRSGkZgZSYEUiJGYGmZQRq1HogGoFUZwRSYkYgJWYEUlpGICVmBFJiRqBpGYEatR6IRiDVGYGUmBFIiRmBlJYRSIkZgZSYEWhaRqBGrQeiEUh1RiAlZgRSYkYgpWUEUmJGICVmBJqWEahR64FoBFKdEUiJGYGUmBFIaRmBlJgRSIkZgaZlBGrUeiAagVRnBFJiRiAlZgRSWkYgJWYEUmJGoGkZgRq1HohGINUZgZSYEUiJGYGUlhFIiRmBlJgRaFpGoEatB6IRSHVGICVmBFJiRiClZQRSYkYgJWYEmpYRqFHrgWgEUp0RSIkZgZSYEUhpGYGUmBFIiRmBpmUEatR6IBqBVGcEUmJGICVmBFJaRiAlZgRSYkagaRmBGrUeiEYg1RmBlJgRSIkZgZSWEUiJGYGUmBFoWkagRq0HohFIdUYgJWYEUmJGIKVlBFJiRiAlZgSalhGoUeuBaARSnRFIiRmBlJgRSGkZgZSYEUiJGYGmZQRq1HogGoFUZwRSYkYgJWYEUlpGICVmBFJiRqBpGYEatR6IRiDVGYGUmBFIiRmBlJYRSIkZgZSYEWhaRqBGrQeiEUh1RiAlZgRSYkYgpWUEUmJGICVmBJqWEahR64FoBFKdEUiJGYGUmBFIaRmBlJgRSIkZgaa1lSPQweFJ2Xm0X3Ye7ZeDw5Nbv3537+j663ce7d/4vbOLyxu/1/+a1gPRCKQ6I5ASMwIpMSOQ0jICKTEjkBIzAk1r60ag49PzG8PPweFJOT49X/r1/d/v/+/PLi5XDkmtB6IRSHVGICVmBFJiRiClZQRSYkYgJWYEmtbWjUC7e0fl2fMX1//87PmLsrt3tPLrHz95ev3Pj588vfH1RiCNmRFIiRmBlJgRSGkZgZSYEUiJGYGmtVUj0MtXr8vOo/3y8tXrlb9W6273Oru4LKV88c6g7v9d/35Xf1BqPRCNQKozAikxI5ASMwIpLSOQEjMCKTEj0LRmPwJ1v18/F2iVg8OTG+8M+vRnV+XTn70d3B9/78oIpOu++o135cVfDb+e1tEnP70q3/o9I5De91vfvCo/+Y9tZ11rP/nplRFIN/pXv39VPvnptOfl8z+/MgLpuo++9rb86Q+mvSY//dnb8n/8kb/D9b7fOHlb/vr/m/bv8E9++rb8zoWzUu/7Hy6/eM3Rcl1dvTMCDTX7EWjn0f6N28e6d/4s8+z5ixu/f/Xul+Xq3eeDe/b9t0YgXffVb7wrP/r4s6ZrqrVfXP2y/LN/4S9qve+3v3lV/vObaa/L//TmMyOQbvRv/uBtefN2umvy6t3n5Yd/+c4IpOs++trb8v0X7ya9Jq/efV6+/SeuSb3vN07elp/9fNq/w39+9cvyj37Xdan3/U//69vy86u219FvP/u8eT+Yq60agUq53zOBhoxG/RGo9a2RbgdTndvBlJjbwZSY28GUltvBlJjbwZSY28GmtXUj0G2fDta/nWvn0f6N3z+7uLwxGvUHpN29oxtf33ogGoFUZwRSYkYgJWYEUlpGICVmBFJiRqBpbd0IVMoXQ0/3fJ/+J3v1R6BSysoHP9f/rv5gVIoRSOvNCKTEjEBKzAiktIxASswIpMSMQNPayhFoTK0HohFIdUYgJWYEUmJGIKVlBFJiRiAlZgSalhGoUeuBaARSnRFIiRmBlJgRSGkZgZSYEUiJGYGmZQRq1HogGoFUZwRSYkYgJWYEUthOAHMAACAASURBVFpGICVmBFJiRqBpGYEatR6IRiDVGYGUmBFIiRmBlJYRSIkZgZSYEWhaRqBGrQeiEUh1RiAlZgRSYkYgpWUEUmJGICVmBJqWEahR64FoBFKdEUiJGYGUmBFIaRmBlJgRSIkZgaZlBGrUeiAagVRnBFJiRiAlZgRSWkYgJWYEUmJGoGkZgRq1HohGINUZgZSYEUiJGYGUlhFIiRmBlJgRaFpGoEatB6IRSHVGICVmBFJiRiClZQRSYkYgJWYEmpYRqFHrgWgEUp0RSIkZgZSYEUhpGYGUmBFIiRmBpmUEatR6IBqBVGcEUmJGICVmBFJaRiAlZgRSYkagaRmBGrUeiEYg1RmBlJgRSIkZgZSWEUiJGYGUmBFoWkagRq0HohFIdUYgJWYEUmJGIKVlBFJiRiAlZgSalhGoUeuBaARSnRFIiRmBlJgRSGkZgZSYEUiJGYGmZQRq1HogGoFUZwRSYkYgJWYEUlpGICVmBFJiRqBpGYEatR6IRiDVGYGUmBFIiRmBlJYRSIkZgZSYEWhaRqBGrQeiEUh1RiAlZgRSYkYgpWUEUmJGICVmBJqWEahR64FoBFKdEUiJGYGUmBFIaRmBlJgRSIkZgaZlBGrUeiAagVRnBFJiRiAlZgRSWkYgJWYEUmJGoGkZgRq1HohGINUZgZSYEUiJGYGUlhFIiRmBlJgRaFpGoEatB6IRSHVGICVmBFJiRiClZQRSYkYgJWYEmpYRqFHrgWgEUp0RSIkZgZSYEUhpGYGUmBFIiRmBpmUEatR6IBqBVGcEUmJGICVmBFJaRiAlZgRSYkagaRmBGrUeiEYg1RmBlJgRSIkZgZSWEUiJGYGUmBFoWkagRq0HohFIdUYgJWYEUmJGIKVlBFJiRiAlZgSalhGoUeuBaARSnRFIiRmBlJgRSGkZgZSYEUiJGYGmZQRq1HogGoFUZwRSYkYgJWYEUlpGICVmBFJiRqBpGYEatR6IRiDVGYGUmBFIiRmBlJYRSIkZgZSYEWhaRqBGrQeiEUh1RiAlZgRSYkYgpWUEUmJGICVmBJqWEahR64FoBFKdEUiJGYGUmBFIaRmBlJgRSIkZgaZlBGrUeiAagVRnBFJiRiAlZgRSWkYgJWYEUmJGoGkZgRq1HohGINUZgZSYEUiJGYGUlhFIiRmBlJgRaFpGoEatB6IRSHVGICVmBFJiRiClZQRSYkYgJWYEmpYRqFHrgWgEUp0RSIkZgZSYEUhpGYGUmBFIiRmBpmUEatR6IBqBVGcEUmJGICVmBFJaRiAlZgRSYkagaRmBGrUeiEYg1RmBlJgRSIkZgZSWEUiJGYGUmBFoWkagRq0HohFIdUYgJWYEUmJGIKVlBFJiRiAlZgSalhGoUeuBaARSnRFIiRmBlJgRSGkZgZSYEUiJGYGmZQRq1HogGoFUZwRSYkYgJWYEUlpGICVmBFJiRqBpGYEatR6IRiDVGYGUmBFIiRmBlJYRSIkZgZSYEWhaRqBGrQeiEUh1RiAlZgRSYkYgpWUEUmJGICVmBJqWEahR64FoBFKdEUiJGYGUmBFIaRmBlJgRSIkZgaZlBGrUeiAagVRnBFJiRiAlZgRSWkYgJWYEUmJGoGkZgRq1HohGINUZgZSYEUiJGYGUlhFIiRmBlJgRaFpGoEatB6IRSHVGICVmBFJiRiClZQRSYkYgJWYEmpYRqFHrgWgEUp0RSIkZgZSYEUhpGYGUmBFIiRmBpmUEatR6IBqBVGcEUmJGICVmBFJaRiAlZgRSYkagaRmBGrUeiEYg1RmBlJgRSIkZgZSWEUiJGYGUmBFoWkagRq0HohFIdUYgJWYEUmJGIKVlBFJiRiAlZgSalhGoUeuBaARSnRFIiRmBlJgRSGkZgZSYEUiJGYGmZQRq1HogGoFUZwRSYkYgJWYEUlpGICVmBFJiRqBpGYEatR6IRiDVGYGUmBFIiRmBlJYRSIkZgZSYEWhaRqBGrQeiEUh1RiAlZgRSYkYgpWUEUmJGICVmBJrWLEegg8OTsvNov+w82i8Hhye3fv3u3tH11+882r/xe60HohFIdUYgJWYEUmJGIKVlBFJiRiAlZgSa1uxGoOPT8xvDz8HhSTk+PV/69f3f7//vWw9EI5DqjEBKzAikxIxASssIpMSMQErMCDSt2Y1Au3tH5dnzF9f//Oz5i7K7d7Ty6x8/eXr9z4+fPL3x9a0HohFIdUYgJWYEUmJGIKVlBFJiRiAlZgSa1qxGoJevXpedR/vl5avXK3+tdnZxWXYe7Zezi8tSyhfvDOr+36UYgbTejEBKzAikxIxASssIpMSMQErMCDQtI9AtI1D3+/VzgWqtB6IRSHVGICVmBFJiRiClZQRSYkYgJWYEmpYR6JYRaOfR/o3bx7p3BgEAAAA8JLMagUq53zOBhoxGAAAAAIlmNwLd9ulgB4cnN35/59H+jd8/u7hc+SBpAAAAgESzG4FK+WLo6Z7vUw8+3e/1f6372u7ZQAAAAAAPzSxHIAAAAIC5MQIBAAAAzIARiCieuUQi1yVpXJMkcl2SqPtk3/oZnzClZ89ffPAJ1DAmIxAxuk9ecyCSxHVJGtckiVyXJOquy+PT83J2cTn1HwfK4ydPbzxv1rnJFIxAxOh/clsppezuHfnpDZNyXZLGNUki1yWJjk/PrwegegQ6Pj0vj588nfBPxlz1B8luFDIEMSYjEBG6t0X213E/tWFKrkvSuCZJ5LokUXddvnz1+sYIVP86jG3RrWD1MNQf02ETjEBEODg8uf6mcdlPDN3Tzdhcl6RxTZLIdUmig8OT6xfW9Tt/6l+HsdSjYz2c9xkoGYMRiMl1Pzks5YtDcdFDJd3Tzdhcl6RxTZLIdUmi+ros5f0I1P/1Ut4PlK5NNml37+jG6NOdi/WvLTtDYd2MQEyufwAuWsDd083YXJekcU2SyHVJov51eXx6vvDdF90L8d29I89kYaO6AbK+/s4uLm/c/vX4ydOFt4OdXVx6FyVrZQQizsHhyY2/iN3TTQLXJWlckyRyXZLo4PDkulo3UB4cnrgW2bju3Fv27LRFY093uy2skxGIOP23i7unmwSuS9K4JknkuiRR90J62UBZv8ju/nnZM1ug1bIR/ODw5IN3Vta3h3m2GutiBCJS95OaIfd0OxjZlPtel65JNs1ZSSLXJYn6o2M3RL589fr6hXZ3bfZv04ExdLcl1s9R63S/Vr+byLvXGMoIRLT73tPtoZOM4S7XpWuSMTkrSeS6JFX/geYHhyc3bgur3zVkoGQs3dm46F1o3fXZ6a5LQxBDGIF4UG67p9tDJ5nCouvSNcmUnJUkcl2Son6RXb/7p5RyPQiVcvPdF7t7R24RY2NWvcNn1e1jhnOGMALxoNx2T7eHTjKF/nXpmmRqzkoSuS5J9PLV6+vrrLvuOv13X3S/74U3Y1o29rhtkaGMQDw4y+7pLsVDJ5mOB6GSxllJItclyXb3jj4YIusH88LYFj1DreMWWoYyAvGg3eehkzAG1ySJXJckcl2S5Ozi8sbg0w2Rx6fnngnEZO57ixjchRGIB+2uD52EsbRckx4+yaY4K0k09Lp0VrJpi4bI3b2jlddl/9YxWJfueux329/frkmWMQKxVZY9dLK26CD1IohNucs1Wcrih0/66Q6b4qwk0V2uS2clY7jveeddGYxh0UfHL+OaZBUjEFtl0UMna92BuOihlO6pZRNuuyY7/Z/W+OkNm+SsJNFdzktnJYmWPcPq4PDEeM4kXJOsYgRi66x6gbLsQFz0ggfW5bYXzYt+WvP4yVMPo2SjnJUkWnVdOitJtOwZVv1PGoOxuCa5jRGIWVn1tkirOFPpfvpdX4P1J5TA2JyVJHJWkmjZs4Jcm0zFNcltjEDMRncfrXtjSdL9tKb76UyX2xuYirOSRM5KEi07L/ufNAZjcU1yF0YgZuXg8MSniRDlrp/u4KG8jMlZSRpnJakWvbvCbbNMadU12Y1EnvE3b0YgZmfn0f7KJXzR281hKrt7R+Xg8OT6p99+isNYnJU8JM5KptJ/d1r/05u86GZsq67J49Pzcnx6fn1dOivnyQjELHU/Lez/Rb27d1R29458E0mE+iO6uxfaPtWBMTkreQiclSQ4u7hcOPR40c1UFl2T3XXYvVPt8ZOnbv+eISMQ/K1FnzCy7MFqMIazi8tyfHp+4yc6rkmm5qwkjbOSZF50k+DZ8xc3xiDv5J03IxD8re6byNqyj0mGMXTfOHZ/SXc/0el079JwjTImZyVpbjsrS3FeMr67vOj2HCvG1N3G/fLV6/L4ydMPHqzvepwPIxD8re4niN1Parp/7n5a455upnDb7TbeXs7YnJUkusutic5LxrbqRbfnWDGFRbfPluJ6nBsjEFTqg7F/ON52T/fx6bkDk42pv3msr9OOn9wwJmclqfovtJ2XTG3Ri27PsSKJ63F+jEBwR+7pJkX3QN7ulocu1yMJnJUkcV6SyHOsSOJ6nB8jENziLvd0HxyefHBfLWxKd8929yJm0fNYXJOMzVlJIuclie7yHCvXJWNxPc6PEQjuYNU93d1qDmPq345Tq3+S46fejMlZSSLnJYlWPXvFdcnYXI/zYgSCO1r1ILXup4pWcsZ2fHr+wbst6msSxnaXs7IU5yXjc16SaNGnNLkumUrL9di9g6j/CaLkMQJBg7OLy+vF3EpOgvqarPnEJqbUvy6dlyRYdF46K5nasr/HF32dF9xs2l2vx/p5gLt7RzeeDUgeIxA0qA+4RT/l9hczY1v2l+5tn9gEm9S/Lp2XJFh0XjormdpdXjx7wc1Y7nptHZ+eL/xkRjIZgWANFq3k3spLEp/YRArnJcmclTwEXnCTZNHzhLqz1PmZyQgEa9BfyRf9Zdx9QomPW2RMd/3EJtcmY3FekshZyUPhBTdpuk9d7P7udkttPiMQbMCiB6IeHJ6sfPI+bMqqT2za3Tsqu3tHrk0m47wkhbOSh8ALbpIs+kGO6zGfEQjW7OzicuFbdOsXOgeHJ36SyKgWXYePnzxdeFuOa5OxOC9J46wkmRfcpFn04Q7ds6o63WDpOs1hBIIN635aU38ajm8eSdBdm7XuJ4wwBecliZyVpPCCm0T1eP7y1etycHjywcfMe9h+FiMQbFh36HUvYrqP9LxN9yLIpz2wKf1rrPvn+pvLRX+Rw6YMOS+dlWyas5IkXnCTqvs7u7se62u147lqGYxAMIL7PkOgPjS7vMBhE/rXWv0Xc/1ujEU/fYRNuM956axkLM5K0njBTbruOWrdtep8zGEEghH1HzS5zPHp+Y238XZ/sXtxw5j6H9t9cHjywS0RsCl3OS+dlSRwVpLAC27SdLcmdtdg/zba7h1rbl8cnxEIAi26vaH/Ygc26ezicuGDUF2DJHFWMjVnJSm84CZR/12UtePT83J8eu72xQkYgSBI/0F/y97Ge3x67qBko/ovrBd9IkmfZ7MwFmclKYaclaU4L9kML7hJdXx6/sHf09212J2Dj5889c61kRiBIEj/U3D6D0mFqdx2HXo2C2NyVpLqLteh85JN84KbZN1tix1/f4/PCARBum8M64Pw7OLyxnMxfAIJY+tfg4t4NgtjclaS6C5nZSnOS8Z1lxfc3a1kXogzloPDk+vbFxc9A9A1uVlGIAiz6FNGur+8u98rxQscsng2C2O761lZivOSLM5LxrbqBffu3lE5ODy59yfZQqv6XZH12OOa3DwjEITqDr76rbrdwyZ9HC0pPJuFqa06K+vfd14ytbucl85KNmXRC+5Fv3ZweHLruy+coWyKa3IcRiB4IOpPIPFxtKTwbBbS9D+tyXlJCuclac4uLsvx6fmNsbx/nS5irGRTXJPjMALBA9G9dXzRx9F2b/Pt8gKHsXg2C2nq22yclyS57bx0VjK2/hB5dnG58FPFFt1u650XbIJrchxGIHhgbvs42kUHYb2O14cmrMN9ns0CY7rvedn/SaLzknVbdl46K5nKqueu7O4dXZ+jO4/2r4dK5yKb5JrcPCMQPHD9nyqu+kby+PTcTxnZmNuezVKKn3QzLeclKfrnpbOSqfUfGP34ydOl76SEMbgmN8cIBA/Yoo+jXfaNZPf2Sh9By1j6t+J4QC9Tuu28rF90Oy8Zk7OSRMen5x/cLusZVkzJNbk+RiDYIsu+kSzFw1AZX/9FtAf0kqQ+Lxd9pLxrk7E4K0nU3T5bP2PtLu9O657h4vYc1m3INel6XMwIBFukv4b3P1IepnLfB/T6lAc2rT4vF32kPExhyMPMnZdsSv1x3Xd5d2T3LsrdvSPvpGQj7nNNuh6XMwLBllr1kfL9p+rDpg15oHn/f+96ZRNWfaS8s5KxOStJtOg2nFVf1z2GADblLtek63E5IxBsqVUfKV/KzXUcxrbqAb39B6J6QC+bdNtHyjsrmdJtDzOvz0tnJVOqB8r6Gu3+2bNbGJPrcTUjEGy5+gVO/RbK+vfnfAgyvlUP6O2/wPGAXsbUXWvOShLc9jDz+rx0VjK17mO6X756fT2ad2fpXZ8nBOvielzNCAQz0t0T2z0kzaeOkGDVrYseiMoUnJUkWnXrorOSKdW3LT57/uL6evTptEzB9Xg7IxDMSPd8i+6FTLeS1/q34nT/O7dCsCndOyxWfbqdZ7MwpqFnZfe/dV6yCfW70VZ9up3zkrHV12b9botSDJSMz/V4OyMQzEz/qfq17htJP/lmCrd9TLJnszAmZyXJ6vOyf1aW4rxkOi9fvb4+Dxc9w8qttYxp1fVYynyvSSMQzNTx6fkHB96ibyQXPaTXN5VsWvdTbs9mYWp3PStL+fAhvc5KNq1+R5DzkjT1Wbm7d3R9q62Bkin0/+6e8zVpBAJKKYs/Fae/mO/uHbmPllF015lns5Bm2Scu1uels5Kx9N8R5LwkRX+g7J+b3Q96VnHtsi79v7vnfk0agYBSyoe34pTy4aeQdC9sPGeAsbQ8mwU2Ydm4U3/CnbOSKTgvSXV2cfnBc1gWXZ993lHJpsz9mjQCAQste0hv95yBRYcnbMLQZ7Nsy1/U5Fv0kF5nJVMYcl46K9m07trrBvT6nOz0H2i+6GtgXeZ+TRqBgIVue0hv92tud2As93k2S/9/5wUOm3TbQ3qdlYzNeUma/kBZX5/1LbQ7j/av37Hm3ZRs0pyvSSMQcKtF982WUj74KSOMadmzWUp5f8uDZ7MwJmclqZadl/XtYc5LprDo3Ow+sQmmMIdr0ggE3KpbyutvDF++en3jgOzeMulTSBjLshcr9Vt8PZuFMTkrSbXovKwfZu68ZCrHp+cf3DLrjGRKc7gmjUDAnfRf3Dx7/uLGTw89aJIU9QN6+89mgU1rPSu9C4Ox9D/8wXnJFPpn5tnF5QfnpPGcMc3hmjQCAYM8fvL0+q2RdzkAj0/PDUVsXH3Lw7LnX3hIL2O671nZfa3rlE3q3x626Lx0DTKW/rNZ+s+kPDg8uR4ql90Gbrxknbb9mjQCAYPc597YbXqaPtm6v6iXPZulFA/pZVz3fY5A/QlOqd888vDVL2qWnZfOSsbWvw2nfiHejegHhycfDOp+0MimbOs1aQQC7mXIT6mXPU1/0aEJ67Do2SydbXqwH7mGvqOnf176tCY2bdl56axkamcXl+X49PzGOL67d3Tje8fuFkaDJWPYlmvSCARsVPfNZV/9QErYBA/p5aHpn5c+rYmx9M/L+5yVrk82pXsx3V13ZxeXH3zveHB44tZFRrMt16QRCNio/jpe/7pbHRjbfR7Sm/5WXrZP/Y2lT2tiSvc5Kz3Hik1a9dwVP1BkCttwTRqBgI3p1vL+s4D6D6SEsdz1Ib2eY8WYnj1/8cGnj/i0JqZ0nweae44VY+iuyZofKDKlh3xNGoGAjVp0GHZvOe9e3PjGkbHc9SG9nmPFWOoX0P1PH3EuMpX7PNB82XkJm+QHiqR5SNekEQjYqPoFTlf3lvHuifvdGPRQDk4envvcruA5Vkyhvu5Wfbqd51ixSfe9tWvZeemB5mya56WR5iFdk0YgYBTdg9Pqnxb2n57/+MlTt98wOc+xYmrLPq2pezbLqucRwJgWDZIeaA6QzQgEjK57/kXHT7VJ4TlWpOgPQd0/1+el2xOZyqLnWHW/7oHmANmMQMAkurecv3z1euGD1dzywFRWPccKpnJ2cVmOT89v3GK77F1rsEnLnmNV/54HmgPkMgIBk1n0k+1S3PLAtFY9x6qU4oHmTKK77rqzsrvFtnZweLLyo7xhnRY9D2jRiO6HOgBZjEBAFLc8kGLRc6xK8UBzprNqGF80XnrGGmNa9EBzP9QByGMEAqK45YF0HmjO1BbdQtt/B8bB4cmdP+EJ1sFzrAAeBiMQEMUtD6S6ywPN3fbAFBY9uLx77tqiWxphU+ohyA91ADIZgYA4bnkg1aoHmrvtgan0H9Dbf1ZL/bBeGIsf6gBkMgIBse5yy8My3TebfvrNui26xcFtDyTpvxutG4GWcV6yKX6oA5DHCAQ8GItueVikfmbL7t6Rj/dm49z2QIqzi8t7jefOS8bgOVYAOYxAwINx1xcnx6fnN77ZXPQxtrBObnsg1W3jufOSKXiOFcB0jEDAVln01vPuBbq3mbNJbnsg0aoHlTsvmYrnWAFMxwgEbJWDw5PrW3PqF9x3eY4QrEPLs6xgTM5LUtz3OVYADGcEArbGotsYvKBhand9llX3tW6DYAzOS1Lc9zlW3f/GWQkwjBEI2BqLbrPpHnba6X7i7YUOY7nrs6w8oJcxOS9Jddtw7qwEaGMEArZK/VHdL1+9Xvgw3u4byLu+OwPG4AG9jM15SaJVz7EqxVkJ0MoIBGyl7q3i3TeK9Yudzm3faMJYPKCXKTkveSiclQDtjEDALOzuHZVnz19cv9jxCU0k8YBekjgvSeWsBGhnBAJmofuGsXsR030j2el+kuibScbmAb2kWXVeOiuZirMSYD2MQMBs1Lc49L+RPD49L8en555/weg8oJdEy85LZyVTcVYCrIcRCJid49PzD55tUX/aSClfvABy6wNj8YBeUvXPS2clU3JWArQzAgGz1j33ouPhp0zJA3pJ5awkibMSYDgjEDB7B4cn1z9VfPzk6Qc/VezeXu6bScbmAb0kcVaSylkJcHdGIIBy86eI9QuY3b2jcnB4svBjaWHTPNCcNM5KEjkrAe7OCASwxKIXOweHJ7f+lNtPHlknDzQnnbOSBM5KgLsxAgEscXZxWY5Pz69/st1943jbC5vj03PfYLJ2HmhOKmclSZyVAKsZgQCW6L5p7L6Z7J41UOt/HG33Isg3l2zSXR7S6/ksjMVZSSpnJcCHjEAAK6x6vsXu3tH1Txa7TynpP4cANmXVQ3o9n4WxOStJ5awEuMkIBHAH/W8cHz95+sE3i903mjCWRc9i8XwWpuSsJJGzEuA9IxDAAN1DJmveTk4Cz2chibOSVM5KYK6MQAADdD9B7B4yeXZxeeOn34t0z8lwCwSb5PksJBlyVnZf57xkk5yVwFwZgQAG6n8cbfciZ5H6Y2lXfR2sg+ezkOQ+Z2UpzkvG46wE5sgIBNBo0e0Oy77m4PDETxAZjeezkOQuZ2X9dc5LxuKsBObECASwYfXbx+tvILt/9nwMxuL5LKRzXpLAWQlsMyMQwIZ1bx9/+er19U8Wu9sj7vp8DFgHz7IinfOSBM5KYJsZgQA2qPtGspQvfsJ9cHhy4zaHuzwfA9bJs6xI5bwkibMS2FZGIIANqt8+Xv80u5Ry/QIHpuBZVqRxXpLIWQlsGyMQwEhevnp9/c1h99yLWvfQSc8cIIFnszClVeels5IkzkrgoTECAUxgd+/oxnMDdveOrt9GvuzjamFMns1Civq8dFaSxlkJPDRGIICRnV1c3njhsuijaHf3jm79yaG3nLMpns1Civq8dFaSxlkJPERGIICJnV1cfvC8ge4ni6scn577KTgb4dksJHJWksZZCTxERiCAiXW3NXQ/LayfL9A5Pj2/8c3loq+BTfAsK1I4K0nmrAQeCiMQQID+R9HW3yTu7h1dv/DZebRfDg5P7vTTb1g3z7Jias5KHgJnJZDMCAQQbNEzMLqfJsKY1vEsK+/GYFOclaTw3D8gnREIINjx6fkHzxTwdnISDHk+i2ezsCnOSlJ5lhWQxggEEKy79aF7Bsaij5vtnoHhxQ5juu35LJ7NwpiclaTyLCsgjREIIFz/GRj1x83u7h2Vg8OTW58zUH9zCeuy7Pksns3CFJyVpPIsKyCJEQjggejf7lB/U9l9Q3lwePLBT7mPT88/+Ik4bIpnszA1ZyUPhfMSmIIRCOCB6p4z0P30sPvpdv3C5uWr1x/8RBw2ybNZSOOsJJXzEpiCEQjggepetHTfLJ5dXH7w08ODw5MPvsGETfJsFtI4K0nlvASmYAQCeMBWPd+i+z0Ym2ezkMZZSSrnJTA2IxDAFnj85OkHPz3c3TvyTSGT8mwW0jgrSeW8BMZiBALYQmcXl0t/YghT8WwW0jgrSeW8BDbFCASwhXxTSCLPZiGNs5JUzktgU4xAAMBoPJsF4G6cl8AmGIEAgNF5NgvA3TgvgXUyAgEAk/NsFoC7cV4CLYxAAMDkPJsF4G6cl0ALIxAAAADADBiBAAAAAGbACAQAAAAwA0YgAAAAgBkwAgEAAADMgBEIAAAAYAaMQAAAAAAzYAQCAAAAmAEjEAAAAMAMGIEAAAAAZsAIBAAAADADRiAAAACAGTACAQAAAMyAEQgAAABgBoxAAMCDdHx6Xg4OT+70tS9fvS47j/bLy1evN/ynAgDIZQQCANbu4PCk7DzaL8+ev7jx68+evyg7j/bvPN6ssu4RqPszH5+e3/j1s4vLtfx5AQCmZgQCANZu2aDS/XrqCNT9+eqvMwIBANvCCAQArN3B4Uk5Pj2/Mah0Q8yi8ebs4rLsPNq/7uzi8oN/Z/9rFo1J3X+zq//fvm0E6gaferzqj0D9/8bOo/0b/57dvaNyJbK5LQAAAftJREFUdnFZdveOrn//8ZOn1++C6v/ZbvuzAwCsixEIAFi7blA5Pj2/HnTOLi6vf60eVbpxp9YfghZ9Tf/f0//nx0+eXv9v7jMCdWNN97WLRqD639O9g6jTjT/d13R/jt29o6X/m1V/dgCAdTECAQBr1x9USinXw0h/8OjeKVPrjyCLvqb+9ywbeXb3jsrjJ0/vNQJ1/+/u3UC33Q72+MnTGwNP906gzqL/dvdOobv82QEA1sUIBACsXX9QqUeVu4w39a8v+5r639O/1apuyAhUf/2iEai+1at/S9iyEah+SHY9HN32ZwcAWBcjEACwdvWg0r2rpxtB7jsC9W/P6iwagZa57wjU/fu729n671yqnxnUf9fS0BEIAGDTjEAAwNr1B5X6dqmht4P1P25+0ZjU/5rOkBFo0YOsFw02rSPQbX92AIB1MQIBAGvXH1RqQx4M3f/fdGPMok/tqnXPJRoyAtX/zlVjU+vtYLf92QEA1sUIBACs3X1GoFLu9hHxB4cnNz4aftG/Z9nHtw8dgbr/3aLRqn5uT+sItOrPDgCwLkYgAAAAgBkwAgEAAADMgBEIAAAAYAaMQAAAAAAzYAQCAAAAmAEjEAAAAMAMGIEAAAAAZsAIBAAAADADRiAAAACAGTACAQAAAMyAEQgAAABgBoxAAAAAADPw/wOoP0kShv/xHwAAAABJRU5ErkJggg==)"
      ]
    },
    {
      "cell_type": "markdown",
      "metadata": {
        "id": "tr_xErBl9FnH"
      },
      "source": [
        "Graph for MAE"
      ]
    },
    {
      "cell_type": "code",
      "metadata": {
        "colab": {
          "base_uri": "https://localhost:8080/",
          "height": 542
        },
        "id": "Wk_0WpBA9b9-",
        "outputId": "c561f244-6317-43e8-a03e-b0ed6d941ea6"
      },
      "source": [
        "import plotly.express as px\r\n",
        "fig = px.bar(df, x='Model Name', y='MAE', range_y=[0.6, 0.8], title=\"MAE\")\r\n",
        "fig.show()"
      ],
      "execution_count": null,
      "outputs": [
        {
          "output_type": "display_data",
          "data": {
            "text/html": [
              "<html>\n",
              "<head><meta charset=\"utf-8\" /></head>\n",
              "<body>\n",
              "    <div>\n",
              "            <script src=\"https://cdnjs.cloudflare.com/ajax/libs/mathjax/2.7.5/MathJax.js?config=TeX-AMS-MML_SVG\"></script><script type=\"text/javascript\">if (window.MathJax) {MathJax.Hub.Config({SVG: {font: \"STIX-Web\"}});}</script>\n",
              "                <script type=\"text/javascript\">window.PlotlyConfig = {MathJaxConfig: 'local'};</script>\n",
              "        <script src=\"https://cdn.plot.ly/plotly-latest.min.js\"></script>    \n",
              "            <div id=\"19dab3d9-f3b8-4bb4-a11e-72ccdb92a03c\" class=\"plotly-graph-div\" style=\"height:525px; width:100%;\"></div>\n",
              "            <script type=\"text/javascript\">\n",
              "                \n",
              "                    window.PLOTLYENV=window.PLOTLYENV || {};\n",
              "                    \n",
              "                if (document.getElementById(\"19dab3d9-f3b8-4bb4-a11e-72ccdb92a03c\")) {\n",
              "                    Plotly.newPlot(\n",
              "                        '19dab3d9-f3b8-4bb4-a11e-72ccdb92a03c',\n",
              "                        [{\"alignmentgroup\": \"True\", \"hoverlabel\": {\"namelength\": 0}, \"hovertemplate\": \"Model Name=%{x}<br>MAE=%{y}\", \"legendgroup\": \"\", \"marker\": {\"color\": \"#636efa\"}, \"name\": \"\", \"offsetgroup\": \"\", \"orientation\": \"v\", \"showlegend\": false, \"textposition\": \"auto\", \"type\": \"bar\", \"x\": [\"KNN Cosine Similarity User Based Model\", \"KNN Pearson Similarity User Based Model\", \"KNN Cosine Similarity Item Based Model\", \"KNN Pearson Similarity Item Based Model\", \"NMF User Based Model\", \"SVD User Based Model\"], \"xaxis\": \"x\", \"y\": [0.7551534843767146, 0.7569987686140615, 0.7614945393121586, 0.7522015252807513, 0.7103432411473882, 0.6781533806512337], \"yaxis\": \"y\"}],\n",
              "                        {\"barmode\": \"relative\", \"legend\": {\"tracegroupgap\": 0}, \"template\": {\"data\": {\"bar\": [{\"error_x\": {\"color\": \"#2a3f5f\"}, \"error_y\": {\"color\": \"#2a3f5f\"}, \"marker\": {\"line\": {\"color\": \"#E5ECF6\", \"width\": 0.5}}, \"type\": \"bar\"}], \"barpolar\": [{\"marker\": {\"line\": {\"color\": \"#E5ECF6\", \"width\": 0.5}}, \"type\": \"barpolar\"}], \"carpet\": [{\"aaxis\": {\"endlinecolor\": \"#2a3f5f\", \"gridcolor\": \"white\", \"linecolor\": \"white\", \"minorgridcolor\": \"white\", \"startlinecolor\": \"#2a3f5f\"}, \"baxis\": {\"endlinecolor\": \"#2a3f5f\", \"gridcolor\": \"white\", \"linecolor\": \"white\", \"minorgridcolor\": \"white\", \"startlinecolor\": \"#2a3f5f\"}, \"type\": \"carpet\"}], \"choropleth\": [{\"colorbar\": {\"outlinewidth\": 0, \"ticks\": \"\"}, \"type\": \"choropleth\"}], \"contour\": [{\"colorbar\": {\"outlinewidth\": 0, \"ticks\": \"\"}, \"colorscale\": [[0.0, \"#0d0887\"], [0.1111111111111111, \"#46039f\"], [0.2222222222222222, \"#7201a8\"], [0.3333333333333333, \"#9c179e\"], [0.4444444444444444, \"#bd3786\"], [0.5555555555555556, \"#d8576b\"], [0.6666666666666666, \"#ed7953\"], [0.7777777777777778, \"#fb9f3a\"], [0.8888888888888888, \"#fdca26\"], [1.0, \"#f0f921\"]], \"type\": \"contour\"}], \"contourcarpet\": [{\"colorbar\": {\"outlinewidth\": 0, \"ticks\": \"\"}, \"type\": \"contourcarpet\"}], \"heatmap\": [{\"colorbar\": {\"outlinewidth\": 0, \"ticks\": \"\"}, \"colorscale\": [[0.0, \"#0d0887\"], [0.1111111111111111, \"#46039f\"], [0.2222222222222222, \"#7201a8\"], [0.3333333333333333, \"#9c179e\"], [0.4444444444444444, \"#bd3786\"], [0.5555555555555556, \"#d8576b\"], [0.6666666666666666, \"#ed7953\"], [0.7777777777777778, \"#fb9f3a\"], [0.8888888888888888, \"#fdca26\"], [1.0, \"#f0f921\"]], \"type\": \"heatmap\"}], \"heatmapgl\": [{\"colorbar\": {\"outlinewidth\": 0, \"ticks\": \"\"}, \"colorscale\": [[0.0, \"#0d0887\"], [0.1111111111111111, \"#46039f\"], [0.2222222222222222, \"#7201a8\"], [0.3333333333333333, \"#9c179e\"], [0.4444444444444444, \"#bd3786\"], [0.5555555555555556, \"#d8576b\"], [0.6666666666666666, \"#ed7953\"], [0.7777777777777778, \"#fb9f3a\"], [0.8888888888888888, \"#fdca26\"], [1.0, \"#f0f921\"]], \"type\": \"heatmapgl\"}], \"histogram\": [{\"marker\": {\"colorbar\": {\"outlinewidth\": 0, \"ticks\": \"\"}}, \"type\": \"histogram\"}], \"histogram2d\": [{\"colorbar\": {\"outlinewidth\": 0, \"ticks\": \"\"}, \"colorscale\": [[0.0, \"#0d0887\"], [0.1111111111111111, \"#46039f\"], [0.2222222222222222, \"#7201a8\"], [0.3333333333333333, \"#9c179e\"], [0.4444444444444444, \"#bd3786\"], [0.5555555555555556, \"#d8576b\"], [0.6666666666666666, \"#ed7953\"], [0.7777777777777778, \"#fb9f3a\"], [0.8888888888888888, \"#fdca26\"], [1.0, \"#f0f921\"]], \"type\": \"histogram2d\"}], \"histogram2dcontour\": [{\"colorbar\": {\"outlinewidth\": 0, \"ticks\": \"\"}, \"colorscale\": [[0.0, \"#0d0887\"], [0.1111111111111111, \"#46039f\"], [0.2222222222222222, \"#7201a8\"], [0.3333333333333333, \"#9c179e\"], [0.4444444444444444, \"#bd3786\"], [0.5555555555555556, \"#d8576b\"], [0.6666666666666666, \"#ed7953\"], [0.7777777777777778, \"#fb9f3a\"], [0.8888888888888888, \"#fdca26\"], [1.0, \"#f0f921\"]], \"type\": \"histogram2dcontour\"}], \"mesh3d\": [{\"colorbar\": {\"outlinewidth\": 0, \"ticks\": \"\"}, \"type\": \"mesh3d\"}], \"parcoords\": [{\"line\": {\"colorbar\": {\"outlinewidth\": 0, \"ticks\": \"\"}}, \"type\": \"parcoords\"}], \"pie\": [{\"automargin\": true, \"type\": \"pie\"}], \"scatter\": [{\"marker\": {\"colorbar\": {\"outlinewidth\": 0, \"ticks\": \"\"}}, \"type\": \"scatter\"}], \"scatter3d\": [{\"line\": {\"colorbar\": {\"outlinewidth\": 0, \"ticks\": \"\"}}, \"marker\": {\"colorbar\": {\"outlinewidth\": 0, \"ticks\": \"\"}}, \"type\": \"scatter3d\"}], \"scattercarpet\": [{\"marker\": {\"colorbar\": {\"outlinewidth\": 0, \"ticks\": \"\"}}, \"type\": \"scattercarpet\"}], \"scattergeo\": [{\"marker\": {\"colorbar\": {\"outlinewidth\": 0, \"ticks\": \"\"}}, \"type\": \"scattergeo\"}], \"scattergl\": [{\"marker\": {\"colorbar\": {\"outlinewidth\": 0, \"ticks\": \"\"}}, \"type\": \"scattergl\"}], \"scattermapbox\": [{\"marker\": {\"colorbar\": {\"outlinewidth\": 0, \"ticks\": \"\"}}, \"type\": \"scattermapbox\"}], \"scatterpolar\": [{\"marker\": {\"colorbar\": {\"outlinewidth\": 0, \"ticks\": \"\"}}, \"type\": \"scatterpolar\"}], \"scatterpolargl\": [{\"marker\": {\"colorbar\": {\"outlinewidth\": 0, \"ticks\": \"\"}}, \"type\": \"scatterpolargl\"}], \"scatterternary\": [{\"marker\": {\"colorbar\": {\"outlinewidth\": 0, \"ticks\": \"\"}}, \"type\": \"scatterternary\"}], \"surface\": [{\"colorbar\": {\"outlinewidth\": 0, \"ticks\": \"\"}, \"colorscale\": [[0.0, \"#0d0887\"], [0.1111111111111111, \"#46039f\"], [0.2222222222222222, \"#7201a8\"], [0.3333333333333333, \"#9c179e\"], [0.4444444444444444, \"#bd3786\"], [0.5555555555555556, \"#d8576b\"], [0.6666666666666666, \"#ed7953\"], [0.7777777777777778, \"#fb9f3a\"], [0.8888888888888888, \"#fdca26\"], [1.0, \"#f0f921\"]], \"type\": \"surface\"}], \"table\": [{\"cells\": {\"fill\": {\"color\": \"#EBF0F8\"}, \"line\": {\"color\": \"white\"}}, \"header\": {\"fill\": {\"color\": \"#C8D4E3\"}, \"line\": {\"color\": \"white\"}}, \"type\": \"table\"}]}, \"layout\": {\"annotationdefaults\": {\"arrowcolor\": \"#2a3f5f\", \"arrowhead\": 0, \"arrowwidth\": 1}, \"coloraxis\": {\"colorbar\": {\"outlinewidth\": 0, \"ticks\": \"\"}}, \"colorscale\": {\"diverging\": [[0, \"#8e0152\"], [0.1, \"#c51b7d\"], [0.2, \"#de77ae\"], [0.3, \"#f1b6da\"], [0.4, \"#fde0ef\"], [0.5, \"#f7f7f7\"], [0.6, \"#e6f5d0\"], [0.7, \"#b8e186\"], [0.8, \"#7fbc41\"], [0.9, \"#4d9221\"], [1, \"#276419\"]], \"sequential\": [[0.0, \"#0d0887\"], [0.1111111111111111, \"#46039f\"], [0.2222222222222222, \"#7201a8\"], [0.3333333333333333, \"#9c179e\"], [0.4444444444444444, \"#bd3786\"], [0.5555555555555556, \"#d8576b\"], [0.6666666666666666, \"#ed7953\"], [0.7777777777777778, \"#fb9f3a\"], [0.8888888888888888, \"#fdca26\"], [1.0, \"#f0f921\"]], \"sequentialminus\": [[0.0, \"#0d0887\"], [0.1111111111111111, \"#46039f\"], [0.2222222222222222, \"#7201a8\"], [0.3333333333333333, \"#9c179e\"], [0.4444444444444444, \"#bd3786\"], [0.5555555555555556, \"#d8576b\"], [0.6666666666666666, \"#ed7953\"], [0.7777777777777778, \"#fb9f3a\"], [0.8888888888888888, \"#fdca26\"], [1.0, \"#f0f921\"]]}, \"colorway\": [\"#636efa\", \"#EF553B\", \"#00cc96\", \"#ab63fa\", \"#FFA15A\", \"#19d3f3\", \"#FF6692\", \"#B6E880\", \"#FF97FF\", \"#FECB52\"], \"font\": {\"color\": \"#2a3f5f\"}, \"geo\": {\"bgcolor\": \"white\", \"lakecolor\": \"white\", \"landcolor\": \"#E5ECF6\", \"showlakes\": true, \"showland\": true, \"subunitcolor\": \"white\"}, \"hoverlabel\": {\"align\": \"left\"}, \"hovermode\": \"closest\", \"mapbox\": {\"style\": \"light\"}, \"paper_bgcolor\": \"white\", \"plot_bgcolor\": \"#E5ECF6\", \"polar\": {\"angularaxis\": {\"gridcolor\": \"white\", \"linecolor\": \"white\", \"ticks\": \"\"}, \"bgcolor\": \"#E5ECF6\", \"radialaxis\": {\"gridcolor\": \"white\", \"linecolor\": \"white\", \"ticks\": \"\"}}, \"scene\": {\"xaxis\": {\"backgroundcolor\": \"#E5ECF6\", \"gridcolor\": \"white\", \"gridwidth\": 2, \"linecolor\": \"white\", \"showbackground\": true, \"ticks\": \"\", \"zerolinecolor\": \"white\"}, \"yaxis\": {\"backgroundcolor\": \"#E5ECF6\", \"gridcolor\": \"white\", \"gridwidth\": 2, \"linecolor\": \"white\", \"showbackground\": true, \"ticks\": \"\", \"zerolinecolor\": \"white\"}, \"zaxis\": {\"backgroundcolor\": \"#E5ECF6\", \"gridcolor\": \"white\", \"gridwidth\": 2, \"linecolor\": \"white\", \"showbackground\": true, \"ticks\": \"\", \"zerolinecolor\": \"white\"}}, \"shapedefaults\": {\"line\": {\"color\": \"#2a3f5f\"}}, \"ternary\": {\"aaxis\": {\"gridcolor\": \"white\", \"linecolor\": \"white\", \"ticks\": \"\"}, \"baxis\": {\"gridcolor\": \"white\", \"linecolor\": \"white\", \"ticks\": \"\"}, \"bgcolor\": \"#E5ECF6\", \"caxis\": {\"gridcolor\": \"white\", \"linecolor\": \"white\", \"ticks\": \"\"}}, \"title\": {\"x\": 0.05}, \"xaxis\": {\"automargin\": true, \"gridcolor\": \"white\", \"linecolor\": \"white\", \"ticks\": \"\", \"title\": {\"standoff\": 15}, \"zerolinecolor\": \"white\", \"zerolinewidth\": 2}, \"yaxis\": {\"automargin\": true, \"gridcolor\": \"white\", \"linecolor\": \"white\", \"ticks\": \"\", \"title\": {\"standoff\": 15}, \"zerolinecolor\": \"white\", \"zerolinewidth\": 2}}}, \"title\": {\"text\": \"MAE\"}, \"xaxis\": {\"anchor\": \"y\", \"domain\": [0.0, 1.0], \"title\": {\"text\": \"Model Name\"}}, \"yaxis\": {\"anchor\": \"x\", \"domain\": [0.0, 1.0], \"range\": [0.6, 0.8], \"title\": {\"text\": \"MAE\"}}},\n",
              "                        {\"responsive\": true}\n",
              "                    ).then(function(){\n",
              "                            \n",
              "var gd = document.getElementById('19dab3d9-f3b8-4bb4-a11e-72ccdb92a03c');\n",
              "var x = new MutationObserver(function (mutations, observer) {{\n",
              "        var display = window.getComputedStyle(gd).display;\n",
              "        if (!display || display === 'none') {{\n",
              "            console.log([gd, 'removed!']);\n",
              "            Plotly.purge(gd);\n",
              "            observer.disconnect();\n",
              "        }}\n",
              "}});\n",
              "\n",
              "// Listen for the removal of the full notebook cells\n",
              "var notebookContainer = gd.closest('#notebook-container');\n",
              "if (notebookContainer) {{\n",
              "    x.observe(notebookContainer, {childList: true});\n",
              "}}\n",
              "\n",
              "// Listen for the clearing of the current output cell\n",
              "var outputEl = gd.closest('.output');\n",
              "if (outputEl) {{\n",
              "    x.observe(outputEl, {childList: true});\n",
              "}}\n",
              "\n",
              "                        })\n",
              "                };\n",
              "                \n",
              "            </script>\n",
              "        </div>\n",
              "</body>\n",
              "</html>"
            ]
          },
          "metadata": {
            "tags": []
          }
        }
      ]
    },
    {
      "cell_type": "markdown",
      "metadata": {
        "id": "Eqf6Q_qvAJ8R"
      },
      "source": [
        "![MAE.png](data:image/png;base64,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)"
      ]
    },
    {
      "cell_type": "markdown",
      "metadata": {
        "id": "31m1C8Tz9GCG"
      },
      "source": [
        "Graph for Fit Time"
      ]
    },
    {
      "cell_type": "code",
      "metadata": {
        "colab": {
          "base_uri": "https://localhost:8080/",
          "height": 542
        },
        "id": "Q4lQ4njD9fXj",
        "outputId": "0ffccf47-c3bb-488c-9b69-d2c54c3404e6"
      },
      "source": [
        "import plotly.express as px\r\n",
        "fig = px.bar(df, x='Model Name', y='Fit Time', title=\"Fit Time\")\r\n",
        "fig.show()"
      ],
      "execution_count": null,
      "outputs": [
        {
          "output_type": "display_data",
          "data": {
            "text/html": [
              "<html>\n",
              "<head><meta charset=\"utf-8\" /></head>\n",
              "<body>\n",
              "    <div>\n",
              "            <script src=\"https://cdnjs.cloudflare.com/ajax/libs/mathjax/2.7.5/MathJax.js?config=TeX-AMS-MML_SVG\"></script><script type=\"text/javascript\">if (window.MathJax) {MathJax.Hub.Config({SVG: {font: \"STIX-Web\"}});}</script>\n",
              "                <script type=\"text/javascript\">window.PlotlyConfig = {MathJaxConfig: 'local'};</script>\n",
              "        <script src=\"https://cdn.plot.ly/plotly-latest.min.js\"></script>    \n",
              "            <div id=\"1e88b9fe-5285-44d8-9b77-af3bb1d4f3e4\" class=\"plotly-graph-div\" style=\"height:525px; width:100%;\"></div>\n",
              "            <script type=\"text/javascript\">\n",
              "                \n",
              "                    window.PLOTLYENV=window.PLOTLYENV || {};\n",
              "                    \n",
              "                if (document.getElementById(\"1e88b9fe-5285-44d8-9b77-af3bb1d4f3e4\")) {\n",
              "                    Plotly.newPlot(\n",
              "                        '1e88b9fe-5285-44d8-9b77-af3bb1d4f3e4',\n",
              "                        [{\"alignmentgroup\": \"True\", \"hoverlabel\": {\"namelength\": 0}, \"hovertemplate\": \"Model Name=%{x}<br>Fit Time=%{y}\", \"legendgroup\": \"\", \"marker\": {\"color\": \"#636efa\"}, \"name\": \"\", \"offsetgroup\": \"\", \"orientation\": \"v\", \"showlegend\": false, \"textposition\": \"auto\", \"type\": \"bar\", \"x\": [\"KNN Cosine Similarity User Based Model\", \"KNN Pearson Similarity User Based Model\", \"KNN Cosine Similarity Item Based Model\", \"KNN Pearson Similarity Item Based Model\", \"NMF User Based Model\", \"SVD User Based Model\"], \"xaxis\": \"x\", \"y\": [0.36176490783691406, 0.5195438861846924, 23.439316034317017, 25.075798988342285, 6.710554599761963, 5.420250415802002], \"yaxis\": \"y\"}],\n",
              "                        {\"barmode\": \"relative\", \"legend\": {\"tracegroupgap\": 0}, \"template\": {\"data\": {\"bar\": [{\"error_x\": {\"color\": \"#2a3f5f\"}, \"error_y\": {\"color\": \"#2a3f5f\"}, \"marker\": {\"line\": {\"color\": \"#E5ECF6\", \"width\": 0.5}}, \"type\": \"bar\"}], \"barpolar\": [{\"marker\": {\"line\": {\"color\": \"#E5ECF6\", \"width\": 0.5}}, \"type\": \"barpolar\"}], \"carpet\": [{\"aaxis\": {\"endlinecolor\": \"#2a3f5f\", \"gridcolor\": \"white\", \"linecolor\": \"white\", \"minorgridcolor\": \"white\", \"startlinecolor\": \"#2a3f5f\"}, \"baxis\": {\"endlinecolor\": \"#2a3f5f\", \"gridcolor\": \"white\", \"linecolor\": \"white\", \"minorgridcolor\": \"white\", \"startlinecolor\": \"#2a3f5f\"}, \"type\": \"carpet\"}], \"choropleth\": [{\"colorbar\": {\"outlinewidth\": 0, \"ticks\": \"\"}, \"type\": \"choropleth\"}], \"contour\": [{\"colorbar\": {\"outlinewidth\": 0, \"ticks\": \"\"}, \"colorscale\": [[0.0, \"#0d0887\"], [0.1111111111111111, \"#46039f\"], [0.2222222222222222, \"#7201a8\"], [0.3333333333333333, \"#9c179e\"], [0.4444444444444444, \"#bd3786\"], [0.5555555555555556, \"#d8576b\"], [0.6666666666666666, \"#ed7953\"], [0.7777777777777778, \"#fb9f3a\"], [0.8888888888888888, \"#fdca26\"], [1.0, \"#f0f921\"]], \"type\": \"contour\"}], \"contourcarpet\": [{\"colorbar\": {\"outlinewidth\": 0, \"ticks\": \"\"}, \"type\": \"contourcarpet\"}], \"heatmap\": [{\"colorbar\": {\"outlinewidth\": 0, \"ticks\": \"\"}, \"colorscale\": [[0.0, \"#0d0887\"], [0.1111111111111111, \"#46039f\"], [0.2222222222222222, \"#7201a8\"], [0.3333333333333333, \"#9c179e\"], [0.4444444444444444, \"#bd3786\"], [0.5555555555555556, \"#d8576b\"], [0.6666666666666666, \"#ed7953\"], [0.7777777777777778, \"#fb9f3a\"], [0.8888888888888888, \"#fdca26\"], [1.0, \"#f0f921\"]], \"type\": \"heatmap\"}], \"heatmapgl\": [{\"colorbar\": {\"outlinewidth\": 0, \"ticks\": \"\"}, \"colorscale\": [[0.0, \"#0d0887\"], [0.1111111111111111, \"#46039f\"], [0.2222222222222222, \"#7201a8\"], [0.3333333333333333, \"#9c179e\"], [0.4444444444444444, \"#bd3786\"], [0.5555555555555556, \"#d8576b\"], [0.6666666666666666, \"#ed7953\"], [0.7777777777777778, \"#fb9f3a\"], [0.8888888888888888, \"#fdca26\"], [1.0, \"#f0f921\"]], \"type\": \"heatmapgl\"}], \"histogram\": [{\"marker\": {\"colorbar\": {\"outlinewidth\": 0, \"ticks\": \"\"}}, \"type\": \"histogram\"}], \"histogram2d\": [{\"colorbar\": {\"outlinewidth\": 0, \"ticks\": \"\"}, \"colorscale\": [[0.0, \"#0d0887\"], [0.1111111111111111, \"#46039f\"], [0.2222222222222222, \"#7201a8\"], [0.3333333333333333, \"#9c179e\"], [0.4444444444444444, \"#bd3786\"], [0.5555555555555556, \"#d8576b\"], [0.6666666666666666, \"#ed7953\"], [0.7777777777777778, \"#fb9f3a\"], [0.8888888888888888, \"#fdca26\"], [1.0, \"#f0f921\"]], \"type\": \"histogram2d\"}], \"histogram2dcontour\": [{\"colorbar\": {\"outlinewidth\": 0, \"ticks\": \"\"}, \"colorscale\": [[0.0, \"#0d0887\"], [0.1111111111111111, \"#46039f\"], [0.2222222222222222, \"#7201a8\"], [0.3333333333333333, \"#9c179e\"], [0.4444444444444444, \"#bd3786\"], [0.5555555555555556, \"#d8576b\"], [0.6666666666666666, \"#ed7953\"], [0.7777777777777778, \"#fb9f3a\"], [0.8888888888888888, \"#fdca26\"], [1.0, \"#f0f921\"]], \"type\": \"histogram2dcontour\"}], \"mesh3d\": [{\"colorbar\": {\"outlinewidth\": 0, \"ticks\": \"\"}, \"type\": \"mesh3d\"}], \"parcoords\": [{\"line\": {\"colorbar\": {\"outlinewidth\": 0, \"ticks\": \"\"}}, \"type\": \"parcoords\"}], \"pie\": [{\"automargin\": true, \"type\": \"pie\"}], \"scatter\": [{\"marker\": {\"colorbar\": {\"outlinewidth\": 0, \"ticks\": \"\"}}, \"type\": \"scatter\"}], \"scatter3d\": [{\"line\": {\"colorbar\": {\"outlinewidth\": 0, \"ticks\": \"\"}}, \"marker\": {\"colorbar\": {\"outlinewidth\": 0, \"ticks\": \"\"}}, \"type\": \"scatter3d\"}], \"scattercarpet\": [{\"marker\": {\"colorbar\": {\"outlinewidth\": 0, \"ticks\": \"\"}}, \"type\": \"scattercarpet\"}], \"scattergeo\": [{\"marker\": {\"colorbar\": {\"outlinewidth\": 0, \"ticks\": \"\"}}, \"type\": \"scattergeo\"}], \"scattergl\": [{\"marker\": {\"colorbar\": {\"outlinewidth\": 0, \"ticks\": \"\"}}, \"type\": \"scattergl\"}], \"scattermapbox\": [{\"marker\": {\"colorbar\": {\"outlinewidth\": 0, \"ticks\": \"\"}}, \"type\": \"scattermapbox\"}], \"scatterpolar\": [{\"marker\": {\"colorbar\": {\"outlinewidth\": 0, \"ticks\": \"\"}}, \"type\": \"scatterpolar\"}], \"scatterpolargl\": [{\"marker\": {\"colorbar\": {\"outlinewidth\": 0, \"ticks\": \"\"}}, \"type\": \"scatterpolargl\"}], \"scatterternary\": [{\"marker\": {\"colorbar\": {\"outlinewidth\": 0, \"ticks\": \"\"}}, \"type\": \"scatterternary\"}], \"surface\": [{\"colorbar\": {\"outlinewidth\": 0, \"ticks\": \"\"}, \"colorscale\": [[0.0, \"#0d0887\"], [0.1111111111111111, \"#46039f\"], [0.2222222222222222, \"#7201a8\"], [0.3333333333333333, \"#9c179e\"], [0.4444444444444444, \"#bd3786\"], [0.5555555555555556, \"#d8576b\"], [0.6666666666666666, \"#ed7953\"], [0.7777777777777778, \"#fb9f3a\"], [0.8888888888888888, \"#fdca26\"], [1.0, \"#f0f921\"]], \"type\": \"surface\"}], \"table\": [{\"cells\": {\"fill\": {\"color\": \"#EBF0F8\"}, \"line\": {\"color\": \"white\"}}, \"header\": {\"fill\": {\"color\": \"#C8D4E3\"}, \"line\": {\"color\": \"white\"}}, \"type\": \"table\"}]}, \"layout\": {\"annotationdefaults\": {\"arrowcolor\": \"#2a3f5f\", \"arrowhead\": 0, \"arrowwidth\": 1}, \"coloraxis\": {\"colorbar\": {\"outlinewidth\": 0, \"ticks\": \"\"}}, \"colorscale\": {\"diverging\": [[0, \"#8e0152\"], [0.1, \"#c51b7d\"], [0.2, \"#de77ae\"], [0.3, \"#f1b6da\"], [0.4, \"#fde0ef\"], [0.5, \"#f7f7f7\"], [0.6, \"#e6f5d0\"], [0.7, \"#b8e186\"], [0.8, \"#7fbc41\"], [0.9, \"#4d9221\"], [1, \"#276419\"]], \"sequential\": [[0.0, \"#0d0887\"], [0.1111111111111111, \"#46039f\"], [0.2222222222222222, \"#7201a8\"], [0.3333333333333333, \"#9c179e\"], [0.4444444444444444, \"#bd3786\"], [0.5555555555555556, \"#d8576b\"], [0.6666666666666666, \"#ed7953\"], [0.7777777777777778, \"#fb9f3a\"], [0.8888888888888888, \"#fdca26\"], [1.0, \"#f0f921\"]], \"sequentialminus\": [[0.0, \"#0d0887\"], [0.1111111111111111, \"#46039f\"], [0.2222222222222222, \"#7201a8\"], [0.3333333333333333, \"#9c179e\"], [0.4444444444444444, \"#bd3786\"], [0.5555555555555556, \"#d8576b\"], [0.6666666666666666, \"#ed7953\"], [0.7777777777777778, \"#fb9f3a\"], [0.8888888888888888, \"#fdca26\"], [1.0, \"#f0f921\"]]}, \"colorway\": [\"#636efa\", \"#EF553B\", \"#00cc96\", \"#ab63fa\", \"#FFA15A\", \"#19d3f3\", \"#FF6692\", \"#B6E880\", \"#FF97FF\", \"#FECB52\"], \"font\": {\"color\": \"#2a3f5f\"}, \"geo\": {\"bgcolor\": \"white\", \"lakecolor\": \"white\", \"landcolor\": \"#E5ECF6\", \"showlakes\": true, \"showland\": true, \"subunitcolor\": \"white\"}, \"hoverlabel\": {\"align\": \"left\"}, \"hovermode\": \"closest\", \"mapbox\": {\"style\": \"light\"}, \"paper_bgcolor\": \"white\", \"plot_bgcolor\": \"#E5ECF6\", \"polar\": {\"angularaxis\": {\"gridcolor\": \"white\", \"linecolor\": \"white\", \"ticks\": \"\"}, \"bgcolor\": \"#E5ECF6\", \"radialaxis\": {\"gridcolor\": \"white\", \"linecolor\": \"white\", \"ticks\": \"\"}}, \"scene\": {\"xaxis\": {\"backgroundcolor\": \"#E5ECF6\", \"gridcolor\": \"white\", \"gridwidth\": 2, \"linecolor\": \"white\", \"showbackground\": true, \"ticks\": \"\", \"zerolinecolor\": \"white\"}, \"yaxis\": {\"backgroundcolor\": \"#E5ECF6\", \"gridcolor\": \"white\", \"gridwidth\": 2, \"linecolor\": \"white\", \"showbackground\": true, \"ticks\": \"\", \"zerolinecolor\": \"white\"}, \"zaxis\": {\"backgroundcolor\": \"#E5ECF6\", \"gridcolor\": \"white\", \"gridwidth\": 2, \"linecolor\": \"white\", \"showbackground\": true, \"ticks\": \"\", \"zerolinecolor\": \"white\"}}, \"shapedefaults\": {\"line\": {\"color\": \"#2a3f5f\"}}, \"ternary\": {\"aaxis\": {\"gridcolor\": \"white\", \"linecolor\": \"white\", \"ticks\": \"\"}, \"baxis\": {\"gridcolor\": \"white\", \"linecolor\": \"white\", \"ticks\": \"\"}, \"bgcolor\": \"#E5ECF6\", \"caxis\": {\"gridcolor\": \"white\", \"linecolor\": \"white\", \"ticks\": \"\"}}, \"title\": {\"x\": 0.05}, \"xaxis\": {\"automargin\": true, \"gridcolor\": \"white\", \"linecolor\": \"white\", \"ticks\": \"\", \"title\": {\"standoff\": 15}, \"zerolinecolor\": \"white\", \"zerolinewidth\": 2}, \"yaxis\": {\"automargin\": true, \"gridcolor\": \"white\", \"linecolor\": \"white\", \"ticks\": \"\", \"title\": {\"standoff\": 15}, \"zerolinecolor\": \"white\", \"zerolinewidth\": 2}}}, \"title\": {\"text\": \"Fit Time\"}, \"xaxis\": {\"anchor\": \"y\", \"domain\": [0.0, 1.0], \"title\": {\"text\": \"Model Name\"}}, \"yaxis\": {\"anchor\": \"x\", \"domain\": [0.0, 1.0], \"title\": {\"text\": \"Fit Time\"}}},\n",
              "                        {\"responsive\": true}\n",
              "                    ).then(function(){\n",
              "                            \n",
              "var gd = document.getElementById('1e88b9fe-5285-44d8-9b77-af3bb1d4f3e4');\n",
              "var x = new MutationObserver(function (mutations, observer) {{\n",
              "        var display = window.getComputedStyle(gd).display;\n",
              "        if (!display || display === 'none') {{\n",
              "            console.log([gd, 'removed!']);\n",
              "            Plotly.purge(gd);\n",
              "            observer.disconnect();\n",
              "        }}\n",
              "}});\n",
              "\n",
              "// Listen for the removal of the full notebook cells\n",
              "var notebookContainer = gd.closest('#notebook-container');\n",
              "if (notebookContainer) {{\n",
              "    x.observe(notebookContainer, {childList: true});\n",
              "}}\n",
              "\n",
              "// Listen for the clearing of the current output cell\n",
              "var outputEl = gd.closest('.output');\n",
              "if (outputEl) {{\n",
              "    x.observe(outputEl, {childList: true});\n",
              "}}\n",
              "\n",
              "                        })\n",
              "                };\n",
              "                \n",
              "            </script>\n",
              "        </div>\n",
              "</body>\n",
              "</html>"
            ]
          },
          "metadata": {
            "tags": []
          }
        }
      ]
    },
    {
      "cell_type": "markdown",
      "metadata": {
        "id": "5nkHqNSgANMP"
      },
      "source": [
        "![fit time.png](data:image/png;base64,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)"
      ]
    }
  ]
}