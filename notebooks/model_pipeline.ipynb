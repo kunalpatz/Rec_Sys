{
  "nbformat": 4,
  "nbformat_minor": 0,
  "metadata": {
    "colab": {
      "name": "model_pipeline.ipynb",
      "provenance": [],
      "collapsed_sections": [
        "yF_qSqZNz4IP",
        "33GTlniUPZCm",
        "rNid-NANPZCu"
      ]
    },
    "kernelspec": {
      "name": "python3",
      "display_name": "Python 3"
    }
  },
  "cells": [
    {
      "cell_type": "markdown",
      "metadata": {
        "id": "oitxUVS1jGVS"
      },
      "source": [
        "# **Working With Surprise Library** "
      ]
    },
    {
      "cell_type": "markdown",
      "metadata": {
        "id": "qJq4vZSj7sjw"
      },
      "source": [
        "*Author: Kunal PATIL (AIS S20)*"
      ]
    },
    {
      "cell_type": "markdown",
      "metadata": {
        "id": "sECP5LQp73ou"
      },
      "source": [
        "Created with Google Colab"
      ]
    },
    {
      "cell_type": "markdown",
      "metadata": {
        "id": "EcKQsgzU7bjk"
      },
      "source": [
        "# Data Loading\r\n"
      ]
    },
    {
      "cell_type": "markdown",
      "metadata": {
        "id": "Z_XKoSgg7TXi"
      },
      "source": [
        "Install Surprise Library"
      ]
    },
    {
      "cell_type": "code",
      "metadata": {
        "id": "hTs82f_LJ3_6",
        "colab": {
          "base_uri": "https://localhost:8080/"
        },
        "outputId": "56dab0ed-3428-4175-8dde-ae51b8c155a5"
      },
      "source": [
        "pip install surprise"
      ],
      "execution_count": null,
      "outputs": [
        {
          "output_type": "stream",
          "text": [
            "Collecting surprise\n",
            "  Downloading https://files.pythonhosted.org/packages/61/de/e5cba8682201fcf9c3719a6fdda95693468ed061945493dea2dd37c5618b/surprise-0.1-py2.py3-none-any.whl\n",
            "Collecting scikit-surprise\n",
            "\u001b[?25l  Downloading https://files.pythonhosted.org/packages/97/37/5d334adaf5ddd65da99fc65f6507e0e4599d092ba048f4302fe8775619e8/scikit-surprise-1.1.1.tar.gz (11.8MB)\n",
            "\u001b[K     |████████████████████████████████| 11.8MB 7.4MB/s \n",
            "\u001b[?25hRequirement already satisfied: joblib>=0.11 in /usr/local/lib/python3.6/dist-packages (from scikit-surprise->surprise) (1.0.0)\n",
            "Requirement already satisfied: numpy>=1.11.2 in /usr/local/lib/python3.6/dist-packages (from scikit-surprise->surprise) (1.19.5)\n",
            "Requirement already satisfied: scipy>=1.0.0 in /usr/local/lib/python3.6/dist-packages (from scikit-surprise->surprise) (1.4.1)\n",
            "Requirement already satisfied: six>=1.10.0 in /usr/local/lib/python3.6/dist-packages (from scikit-surprise->surprise) (1.15.0)\n",
            "Building wheels for collected packages: scikit-surprise\n",
            "  Building wheel for scikit-surprise (setup.py) ... \u001b[?25l\u001b[?25hdone\n",
            "  Created wheel for scikit-surprise: filename=scikit_surprise-1.1.1-cp36-cp36m-linux_x86_64.whl size=1618248 sha256=5f2d6dc8bdfac11acc12df63b3922579d2ba4194370bf9f7549fffe622048f1f\n",
            "  Stored in directory: /root/.cache/pip/wheels/78/9c/3d/41b419c9d2aff5b6e2b4c0fc8d25c538202834058f9ed110d0\n",
            "Successfully built scikit-surprise\n",
            "Installing collected packages: scikit-surprise, surprise\n",
            "Successfully installed scikit-surprise-1.1.1 surprise-0.1\n"
          ],
          "name": "stdout"
        }
      ]
    },
    {
      "cell_type": "markdown",
      "metadata": {
        "id": "2qS6RnCnjBiJ"
      },
      "source": [
        "Install Necessary Libraries"
      ]
    },
    {
      "cell_type": "code",
      "metadata": {
        "id": "Y_WOuWOLKal0"
      },
      "source": [
        "from surprise import KNNWithMeans, BaselineOnly\r\n",
        "from surprise import Dataset, Reader\r\n",
        "from surprise.model_selection import cross_validate\r\n",
        "from surprise.model_selection import train_test_split\r\n",
        "from surprise import accuracy\r\n",
        "import pandas as pd\r\n",
        "import numpy as np\r\n",
        "from tabulate import tabulate"
      ],
      "execution_count": null,
      "outputs": []
    },
    {
      "cell_type": "markdown",
      "metadata": {
        "id": "m8hxNFvhi_2U"
      },
      "source": [
        "Read the file"
      ]
    },
    {
      "cell_type": "code",
      "metadata": {
        "colab": {
          "base_uri": "https://localhost:8080/"
        },
        "id": "L6oQRybKNF0f",
        "outputId": "d5d82130-051e-41dd-8de6-39a0ae14bf1d"
      },
      "source": [
        "df = pd.read_csv('ratings.csv')\r\n",
        "df.columns"
      ],
      "execution_count": null,
      "outputs": [
        {
          "output_type": "execute_result",
          "data": {
            "text/plain": [
              "Index(['userId', 'movieId', 'rating', 'timestamp'], dtype='object')"
            ]
          },
          "metadata": {
            "tags": []
          },
          "execution_count": 3
        }
      ]
    },
    {
      "cell_type": "markdown",
      "metadata": {
        "id": "-Osjsf-KkB8Q"
      },
      "source": [
        "Create dataset with Reader"
      ]
    },
    {
      "cell_type": "code",
      "metadata": {
        "colab": {
          "base_uri": "https://localhost:8080/"
        },
        "id": "AGLneL-PLgSa",
        "outputId": "d5bb9570-212e-4c11-8424-d951a1f7dedd"
      },
      "source": [
        "reader = Reader(line_format='user item rating timestamp', sep=',', skip_lines=1)\r\n",
        "data = Dataset.load_from_file('ratings.csv', reader)\r\n",
        "data"
      ],
      "execution_count": null,
      "outputs": [
        {
          "output_type": "execute_result",
          "data": {
            "text/plain": [
              "<surprise.dataset.DatasetAutoFolds at 0x7fd937812358>"
            ]
          },
          "metadata": {
            "tags": []
          },
          "execution_count": 4
        }
      ]
    },
    {
      "cell_type": "markdown",
      "metadata": {
        "id": "GswX61rBRGQC"
      },
      "source": [
        "Split data into train and test sets"
      ]
    },
    {
      "cell_type": "code",
      "metadata": {
        "id": "I9pimhY9Qn6J"
      },
      "source": [
        "trainset, testset = train_test_split(data, test_size=.25)"
      ],
      "execution_count": null,
      "outputs": []
    },
    {
      "cell_type": "markdown",
      "metadata": {
        "id": "6GX1zgp0pj9z"
      },
      "source": [
        "# Model Pipelines"
      ]
    },
    {
      "cell_type": "markdown",
      "metadata": {
        "id": "htB4kxijkJCA"
      },
      "source": [
        "## User Based Model"
      ]
    },
    {
      "cell_type": "markdown",
      "metadata": {
        "id": "uECJHDMolbMN"
      },
      "source": [
        "### 1. Cosine Similarity"
      ]
    },
    {
      "cell_type": "markdown",
      "metadata": {
        "id": "SqbH7mTkS-AG"
      },
      "source": [
        "Train a user based model using cosine similarity"
      ]
    },
    {
      "cell_type": "code",
      "metadata": {
        "id": "IH-ttF2tUhJ5"
      },
      "source": [
        "sim_options = {\r\n",
        "    \"name\": \"cosine\",\r\n",
        "    \"user_based\": True\r\n",
        "}"
      ],
      "execution_count": null,
      "outputs": []
    },
    {
      "cell_type": "code",
      "metadata": {
        "id": "FqkvHsJwRC51"
      },
      "source": [
        "algo = KNNWithMeans(sim_options=sim_options)"
      ],
      "execution_count": null,
      "outputs": []
    },
    {
      "cell_type": "markdown",
      "metadata": {
        "id": "1zs4Hl96VODP"
      },
      "source": [
        "Fit the model"
      ]
    },
    {
      "cell_type": "code",
      "metadata": {
        "colab": {
          "base_uri": "https://localhost:8080/"
        },
        "id": "8Bi1Mkt3VP-b",
        "outputId": "d81c246b-1f86-4158-be96-0983de4f03e7"
      },
      "source": [
        "algo.fit(trainset)"
      ],
      "execution_count": null,
      "outputs": [
        {
          "output_type": "stream",
          "text": [
            "Computing the cosine similarity matrix...\n",
            "Done computing similarity matrix.\n"
          ],
          "name": "stdout"
        },
        {
          "output_type": "execute_result",
          "data": {
            "text/plain": [
              "<surprise.prediction_algorithms.knns.KNNWithMeans at 0x7fd937812048>"
            ]
          },
          "metadata": {
            "tags": []
          },
          "execution_count": 8
        }
      ]
    },
    {
      "cell_type": "markdown",
      "metadata": {
        "id": "pzDThpD3SUb_"
      },
      "source": [
        "Make predictions with the model"
      ]
    },
    {
      "cell_type": "code",
      "metadata": {
        "id": "1vzcmSAeSVCt"
      },
      "source": [
        "predictions = algo.test(testset)"
      ],
      "execution_count": null,
      "outputs": []
    },
    {
      "cell_type": "markdown",
      "metadata": {
        "id": "dfxC84_uSVNl"
      },
      "source": [
        "Evaluate model with RMSE & MAE"
      ]
    },
    {
      "cell_type": "code",
      "metadata": {
        "colab": {
          "base_uri": "https://localhost:8080/"
        },
        "id": "L-qfGmGwSXl2",
        "outputId": "2af4ae72-a26c-4618-8fc3-d7be9a5a2164"
      },
      "source": [
        "accuracy.rmse(predictions)\r\n",
        "accuracy.mae(predictions)"
      ],
      "execution_count": null,
      "outputs": [
        {
          "output_type": "stream",
          "text": [
            "RMSE: 0.9093\n",
            "MAE:  0.6924\n"
          ],
          "name": "stdout"
        },
        {
          "output_type": "execute_result",
          "data": {
            "text/plain": [
              "0.6924355823073866"
            ]
          },
          "metadata": {
            "tags": []
          },
          "execution_count": 10
        }
      ]
    },
    {
      "cell_type": "markdown",
      "metadata": {
        "id": "yF_qSqZNz4IP"
      },
      "source": [
        "### 2. Pearson Correlation"
      ]
    },
    {
      "cell_type": "markdown",
      "metadata": {
        "id": "f-Odhj0X0N2z"
      },
      "source": [
        "Train a user based model using pearson correlation"
      ]
    },
    {
      "cell_type": "code",
      "metadata": {
        "id": "YrTuf-X20C1W"
      },
      "source": [
        "sim_options = {\"name\": \"pearson_baseline\",\r\n",
        "               \"shrinkage\": 0,  # no shrinkage,\r\n",
        "               \"user_based\": True, \r\n",
        "               }"
      ],
      "execution_count": null,
      "outputs": []
    },
    {
      "cell_type": "code",
      "metadata": {
        "id": "BPzO9GVkVrNf"
      },
      "source": [
        "algo = KNNWithMeans(sim_options=sim_options)"
      ],
      "execution_count": null,
      "outputs": []
    },
    {
      "cell_type": "markdown",
      "metadata": {
        "id": "1thd3kdaVrNi"
      },
      "source": [
        "Fit the model"
      ]
    },
    {
      "cell_type": "code",
      "metadata": {
        "colab": {
          "base_uri": "https://localhost:8080/"
        },
        "id": "VbdGYj6fVrNl",
        "outputId": "500d0680-f4b8-42ce-a774-363852243cdf"
      },
      "source": [
        "algo.fit(trainset)"
      ],
      "execution_count": null,
      "outputs": [
        {
          "output_type": "stream",
          "text": [
            "Estimating biases using als...\n",
            "Computing the pearson_baseline similarity matrix...\n",
            "Done computing similarity matrix.\n"
          ],
          "name": "stdout"
        },
        {
          "output_type": "execute_result",
          "data": {
            "text/plain": [
              "<surprise.prediction_algorithms.knns.KNNWithMeans at 0x7fd937855c18>"
            ]
          },
          "metadata": {
            "tags": []
          },
          "execution_count": 13
        }
      ]
    },
    {
      "cell_type": "markdown",
      "metadata": {
        "id": "z-1Dj6PYVrNn"
      },
      "source": [
        "Make predictions with the model"
      ]
    },
    {
      "cell_type": "code",
      "metadata": {
        "id": "MU8J7KyMVrNo"
      },
      "source": [
        "predictions = algo.test(testset)"
      ],
      "execution_count": null,
      "outputs": []
    },
    {
      "cell_type": "markdown",
      "metadata": {
        "id": "OEEJJxAfVrNp"
      },
      "source": [
        "Evaluate model with RMSE & MAE"
      ]
    },
    {
      "cell_type": "code",
      "metadata": {
        "colab": {
          "base_uri": "https://localhost:8080/"
        },
        "id": "cjkmzenTVrNq",
        "outputId": "0613ae1e-209c-414b-fb41-f2f393615b74"
      },
      "source": [
        "accuracy.rmse(predictions)\r\n",
        "accuracy.mae(predictions)"
      ],
      "execution_count": null,
      "outputs": [
        {
          "output_type": "stream",
          "text": [
            "RMSE: 0.9206\n",
            "MAE:  0.6985\n"
          ],
          "name": "stdout"
        },
        {
          "output_type": "execute_result",
          "data": {
            "text/plain": [
              "0.6984888004410842"
            ]
          },
          "metadata": {
            "tags": []
          },
          "execution_count": 15
        }
      ]
    },
    {
      "cell_type": "markdown",
      "metadata": {
        "id": "CV8nABl16Zr2"
      },
      "source": [
        "## Item Based Model"
      ]
    },
    {
      "cell_type": "markdown",
      "metadata": {
        "id": "33GTlniUPZCm"
      },
      "source": [
        "### 1. Cosine Similarity"
      ]
    },
    {
      "cell_type": "markdown",
      "metadata": {
        "id": "vHPiyG-XPZCp"
      },
      "source": [
        "Train a item based model using cosine similarity"
      ]
    },
    {
      "cell_type": "code",
      "metadata": {
        "id": "5RGboRL2PZCq"
      },
      "source": [
        "sim_options = {\r\n",
        "    \"name\": \"cosine\",\r\n",
        "    \"user_based\": False, \r\n",
        "}"
      ],
      "execution_count": null,
      "outputs": []
    },
    {
      "cell_type": "code",
      "metadata": {
        "id": "F7xy2pSdPZCq"
      },
      "source": [
        "algo = KNNWithMeans(sim_options=sim_options)"
      ],
      "execution_count": null,
      "outputs": []
    },
    {
      "cell_type": "markdown",
      "metadata": {
        "id": "lnf9yV8yXRXH"
      },
      "source": [
        "Fit the model"
      ]
    },
    {
      "cell_type": "code",
      "metadata": {
        "colab": {
          "base_uri": "https://localhost:8080/"
        },
        "id": "20oaQXYGXTs_",
        "outputId": "98370667-c976-4a36-a9f8-3f998d724126"
      },
      "source": [
        "algo.fit(trainset)"
      ],
      "execution_count": null,
      "outputs": [
        {
          "output_type": "stream",
          "text": [
            "Computing the cosine similarity matrix...\n",
            "Done computing similarity matrix.\n"
          ],
          "name": "stdout"
        },
        {
          "output_type": "execute_result",
          "data": {
            "text/plain": [
              "<surprise.prediction_algorithms.knns.KNNWithMeans at 0x7fd9377f4e10>"
            ]
          },
          "metadata": {
            "tags": []
          },
          "execution_count": 18
        }
      ]
    },
    {
      "cell_type": "markdown",
      "metadata": {
        "id": "ARe-BF5vPZCr"
      },
      "source": [
        "Make predictions with the model"
      ]
    },
    {
      "cell_type": "code",
      "metadata": {
        "id": "_MSxU9mXPZCs"
      },
      "source": [
        "predictions = algo.test(testset)"
      ],
      "execution_count": null,
      "outputs": []
    },
    {
      "cell_type": "markdown",
      "metadata": {
        "id": "3gzpmFMNPZCs"
      },
      "source": [
        "Evaluate model with RMSE & MAE"
      ]
    },
    {
      "cell_type": "code",
      "metadata": {
        "colab": {
          "base_uri": "https://localhost:8080/"
        },
        "id": "ywcg9hTfPZCt",
        "outputId": "adc8460e-cd65-4570-b96a-2a44ebe7bb28"
      },
      "source": [
        "accuracy.rmse(predictions)\r\n",
        "accuracy.mae(predictions)"
      ],
      "execution_count": null,
      "outputs": [
        {
          "output_type": "stream",
          "text": [
            "RMSE: 0.9141\n",
            "MAE:  0.6962\n"
          ],
          "name": "stdout"
        },
        {
          "output_type": "execute_result",
          "data": {
            "text/plain": [
              "0.6962109122568728"
            ]
          },
          "metadata": {
            "tags": []
          },
          "execution_count": 20
        }
      ]
    },
    {
      "cell_type": "markdown",
      "metadata": {
        "id": "rNid-NANPZCu"
      },
      "source": [
        "### 2. Pearson Correlation"
      ]
    },
    {
      "cell_type": "markdown",
      "metadata": {
        "id": "gKu0prJdPZCu"
      },
      "source": [
        "Train a item based model using pearson correlation"
      ]
    },
    {
      "cell_type": "code",
      "metadata": {
        "id": "m3q8YinXPZCu"
      },
      "source": [
        "sim_options = {\"name\": \"pearson_baseline\",\r\n",
        "               \"shrinkage\": 0,  # no shrinkage,\r\n",
        "               \"user_based\": False, \r\n",
        "               }"
      ],
      "execution_count": null,
      "outputs": []
    },
    {
      "cell_type": "code",
      "metadata": {
        "id": "eDeddKo8XmRl"
      },
      "source": [
        "algo = KNNWithMeans(sim_options=sim_options)"
      ],
      "execution_count": null,
      "outputs": []
    },
    {
      "cell_type": "markdown",
      "metadata": {
        "id": "zogaB2_OPZCv"
      },
      "source": [
        "Fit the model"
      ]
    },
    {
      "cell_type": "code",
      "metadata": {
        "colab": {
          "base_uri": "https://localhost:8080/"
        },
        "id": "4ptLHvg5PZCv",
        "outputId": "03fb29e9-b41f-44b7-83bf-d04df29fbe28"
      },
      "source": [
        "algo.fit(trainset)"
      ],
      "execution_count": null,
      "outputs": [
        {
          "output_type": "stream",
          "text": [
            "Estimating biases using als...\n",
            "Computing the pearson_baseline similarity matrix...\n",
            "Done computing similarity matrix.\n"
          ],
          "name": "stdout"
        },
        {
          "output_type": "execute_result",
          "data": {
            "text/plain": [
              "<surprise.prediction_algorithms.knns.KNNWithMeans at 0x7fd939877c18>"
            ]
          },
          "metadata": {
            "tags": []
          },
          "execution_count": 23
        }
      ]
    },
    {
      "cell_type": "markdown",
      "metadata": {
        "id": "geno021_Xxhj"
      },
      "source": [
        "Make predictions with model"
      ]
    },
    {
      "cell_type": "code",
      "metadata": {
        "id": "IE29ha5DPZCw"
      },
      "source": [
        "predictions = algo.test(testset)"
      ],
      "execution_count": null,
      "outputs": []
    },
    {
      "cell_type": "markdown",
      "metadata": {
        "id": "8wjENeLPX4VC"
      },
      "source": [
        "Evaluate model with RMSE & MAE"
      ]
    },
    {
      "cell_type": "code",
      "metadata": {
        "colab": {
          "base_uri": "https://localhost:8080/"
        },
        "id": "ftXSr9zMPZCw",
        "outputId": "c99c7771-3979-4217-9fe7-fb18a9fd5343"
      },
      "source": [
        "accuracy.rmse(predictions)\r\n",
        "accuracy.mae(predictions)"
      ],
      "execution_count": null,
      "outputs": [
        {
          "output_type": "stream",
          "text": [
            "RMSE: 0.9070\n",
            "MAE:  0.6886\n"
          ],
          "name": "stdout"
        },
        {
          "output_type": "execute_result",
          "data": {
            "text/plain": [
              "0.6886078835813548"
            ]
          },
          "metadata": {
            "tags": []
          },
          "execution_count": 25
        }
      ]
    },
    {
      "cell_type": "markdown",
      "metadata": {
        "id": "pf5WEbVpPZCx"
      },
      "source": [
        "## BaselineOnly Model"
      ]
    },
    {
      "cell_type": "markdown",
      "metadata": {
        "id": "WcAh5k3TPxc5"
      },
      "source": [
        "Train a item based baselineOnly model"
      ]
    },
    {
      "cell_type": "code",
      "metadata": {
        "id": "6DBbyRfxPZCx"
      },
      "source": [
        "bsl_options = {'method': 'als',\r\n",
        "               'n_epochs': 5,\r\n",
        "               'reg_u': 12,\r\n",
        "               'reg_i': 5\r\n",
        "               }"
      ],
      "execution_count": null,
      "outputs": []
    },
    {
      "cell_type": "code",
      "metadata": {
        "id": "arxS2limX__X"
      },
      "source": [
        "algo = BaselineOnly(bsl_options=bsl_options)"
      ],
      "execution_count": null,
      "outputs": []
    },
    {
      "cell_type": "markdown",
      "metadata": {
        "id": "0ja4hSzyYB6A"
      },
      "source": [
        "Fit the model"
      ]
    },
    {
      "cell_type": "code",
      "metadata": {
        "colab": {
          "base_uri": "https://localhost:8080/"
        },
        "id": "dGr-ZrqtPZCx",
        "outputId": "bd730cf0-f0e0-412a-8713-cd832acbdf6a"
      },
      "source": [
        "algo.fit(trainset)"
      ],
      "execution_count": null,
      "outputs": [
        {
          "output_type": "stream",
          "text": [
            "Estimating biases using als...\n"
          ],
          "name": "stdout"
        },
        {
          "output_type": "execute_result",
          "data": {
            "text/plain": [
              "<surprise.prediction_algorithms.baseline_only.BaselineOnly at 0x7fd939877be0>"
            ]
          },
          "metadata": {
            "tags": []
          },
          "execution_count": 28
        }
      ]
    },
    {
      "cell_type": "markdown",
      "metadata": {
        "id": "gH1S5IAtYFRj"
      },
      "source": [
        "Make the predictions with model"
      ]
    },
    {
      "cell_type": "code",
      "metadata": {
        "id": "wgiMkTtbPZCx"
      },
      "source": [
        "predictions = algo.test(testset)"
      ],
      "execution_count": null,
      "outputs": []
    },
    {
      "cell_type": "markdown",
      "metadata": {
        "id": "EigUogrdYJwe"
      },
      "source": [
        "Evaluate model with RMSE & MAE"
      ]
    },
    {
      "cell_type": "code",
      "metadata": {
        "colab": {
          "base_uri": "https://localhost:8080/"
        },
        "id": "gXImI9E7PZCx",
        "outputId": "6013ccb2-aea9-4e2e-d7e7-07b5701df9ae"
      },
      "source": [
        "accuracy.rmse(predictions)\r\n",
        "accuracy.mae(predictions)"
      ],
      "execution_count": null,
      "outputs": [
        {
          "output_type": "stream",
          "text": [
            "RMSE: 0.8767\n",
            "MAE:  0.6720\n"
          ],
          "name": "stdout"
        },
        {
          "output_type": "execute_result",
          "data": {
            "text/plain": [
              "0.6720280815997369"
            ]
          },
          "metadata": {
            "tags": []
          },
          "execution_count": 30
        }
      ]
    },
    {
      "cell_type": "markdown",
      "metadata": {
        "id": "NeGAjVDa68Xe"
      },
      "source": [
        "# Model BenchMarking"
      ]
    },
    {
      "cell_type": "markdown",
      "metadata": {
        "id": "qeZnAssqYyE3"
      },
      "source": [
        "Here we will perform benchmarking for algorithm **KNNWithMeans** using cross-validate:\r\n",
        "\r\n",
        "\r\n",
        "1.   User Based Model    \r\n",
        "    * Cosine Similarity\r\n",
        "    * Pearson Similarity    \r\n",
        "\r\n",
        "\r\n",
        "2.   Item Based Model\r\n",
        "    * Cosine Similarity\r\n",
        "    * Pearson Similarity\r\n",
        "\r\n",
        "3.   BaselineOnly Model\r\n"
      ]
    },
    {
      "cell_type": "code",
      "metadata": {
        "id": "yqCMkbCewRDq"
      },
      "source": [
        "algo_csn_user = KNNWithMeans(sim_options={\"name\": \"cosine\", \"user_based\": True})\r\n",
        "algo_prsn_user = KNNWithMeans(sim_options={\"name\": \"pearson_baseline\", \"shrinkage\": 0, \"user_based\": True})\r\n",
        "algo_csn_item = KNNWithMeans(sim_options={\"name\": \"cosine\", \"user_based\": False})\r\n",
        "algo_prsn_item = KNNWithMeans(sim_options={\"name\": \"pearson_baseline\", \"shrinkage\": 0, \"user_based\": False})   \r\n",
        "algo_bsln = BaselineOnly(bsl_options={'method': 'als', 'n_epochs': 5, 'reg_u': 12, 'reg_i': 5})"
      ],
      "execution_count": null,
      "outputs": []
    },
    {
      "cell_type": "code",
      "metadata": {
        "id": "AqS3nGMrRhPL"
      },
      "source": [
        "dict_of_models = {'Cosine Similarity User Based Model': algo_csn_user, \r\n",
        "                  'Pearson Similarity User Based Model': algo_prsn_user, \r\n",
        "                  'Cosine Similarity Item Based Model': algo_csn_item, \r\n",
        "                  'Pearson Similarity Item Based Model': algo_prsn_item, \r\n",
        "                  'BaselineOnly Model': algo_bsln}"
      ],
      "execution_count": null,
      "outputs": []
    },
    {
      "cell_type": "code",
      "metadata": {
        "colab": {
          "base_uri": "https://localhost:8080/"
        },
        "id": "TOGkx7gnTsmI",
        "outputId": "df807866-757a-448b-d663-b078eb64c3b6"
      },
      "source": [
        "table=[]\r\n",
        "for name in dict_of_models.keys():  \r\n",
        "  out = cross_validate(dict_of_models[name], data, ['rmse', 'mae'], cv=2, verbose=True)\r\n",
        "  mean_rmse = '{:.3f}'.format(np.mean(out['test_rmse']))\r\n",
        "  mean_mae = '{:.3f}'.format(np.mean(out['test_mae']))\r\n",
        "  fit_time = '{:.3f}'.format(np.mean(out['fit_time']))  \r\n",
        "  new_line = [name, mean_rmse, mean_mae, fit_time]\r\n",
        "  print(tabulate([new_line], tablefmt=\"pipe\"))\r\n",
        "  table.append(new_line)   "
      ],
      "execution_count": null,
      "outputs": [
        {
          "output_type": "stream",
          "text": [
            "Computing the cosine similarity matrix...\n",
            "Done computing similarity matrix.\n",
            "Computing the cosine similarity matrix...\n",
            "Done computing similarity matrix.\n",
            "Evaluating RMSE, MAE of algorithm KNNWithMeans on 2 split(s).\n",
            "\n",
            "                  Fold 1  Fold 2  Mean    Std     \n",
            "RMSE (testset)    0.9244  0.9169  0.9207  0.0038  \n",
            "MAE (testset)     0.7060  0.7015  0.7038  0.0022  \n",
            "Fit time          0.24    0.23    0.24    0.00    \n",
            "Test time         3.15    3.25    3.20    0.05    \n",
            "|:-----------------------------------|------:|------:|------:|\n",
            "| Cosine Similarity User Based Model | 0.921 | 0.704 | 0.237 |\n",
            "Estimating biases using als...\n",
            "Computing the pearson_baseline similarity matrix...\n",
            "Done computing similarity matrix.\n",
            "Estimating biases using als...\n",
            "Computing the pearson_baseline similarity matrix...\n",
            "Done computing similarity matrix.\n",
            "Evaluating RMSE, MAE of algorithm KNNWithMeans on 2 split(s).\n",
            "\n",
            "                  Fold 1  Fold 2  Mean    Std     \n",
            "RMSE (testset)    0.9447  0.9467  0.9457  0.0010  \n",
            "MAE (testset)     0.7216  0.7236  0.7226  0.0010  \n",
            "Fit time          0.53    0.52    0.52    0.00    \n",
            "Test time         2.87    2.95    2.91    0.04    \n",
            "|:------------------------------------|------:|------:|------:|\n",
            "| Pearson Similarity User Based Model | 0.946 | 0.723 | 0.525 |\n",
            "Computing the cosine similarity matrix...\n",
            "Done computing similarity matrix.\n",
            "Computing the cosine similarity matrix...\n",
            "Done computing similarity matrix.\n",
            "Evaluating RMSE, MAE of algorithm KNNWithMeans on 2 split(s).\n",
            "\n",
            "                  Fold 1  Fold 2  Mean    Std     \n",
            "RMSE (testset)    0.9226  0.9240  0.9233  0.0007  \n",
            "MAE (testset)     0.7058  0.7073  0.7066  0.0008  \n",
            "Fit time          8.57    9.17    8.87    0.30    \n",
            "Test time         14.06   13.95   14.00   0.06    \n",
            "|:-----------------------------------|------:|------:|------:|\n",
            "| Cosine Similarity Item Based Model | 0.923 | 0.707 | 8.867 |\n",
            "Estimating biases using als...\n",
            "Computing the pearson_baseline similarity matrix...\n",
            "Done computing similarity matrix.\n",
            "Estimating biases using als...\n",
            "Computing the pearson_baseline similarity matrix...\n",
            "Done computing similarity matrix.\n",
            "Evaluating RMSE, MAE of algorithm KNNWithMeans on 2 split(s).\n",
            "\n",
            "                  Fold 1  Fold 2  Mean    Std     \n",
            "RMSE (testset)    0.9280  0.9279  0.9280  0.0001  \n",
            "MAE (testset)     0.7072  0.7072  0.7072  0.0000  \n",
            "Fit time          5.33    5.63    5.48    0.15    \n",
            "Test time         13.91   14.20   14.05   0.15    \n",
            "|:------------------------------------|------:|------:|------:|\n",
            "| Pearson Similarity Item Based Model | 0.928 | 0.707 | 5.479 |\n",
            "Estimating biases using als...\n",
            "Estimating biases using als...\n",
            "Evaluating RMSE, MAE of algorithm BaselineOnly on 2 split(s).\n",
            "\n",
            "                  Fold 1  Fold 2  Mean    Std     \n",
            "RMSE (testset)    0.8820  0.8721  0.8770  0.0050  \n",
            "MAE (testset)     0.6795  0.6734  0.6764  0.0031  \n",
            "Fit time          0.16    0.16    0.16    0.00    \n",
            "Test time         0.49    0.30    0.40    0.10    \n",
            "|:-------------------|------:|------:|------:|\n",
            "| BaselineOnly Model | 0.877 | 0.676 | 0.159 |\n"
          ],
          "name": "stdout"
        }
      ]
    },
    {
      "cell_type": "code",
      "metadata": {
        "colab": {
          "base_uri": "https://localhost:8080/",
          "height": 206
        },
        "id": "UfTaP4vrkHwC",
        "outputId": "172c8294-8ab4-4204-9869-ad963616776a"
      },
      "source": [
        "header = ['Model Name',\r\n",
        "          'RMSE',\r\n",
        "          'MAE',\r\n",
        "          'Fit Time'\r\n",
        "          ]\r\n",
        "df = pd.DataFrame(table)\r\n",
        "df.columns = header\r\n",
        "df"
      ],
      "execution_count": null,
      "outputs": [
        {
          "output_type": "execute_result",
          "data": {
            "text/html": [
              "<div>\n",
              "<style scoped>\n",
              "    .dataframe tbody tr th:only-of-type {\n",
              "        vertical-align: middle;\n",
              "    }\n",
              "\n",
              "    .dataframe tbody tr th {\n",
              "        vertical-align: top;\n",
              "    }\n",
              "\n",
              "    .dataframe thead th {\n",
              "        text-align: right;\n",
              "    }\n",
              "</style>\n",
              "<table border=\"1\" class=\"dataframe\">\n",
              "  <thead>\n",
              "    <tr style=\"text-align: right;\">\n",
              "      <th></th>\n",
              "      <th>Model Name</th>\n",
              "      <th>RMSE</th>\n",
              "      <th>MAE</th>\n",
              "      <th>Fit Time</th>\n",
              "    </tr>\n",
              "  </thead>\n",
              "  <tbody>\n",
              "    <tr>\n",
              "      <th>0</th>\n",
              "      <td>Cosine Similarity User Based Model</td>\n",
              "      <td>0.921</td>\n",
              "      <td>0.704</td>\n",
              "      <td>0.237</td>\n",
              "    </tr>\n",
              "    <tr>\n",
              "      <th>1</th>\n",
              "      <td>Pearson Similarity User Based Model</td>\n",
              "      <td>0.946</td>\n",
              "      <td>0.723</td>\n",
              "      <td>0.525</td>\n",
              "    </tr>\n",
              "    <tr>\n",
              "      <th>2</th>\n",
              "      <td>Cosine Similarity Item Based Model</td>\n",
              "      <td>0.923</td>\n",
              "      <td>0.707</td>\n",
              "      <td>8.867</td>\n",
              "    </tr>\n",
              "    <tr>\n",
              "      <th>3</th>\n",
              "      <td>Pearson Similarity Item Based Model</td>\n",
              "      <td>0.928</td>\n",
              "      <td>0.707</td>\n",
              "      <td>5.479</td>\n",
              "    </tr>\n",
              "    <tr>\n",
              "      <th>4</th>\n",
              "      <td>BaselineOnly Model</td>\n",
              "      <td>0.877</td>\n",
              "      <td>0.676</td>\n",
              "      <td>0.159</td>\n",
              "    </tr>\n",
              "  </tbody>\n",
              "</table>\n",
              "</div>"
            ],
            "text/plain": [
              "                            Model Name   RMSE    MAE Fit Time\n",
              "0   Cosine Similarity User Based Model  0.921  0.704    0.237\n",
              "1  Pearson Similarity User Based Model  0.946  0.723    0.525\n",
              "2   Cosine Similarity Item Based Model  0.923  0.707    8.867\n",
              "3  Pearson Similarity Item Based Model  0.928  0.707    5.479\n",
              "4                   BaselineOnly Model  0.877  0.676    0.159"
            ]
          },
          "metadata": {
            "tags": []
          },
          "execution_count": 38
        }
      ]
    },
    {
      "cell_type": "markdown",
      "metadata": {
        "id": "5FRZrBBdG8ri"
      },
      "source": [
        "## Comparative Graph "
      ]
    },
    {
      "cell_type": "markdown",
      "metadata": {
        "id": "B4X-o0UWRa3b"
      },
      "source": [
        "### Graph for RMSE"
      ]
    },
    {
      "cell_type": "code",
      "metadata": {
        "colab": {
          "base_uri": "https://localhost:8080/",
          "height": 542
        },
        "id": "-_hE8gLRJfvb",
        "outputId": "4c6ea14e-ca5d-4839-bcdf-a032622e1563"
      },
      "source": [
        "import plotly.express as px\r\n",
        "fig = px.bar(df, x='Model Name', y='RMSE', range_y=[0.8,1], title=\"RMSE\")\r\n",
        "fig.show()"
      ],
      "execution_count": null,
      "outputs": [
        {
          "output_type": "display_data",
          "data": {
            "text/html": [
              "<html>\n",
              "<head><meta charset=\"utf-8\" /></head>\n",
              "<body>\n",
              "    <div>\n",
              "            <script src=\"https://cdnjs.cloudflare.com/ajax/libs/mathjax/2.7.5/MathJax.js?config=TeX-AMS-MML_SVG\"></script><script type=\"text/javascript\">if (window.MathJax) {MathJax.Hub.Config({SVG: {font: \"STIX-Web\"}});}</script>\n",
              "                <script type=\"text/javascript\">window.PlotlyConfig = {MathJaxConfig: 'local'};</script>\n",
              "        <script src=\"https://cdn.plot.ly/plotly-latest.min.js\"></script>    \n",
              "            <div id=\"a7e228fe-e9e4-40ae-b2b8-0a44694b1af0\" class=\"plotly-graph-div\" style=\"height:525px; width:100%;\"></div>\n",
              "            <script type=\"text/javascript\">\n",
              "                \n",
              "                    window.PLOTLYENV=window.PLOTLYENV || {};\n",
              "                    \n",
              "                if (document.getElementById(\"a7e228fe-e9e4-40ae-b2b8-0a44694b1af0\")) {\n",
              "                    Plotly.newPlot(\n",
              "                        'a7e228fe-e9e4-40ae-b2b8-0a44694b1af0',\n",
              "                        [{\"alignmentgroup\": \"True\", \"hoverlabel\": {\"namelength\": 0}, \"hovertemplate\": \"Model Name=%{x}<br>RMSE=%{y}\", \"legendgroup\": \"\", \"marker\": {\"color\": \"#636efa\"}, \"name\": \"\", \"offsetgroup\": \"\", \"orientation\": \"v\", \"showlegend\": false, \"textposition\": \"auto\", \"type\": \"bar\", \"x\": [\"Cosine Similarity User Based Model\", \"Pearson Similarity User Based Model\", \"Cosine Similarity Item Based Model\", \"Pearson Similarity Item Based Model\", \"BaselineOnly Model\"], \"xaxis\": \"x\", \"y\": [\"0.921\", \"0.946\", \"0.923\", \"0.928\", \"0.877\"], \"yaxis\": \"y\"}],\n",
              "                        {\"barmode\": \"relative\", \"legend\": {\"tracegroupgap\": 0}, \"template\": {\"data\": {\"bar\": [{\"error_x\": {\"color\": \"#2a3f5f\"}, \"error_y\": {\"color\": \"#2a3f5f\"}, \"marker\": {\"line\": {\"color\": \"#E5ECF6\", \"width\": 0.5}}, \"type\": \"bar\"}], \"barpolar\": [{\"marker\": {\"line\": {\"color\": \"#E5ECF6\", \"width\": 0.5}}, \"type\": \"barpolar\"}], \"carpet\": [{\"aaxis\": {\"endlinecolor\": \"#2a3f5f\", \"gridcolor\": \"white\", \"linecolor\": \"white\", \"minorgridcolor\": \"white\", \"startlinecolor\": \"#2a3f5f\"}, \"baxis\": {\"endlinecolor\": \"#2a3f5f\", \"gridcolor\": \"white\", \"linecolor\": \"white\", \"minorgridcolor\": \"white\", \"startlinecolor\": \"#2a3f5f\"}, \"type\": \"carpet\"}], \"choropleth\": [{\"colorbar\": {\"outlinewidth\": 0, \"ticks\": \"\"}, \"type\": \"choropleth\"}], \"contour\": [{\"colorbar\": {\"outlinewidth\": 0, \"ticks\": \"\"}, \"colorscale\": [[0.0, \"#0d0887\"], [0.1111111111111111, \"#46039f\"], [0.2222222222222222, \"#7201a8\"], [0.3333333333333333, \"#9c179e\"], [0.4444444444444444, \"#bd3786\"], [0.5555555555555556, \"#d8576b\"], [0.6666666666666666, \"#ed7953\"], [0.7777777777777778, \"#fb9f3a\"], [0.8888888888888888, \"#fdca26\"], [1.0, \"#f0f921\"]], \"type\": \"contour\"}], \"contourcarpet\": [{\"colorbar\": {\"outlinewidth\": 0, \"ticks\": \"\"}, \"type\": \"contourcarpet\"}], \"heatmap\": [{\"colorbar\": {\"outlinewidth\": 0, \"ticks\": \"\"}, \"colorscale\": [[0.0, \"#0d0887\"], [0.1111111111111111, \"#46039f\"], [0.2222222222222222, \"#7201a8\"], [0.3333333333333333, \"#9c179e\"], [0.4444444444444444, \"#bd3786\"], [0.5555555555555556, \"#d8576b\"], [0.6666666666666666, \"#ed7953\"], [0.7777777777777778, \"#fb9f3a\"], [0.8888888888888888, \"#fdca26\"], [1.0, \"#f0f921\"]], \"type\": \"heatmap\"}], \"heatmapgl\": [{\"colorbar\": {\"outlinewidth\": 0, \"ticks\": \"\"}, \"colorscale\": [[0.0, \"#0d0887\"], [0.1111111111111111, \"#46039f\"], [0.2222222222222222, \"#7201a8\"], [0.3333333333333333, \"#9c179e\"], [0.4444444444444444, \"#bd3786\"], [0.5555555555555556, \"#d8576b\"], [0.6666666666666666, \"#ed7953\"], [0.7777777777777778, \"#fb9f3a\"], [0.8888888888888888, \"#fdca26\"], [1.0, \"#f0f921\"]], \"type\": \"heatmapgl\"}], \"histogram\": [{\"marker\": {\"colorbar\": {\"outlinewidth\": 0, \"ticks\": \"\"}}, \"type\": \"histogram\"}], \"histogram2d\": [{\"colorbar\": {\"outlinewidth\": 0, \"ticks\": \"\"}, \"colorscale\": [[0.0, \"#0d0887\"], [0.1111111111111111, \"#46039f\"], [0.2222222222222222, \"#7201a8\"], [0.3333333333333333, \"#9c179e\"], [0.4444444444444444, \"#bd3786\"], [0.5555555555555556, \"#d8576b\"], [0.6666666666666666, \"#ed7953\"], [0.7777777777777778, \"#fb9f3a\"], [0.8888888888888888, \"#fdca26\"], [1.0, \"#f0f921\"]], \"type\": \"histogram2d\"}], \"histogram2dcontour\": [{\"colorbar\": {\"outlinewidth\": 0, \"ticks\": \"\"}, \"colorscale\": [[0.0, \"#0d0887\"], [0.1111111111111111, \"#46039f\"], [0.2222222222222222, \"#7201a8\"], [0.3333333333333333, \"#9c179e\"], [0.4444444444444444, \"#bd3786\"], [0.5555555555555556, \"#d8576b\"], [0.6666666666666666, \"#ed7953\"], [0.7777777777777778, \"#fb9f3a\"], [0.8888888888888888, \"#fdca26\"], [1.0, \"#f0f921\"]], \"type\": \"histogram2dcontour\"}], \"mesh3d\": [{\"colorbar\": {\"outlinewidth\": 0, \"ticks\": \"\"}, \"type\": \"mesh3d\"}], \"parcoords\": [{\"line\": {\"colorbar\": {\"outlinewidth\": 0, \"ticks\": \"\"}}, \"type\": \"parcoords\"}], \"pie\": [{\"automargin\": true, \"type\": \"pie\"}], \"scatter\": [{\"marker\": {\"colorbar\": {\"outlinewidth\": 0, \"ticks\": \"\"}}, \"type\": \"scatter\"}], \"scatter3d\": [{\"line\": {\"colorbar\": {\"outlinewidth\": 0, \"ticks\": \"\"}}, \"marker\": {\"colorbar\": {\"outlinewidth\": 0, \"ticks\": \"\"}}, \"type\": \"scatter3d\"}], \"scattercarpet\": [{\"marker\": {\"colorbar\": {\"outlinewidth\": 0, \"ticks\": \"\"}}, \"type\": \"scattercarpet\"}], \"scattergeo\": [{\"marker\": {\"colorbar\": {\"outlinewidth\": 0, \"ticks\": \"\"}}, \"type\": \"scattergeo\"}], \"scattergl\": [{\"marker\": {\"colorbar\": {\"outlinewidth\": 0, \"ticks\": \"\"}}, \"type\": \"scattergl\"}], \"scattermapbox\": [{\"marker\": {\"colorbar\": {\"outlinewidth\": 0, \"ticks\": \"\"}}, \"type\": \"scattermapbox\"}], \"scatterpolar\": [{\"marker\": {\"colorbar\": {\"outlinewidth\": 0, \"ticks\": \"\"}}, \"type\": \"scatterpolar\"}], \"scatterpolargl\": [{\"marker\": {\"colorbar\": {\"outlinewidth\": 0, \"ticks\": \"\"}}, \"type\": \"scatterpolargl\"}], \"scatterternary\": [{\"marker\": {\"colorbar\": {\"outlinewidth\": 0, \"ticks\": \"\"}}, \"type\": \"scatterternary\"}], \"surface\": [{\"colorbar\": {\"outlinewidth\": 0, \"ticks\": \"\"}, \"colorscale\": [[0.0, \"#0d0887\"], [0.1111111111111111, \"#46039f\"], [0.2222222222222222, \"#7201a8\"], [0.3333333333333333, \"#9c179e\"], [0.4444444444444444, \"#bd3786\"], [0.5555555555555556, \"#d8576b\"], [0.6666666666666666, \"#ed7953\"], [0.7777777777777778, \"#fb9f3a\"], [0.8888888888888888, \"#fdca26\"], [1.0, \"#f0f921\"]], \"type\": \"surface\"}], \"table\": [{\"cells\": {\"fill\": {\"color\": \"#EBF0F8\"}, \"line\": {\"color\": \"white\"}}, \"header\": {\"fill\": {\"color\": \"#C8D4E3\"}, \"line\": {\"color\": \"white\"}}, \"type\": \"table\"}]}, \"layout\": {\"annotationdefaults\": {\"arrowcolor\": \"#2a3f5f\", \"arrowhead\": 0, \"arrowwidth\": 1}, \"coloraxis\": {\"colorbar\": {\"outlinewidth\": 0, \"ticks\": \"\"}}, \"colorscale\": {\"diverging\": [[0, \"#8e0152\"], [0.1, \"#c51b7d\"], [0.2, \"#de77ae\"], [0.3, \"#f1b6da\"], [0.4, \"#fde0ef\"], [0.5, \"#f7f7f7\"], [0.6, \"#e6f5d0\"], [0.7, \"#b8e186\"], [0.8, \"#7fbc41\"], [0.9, \"#4d9221\"], [1, \"#276419\"]], \"sequential\": [[0.0, \"#0d0887\"], [0.1111111111111111, \"#46039f\"], [0.2222222222222222, \"#7201a8\"], [0.3333333333333333, \"#9c179e\"], [0.4444444444444444, \"#bd3786\"], [0.5555555555555556, \"#d8576b\"], [0.6666666666666666, \"#ed7953\"], [0.7777777777777778, \"#fb9f3a\"], [0.8888888888888888, \"#fdca26\"], [1.0, \"#f0f921\"]], \"sequentialminus\": [[0.0, \"#0d0887\"], [0.1111111111111111, \"#46039f\"], [0.2222222222222222, \"#7201a8\"], [0.3333333333333333, \"#9c179e\"], [0.4444444444444444, \"#bd3786\"], [0.5555555555555556, \"#d8576b\"], [0.6666666666666666, \"#ed7953\"], [0.7777777777777778, \"#fb9f3a\"], [0.8888888888888888, \"#fdca26\"], [1.0, \"#f0f921\"]]}, \"colorway\": [\"#636efa\", \"#EF553B\", \"#00cc96\", \"#ab63fa\", \"#FFA15A\", \"#19d3f3\", \"#FF6692\", \"#B6E880\", \"#FF97FF\", \"#FECB52\"], \"font\": {\"color\": \"#2a3f5f\"}, \"geo\": {\"bgcolor\": \"white\", \"lakecolor\": \"white\", \"landcolor\": \"#E5ECF6\", \"showlakes\": true, \"showland\": true, \"subunitcolor\": \"white\"}, \"hoverlabel\": {\"align\": \"left\"}, \"hovermode\": \"closest\", \"mapbox\": {\"style\": \"light\"}, \"paper_bgcolor\": \"white\", \"plot_bgcolor\": \"#E5ECF6\", \"polar\": {\"angularaxis\": {\"gridcolor\": \"white\", \"linecolor\": \"white\", \"ticks\": \"\"}, \"bgcolor\": \"#E5ECF6\", \"radialaxis\": {\"gridcolor\": \"white\", \"linecolor\": \"white\", \"ticks\": \"\"}}, \"scene\": {\"xaxis\": {\"backgroundcolor\": \"#E5ECF6\", \"gridcolor\": \"white\", \"gridwidth\": 2, \"linecolor\": \"white\", \"showbackground\": true, \"ticks\": \"\", \"zerolinecolor\": \"white\"}, \"yaxis\": {\"backgroundcolor\": \"#E5ECF6\", \"gridcolor\": \"white\", \"gridwidth\": 2, \"linecolor\": \"white\", \"showbackground\": true, \"ticks\": \"\", \"zerolinecolor\": \"white\"}, \"zaxis\": {\"backgroundcolor\": \"#E5ECF6\", \"gridcolor\": \"white\", \"gridwidth\": 2, \"linecolor\": \"white\", \"showbackground\": true, \"ticks\": \"\", \"zerolinecolor\": \"white\"}}, \"shapedefaults\": {\"line\": {\"color\": \"#2a3f5f\"}}, \"ternary\": {\"aaxis\": {\"gridcolor\": \"white\", \"linecolor\": \"white\", \"ticks\": \"\"}, \"baxis\": {\"gridcolor\": \"white\", \"linecolor\": \"white\", \"ticks\": \"\"}, \"bgcolor\": \"#E5ECF6\", \"caxis\": {\"gridcolor\": \"white\", \"linecolor\": \"white\", \"ticks\": \"\"}}, \"title\": {\"x\": 0.05}, \"xaxis\": {\"automargin\": true, \"gridcolor\": \"white\", \"linecolor\": \"white\", \"ticks\": \"\", \"title\": {\"standoff\": 15}, \"zerolinecolor\": \"white\", \"zerolinewidth\": 2}, \"yaxis\": {\"automargin\": true, \"gridcolor\": \"white\", \"linecolor\": \"white\", \"ticks\": \"\", \"title\": {\"standoff\": 15}, \"zerolinecolor\": \"white\", \"zerolinewidth\": 2}}}, \"title\": {\"text\": \"RMSE\"}, \"xaxis\": {\"anchor\": \"y\", \"domain\": [0.0, 1.0], \"title\": {\"text\": \"Model Name\"}}, \"yaxis\": {\"anchor\": \"x\", \"domain\": [0.0, 1.0], \"range\": [0.8, 1], \"title\": {\"text\": \"RMSE\"}}},\n",
              "                        {\"responsive\": true}\n",
              "                    ).then(function(){\n",
              "                            \n",
              "var gd = document.getElementById('a7e228fe-e9e4-40ae-b2b8-0a44694b1af0');\n",
              "var x = new MutationObserver(function (mutations, observer) {{\n",
              "        var display = window.getComputedStyle(gd).display;\n",
              "        if (!display || display === 'none') {{\n",
              "            console.log([gd, 'removed!']);\n",
              "            Plotly.purge(gd);\n",
              "            observer.disconnect();\n",
              "        }}\n",
              "}});\n",
              "\n",
              "// Listen for the removal of the full notebook cells\n",
              "var notebookContainer = gd.closest('#notebook-container');\n",
              "if (notebookContainer) {{\n",
              "    x.observe(notebookContainer, {childList: true});\n",
              "}}\n",
              "\n",
              "// Listen for the clearing of the current output cell\n",
              "var outputEl = gd.closest('.output');\n",
              "if (outputEl) {{\n",
              "    x.observe(outputEl, {childList: true});\n",
              "}}\n",
              "\n",
              "                        })\n",
              "                };\n",
              "                \n",
              "            </script>\n",
              "        </div>\n",
              "</body>\n",
              "</html>"
            ]
          },
          "metadata": {
            "tags": []
          }
        }
      ]
    },
    {
      "cell_type": "markdown",
      "metadata": {
        "id": "5WImoCAdBJI9"
      },
      "source": [
        "![RMSE_OLD.png](data:image/png;base64,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)"
      ]
    },
    {
      "cell_type": "markdown",
      "metadata": {
        "id": "R57EjyfRQbXP"
      },
      "source": [
        "### Graph for MAE"
      ]
    },
    {
      "cell_type": "code",
      "metadata": {
        "colab": {
          "base_uri": "https://localhost:8080/",
          "height": 542
        },
        "id": "qLm3JfRAQb09",
        "outputId": "913bfb42-51d1-41b4-9a82-cd3ff3e7c4ee"
      },
      "source": [
        "import plotly.express as px\r\n",
        "fig = px.bar(df, x='Model Name', y='MAE', range_y=[0.6, 0.8], title=\"MAE\")\r\n",
        "fig.show()"
      ],
      "execution_count": null,
      "outputs": [
        {
          "output_type": "display_data",
          "data": {
            "text/html": [
              "<html>\n",
              "<head><meta charset=\"utf-8\" /></head>\n",
              "<body>\n",
              "    <div>\n",
              "            <script src=\"https://cdnjs.cloudflare.com/ajax/libs/mathjax/2.7.5/MathJax.js?config=TeX-AMS-MML_SVG\"></script><script type=\"text/javascript\">if (window.MathJax) {MathJax.Hub.Config({SVG: {font: \"STIX-Web\"}});}</script>\n",
              "                <script type=\"text/javascript\">window.PlotlyConfig = {MathJaxConfig: 'local'};</script>\n",
              "        <script src=\"https://cdn.plot.ly/plotly-latest.min.js\"></script>    \n",
              "            <div id=\"41c7b6d4-6caa-4c72-a278-f2558f3dea88\" class=\"plotly-graph-div\" style=\"height:525px; width:100%;\"></div>\n",
              "            <script type=\"text/javascript\">\n",
              "                \n",
              "                    window.PLOTLYENV=window.PLOTLYENV || {};\n",
              "                    \n",
              "                if (document.getElementById(\"41c7b6d4-6caa-4c72-a278-f2558f3dea88\")) {\n",
              "                    Plotly.newPlot(\n",
              "                        '41c7b6d4-6caa-4c72-a278-f2558f3dea88',\n",
              "                        [{\"alignmentgroup\": \"True\", \"hoverlabel\": {\"namelength\": 0}, \"hovertemplate\": \"Model Name=%{x}<br>MAE=%{y}\", \"legendgroup\": \"\", \"marker\": {\"color\": \"#636efa\"}, \"name\": \"\", \"offsetgroup\": \"\", \"orientation\": \"v\", \"showlegend\": false, \"textposition\": \"auto\", \"type\": \"bar\", \"x\": [\"Cosine Similarity User Based Model\", \"Pearson Similarity User Based Model\", \"Cosine Similarity Item Based Model\", \"Pearson Similarity Item Based Model\", \"BaselineOnly Model\"], \"xaxis\": \"x\", \"y\": [\"0.704\", \"0.723\", \"0.707\", \"0.707\", \"0.676\"], \"yaxis\": \"y\"}],\n",
              "                        {\"barmode\": \"relative\", \"legend\": {\"tracegroupgap\": 0}, \"template\": {\"data\": {\"bar\": [{\"error_x\": {\"color\": \"#2a3f5f\"}, \"error_y\": {\"color\": \"#2a3f5f\"}, \"marker\": {\"line\": {\"color\": \"#E5ECF6\", \"width\": 0.5}}, \"type\": \"bar\"}], \"barpolar\": [{\"marker\": {\"line\": {\"color\": \"#E5ECF6\", \"width\": 0.5}}, \"type\": \"barpolar\"}], \"carpet\": [{\"aaxis\": {\"endlinecolor\": \"#2a3f5f\", \"gridcolor\": \"white\", \"linecolor\": \"white\", \"minorgridcolor\": \"white\", \"startlinecolor\": \"#2a3f5f\"}, \"baxis\": {\"endlinecolor\": \"#2a3f5f\", \"gridcolor\": \"white\", \"linecolor\": \"white\", \"minorgridcolor\": \"white\", \"startlinecolor\": \"#2a3f5f\"}, \"type\": \"carpet\"}], \"choropleth\": [{\"colorbar\": {\"outlinewidth\": 0, \"ticks\": \"\"}, \"type\": \"choropleth\"}], \"contour\": [{\"colorbar\": {\"outlinewidth\": 0, \"ticks\": \"\"}, \"colorscale\": [[0.0, \"#0d0887\"], [0.1111111111111111, \"#46039f\"], [0.2222222222222222, \"#7201a8\"], [0.3333333333333333, \"#9c179e\"], [0.4444444444444444, \"#bd3786\"], [0.5555555555555556, \"#d8576b\"], [0.6666666666666666, \"#ed7953\"], [0.7777777777777778, \"#fb9f3a\"], [0.8888888888888888, \"#fdca26\"], [1.0, \"#f0f921\"]], \"type\": \"contour\"}], \"contourcarpet\": [{\"colorbar\": {\"outlinewidth\": 0, \"ticks\": \"\"}, \"type\": \"contourcarpet\"}], \"heatmap\": [{\"colorbar\": {\"outlinewidth\": 0, \"ticks\": \"\"}, \"colorscale\": [[0.0, \"#0d0887\"], [0.1111111111111111, \"#46039f\"], [0.2222222222222222, \"#7201a8\"], [0.3333333333333333, \"#9c179e\"], [0.4444444444444444, \"#bd3786\"], [0.5555555555555556, \"#d8576b\"], [0.6666666666666666, \"#ed7953\"], [0.7777777777777778, \"#fb9f3a\"], [0.8888888888888888, \"#fdca26\"], [1.0, \"#f0f921\"]], \"type\": \"heatmap\"}], \"heatmapgl\": [{\"colorbar\": {\"outlinewidth\": 0, \"ticks\": \"\"}, \"colorscale\": [[0.0, \"#0d0887\"], [0.1111111111111111, \"#46039f\"], [0.2222222222222222, \"#7201a8\"], [0.3333333333333333, \"#9c179e\"], [0.4444444444444444, \"#bd3786\"], [0.5555555555555556, \"#d8576b\"], [0.6666666666666666, \"#ed7953\"], [0.7777777777777778, \"#fb9f3a\"], [0.8888888888888888, \"#fdca26\"], [1.0, \"#f0f921\"]], \"type\": \"heatmapgl\"}], \"histogram\": [{\"marker\": {\"colorbar\": {\"outlinewidth\": 0, \"ticks\": \"\"}}, \"type\": \"histogram\"}], \"histogram2d\": [{\"colorbar\": {\"outlinewidth\": 0, \"ticks\": \"\"}, \"colorscale\": [[0.0, \"#0d0887\"], [0.1111111111111111, \"#46039f\"], [0.2222222222222222, \"#7201a8\"], [0.3333333333333333, \"#9c179e\"], [0.4444444444444444, \"#bd3786\"], [0.5555555555555556, \"#d8576b\"], [0.6666666666666666, \"#ed7953\"], [0.7777777777777778, \"#fb9f3a\"], [0.8888888888888888, \"#fdca26\"], [1.0, \"#f0f921\"]], \"type\": \"histogram2d\"}], \"histogram2dcontour\": [{\"colorbar\": {\"outlinewidth\": 0, \"ticks\": \"\"}, \"colorscale\": [[0.0, \"#0d0887\"], [0.1111111111111111, \"#46039f\"], [0.2222222222222222, \"#7201a8\"], [0.3333333333333333, \"#9c179e\"], [0.4444444444444444, \"#bd3786\"], [0.5555555555555556, \"#d8576b\"], [0.6666666666666666, \"#ed7953\"], [0.7777777777777778, \"#fb9f3a\"], [0.8888888888888888, \"#fdca26\"], [1.0, \"#f0f921\"]], \"type\": \"histogram2dcontour\"}], \"mesh3d\": [{\"colorbar\": {\"outlinewidth\": 0, \"ticks\": \"\"}, \"type\": \"mesh3d\"}], \"parcoords\": [{\"line\": {\"colorbar\": {\"outlinewidth\": 0, \"ticks\": \"\"}}, \"type\": \"parcoords\"}], \"pie\": [{\"automargin\": true, \"type\": \"pie\"}], \"scatter\": [{\"marker\": {\"colorbar\": {\"outlinewidth\": 0, \"ticks\": \"\"}}, \"type\": \"scatter\"}], \"scatter3d\": [{\"line\": {\"colorbar\": {\"outlinewidth\": 0, \"ticks\": \"\"}}, \"marker\": {\"colorbar\": {\"outlinewidth\": 0, \"ticks\": \"\"}}, \"type\": \"scatter3d\"}], \"scattercarpet\": [{\"marker\": {\"colorbar\": {\"outlinewidth\": 0, \"ticks\": \"\"}}, \"type\": \"scattercarpet\"}], \"scattergeo\": [{\"marker\": {\"colorbar\": {\"outlinewidth\": 0, \"ticks\": \"\"}}, \"type\": \"scattergeo\"}], \"scattergl\": [{\"marker\": {\"colorbar\": {\"outlinewidth\": 0, \"ticks\": \"\"}}, \"type\": \"scattergl\"}], \"scattermapbox\": [{\"marker\": {\"colorbar\": {\"outlinewidth\": 0, \"ticks\": \"\"}}, \"type\": \"scattermapbox\"}], \"scatterpolar\": [{\"marker\": {\"colorbar\": {\"outlinewidth\": 0, \"ticks\": \"\"}}, \"type\": \"scatterpolar\"}], \"scatterpolargl\": [{\"marker\": {\"colorbar\": {\"outlinewidth\": 0, \"ticks\": \"\"}}, \"type\": \"scatterpolargl\"}], \"scatterternary\": [{\"marker\": {\"colorbar\": {\"outlinewidth\": 0, \"ticks\": \"\"}}, \"type\": \"scatterternary\"}], \"surface\": [{\"colorbar\": {\"outlinewidth\": 0, \"ticks\": \"\"}, \"colorscale\": [[0.0, \"#0d0887\"], [0.1111111111111111, \"#46039f\"], [0.2222222222222222, \"#7201a8\"], [0.3333333333333333, \"#9c179e\"], [0.4444444444444444, \"#bd3786\"], [0.5555555555555556, \"#d8576b\"], [0.6666666666666666, \"#ed7953\"], [0.7777777777777778, \"#fb9f3a\"], [0.8888888888888888, \"#fdca26\"], [1.0, \"#f0f921\"]], \"type\": \"surface\"}], \"table\": [{\"cells\": {\"fill\": {\"color\": \"#EBF0F8\"}, \"line\": {\"color\": \"white\"}}, \"header\": {\"fill\": {\"color\": \"#C8D4E3\"}, \"line\": {\"color\": \"white\"}}, \"type\": \"table\"}]}, \"layout\": {\"annotationdefaults\": {\"arrowcolor\": \"#2a3f5f\", \"arrowhead\": 0, \"arrowwidth\": 1}, \"coloraxis\": {\"colorbar\": {\"outlinewidth\": 0, \"ticks\": \"\"}}, \"colorscale\": {\"diverging\": [[0, \"#8e0152\"], [0.1, \"#c51b7d\"], [0.2, \"#de77ae\"], [0.3, \"#f1b6da\"], [0.4, \"#fde0ef\"], [0.5, \"#f7f7f7\"], [0.6, \"#e6f5d0\"], [0.7, \"#b8e186\"], [0.8, \"#7fbc41\"], [0.9, \"#4d9221\"], [1, \"#276419\"]], \"sequential\": [[0.0, \"#0d0887\"], [0.1111111111111111, \"#46039f\"], [0.2222222222222222, \"#7201a8\"], [0.3333333333333333, \"#9c179e\"], [0.4444444444444444, \"#bd3786\"], [0.5555555555555556, \"#d8576b\"], [0.6666666666666666, \"#ed7953\"], [0.7777777777777778, \"#fb9f3a\"], [0.8888888888888888, \"#fdca26\"], [1.0, \"#f0f921\"]], \"sequentialminus\": [[0.0, \"#0d0887\"], [0.1111111111111111, \"#46039f\"], [0.2222222222222222, \"#7201a8\"], [0.3333333333333333, \"#9c179e\"], [0.4444444444444444, \"#bd3786\"], [0.5555555555555556, \"#d8576b\"], [0.6666666666666666, \"#ed7953\"], [0.7777777777777778, \"#fb9f3a\"], [0.8888888888888888, \"#fdca26\"], [1.0, \"#f0f921\"]]}, \"colorway\": [\"#636efa\", \"#EF553B\", \"#00cc96\", \"#ab63fa\", \"#FFA15A\", \"#19d3f3\", \"#FF6692\", \"#B6E880\", \"#FF97FF\", \"#FECB52\"], \"font\": {\"color\": \"#2a3f5f\"}, \"geo\": {\"bgcolor\": \"white\", \"lakecolor\": \"white\", \"landcolor\": \"#E5ECF6\", \"showlakes\": true, \"showland\": true, \"subunitcolor\": \"white\"}, \"hoverlabel\": {\"align\": \"left\"}, \"hovermode\": \"closest\", \"mapbox\": {\"style\": \"light\"}, \"paper_bgcolor\": \"white\", \"plot_bgcolor\": \"#E5ECF6\", \"polar\": {\"angularaxis\": {\"gridcolor\": \"white\", \"linecolor\": \"white\", \"ticks\": \"\"}, \"bgcolor\": \"#E5ECF6\", \"radialaxis\": {\"gridcolor\": \"white\", \"linecolor\": \"white\", \"ticks\": \"\"}}, \"scene\": {\"xaxis\": {\"backgroundcolor\": \"#E5ECF6\", \"gridcolor\": \"white\", \"gridwidth\": 2, \"linecolor\": \"white\", \"showbackground\": true, \"ticks\": \"\", \"zerolinecolor\": \"white\"}, \"yaxis\": {\"backgroundcolor\": \"#E5ECF6\", \"gridcolor\": \"white\", \"gridwidth\": 2, \"linecolor\": \"white\", \"showbackground\": true, \"ticks\": \"\", \"zerolinecolor\": \"white\"}, \"zaxis\": {\"backgroundcolor\": \"#E5ECF6\", \"gridcolor\": \"white\", \"gridwidth\": 2, \"linecolor\": \"white\", \"showbackground\": true, \"ticks\": \"\", \"zerolinecolor\": \"white\"}}, \"shapedefaults\": {\"line\": {\"color\": \"#2a3f5f\"}}, \"ternary\": {\"aaxis\": {\"gridcolor\": \"white\", \"linecolor\": \"white\", \"ticks\": \"\"}, \"baxis\": {\"gridcolor\": \"white\", \"linecolor\": \"white\", \"ticks\": \"\"}, \"bgcolor\": \"#E5ECF6\", \"caxis\": {\"gridcolor\": \"white\", \"linecolor\": \"white\", \"ticks\": \"\"}}, \"title\": {\"x\": 0.05}, \"xaxis\": {\"automargin\": true, \"gridcolor\": \"white\", \"linecolor\": \"white\", \"ticks\": \"\", \"title\": {\"standoff\": 15}, \"zerolinecolor\": \"white\", \"zerolinewidth\": 2}, \"yaxis\": {\"automargin\": true, \"gridcolor\": \"white\", \"linecolor\": \"white\", \"ticks\": \"\", \"title\": {\"standoff\": 15}, \"zerolinecolor\": \"white\", \"zerolinewidth\": 2}}}, \"title\": {\"text\": \"MAE\"}, \"xaxis\": {\"anchor\": \"y\", \"domain\": [0.0, 1.0], \"title\": {\"text\": \"Model Name\"}}, \"yaxis\": {\"anchor\": \"x\", \"domain\": [0.0, 1.0], \"range\": [0.6, 0.8], \"title\": {\"text\": \"MAE\"}}},\n",
              "                        {\"responsive\": true}\n",
              "                    ).then(function(){\n",
              "                            \n",
              "var gd = document.getElementById('41c7b6d4-6caa-4c72-a278-f2558f3dea88');\n",
              "var x = new MutationObserver(function (mutations, observer) {{\n",
              "        var display = window.getComputedStyle(gd).display;\n",
              "        if (!display || display === 'none') {{\n",
              "            console.log([gd, 'removed!']);\n",
              "            Plotly.purge(gd);\n",
              "            observer.disconnect();\n",
              "        }}\n",
              "}});\n",
              "\n",
              "// Listen for the removal of the full notebook cells\n",
              "var notebookContainer = gd.closest('#notebook-container');\n",
              "if (notebookContainer) {{\n",
              "    x.observe(notebookContainer, {childList: true});\n",
              "}}\n",
              "\n",
              "// Listen for the clearing of the current output cell\n",
              "var outputEl = gd.closest('.output');\n",
              "if (outputEl) {{\n",
              "    x.observe(outputEl, {childList: true});\n",
              "}}\n",
              "\n",
              "                        })\n",
              "                };\n",
              "                \n",
              "            </script>\n",
              "        </div>\n",
              "</body>\n",
              "</html>"
            ]
          },
          "metadata": {
            "tags": []
          }
        }
      ]
    },
    {
      "cell_type": "markdown",
      "metadata": {
        "id": "4eSmn3GXBFqR"
      },
      "source": [
        "![MAE_OLD.png](data:image/png;base64,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)"
      ]
    },
    {
      "cell_type": "markdown",
      "metadata": {
        "id": "gEcMNr5HQ7ak"
      },
      "source": [
        "### Graph for Fit Time"
      ]
    },
    {
      "cell_type": "code",
      "metadata": {
        "colab": {
          "base_uri": "https://localhost:8080/",
          "height": 542
        },
        "id": "ZSm53nUAQ7vg",
        "outputId": "793081e5-3914-4f67-e0f8-02ae15f4a172"
      },
      "source": [
        "import plotly.express as px\r\n",
        "fig = px.bar(df, x='Model Name', y='Fit Time', title=\"Fit Time\")\r\n",
        "fig.show()"
      ],
      "execution_count": null,
      "outputs": [
        {
          "output_type": "display_data",
          "data": {
            "text/html": [
              "<html>\n",
              "<head><meta charset=\"utf-8\" /></head>\n",
              "<body>\n",
              "    <div>\n",
              "            <script src=\"https://cdnjs.cloudflare.com/ajax/libs/mathjax/2.7.5/MathJax.js?config=TeX-AMS-MML_SVG\"></script><script type=\"text/javascript\">if (window.MathJax) {MathJax.Hub.Config({SVG: {font: \"STIX-Web\"}});}</script>\n",
              "                <script type=\"text/javascript\">window.PlotlyConfig = {MathJaxConfig: 'local'};</script>\n",
              "        <script src=\"https://cdn.plot.ly/plotly-latest.min.js\"></script>    \n",
              "            <div id=\"32f87cb8-4882-47d6-a448-574d1667fc9f\" class=\"plotly-graph-div\" style=\"height:525px; width:100%;\"></div>\n",
              "            <script type=\"text/javascript\">\n",
              "                \n",
              "                    window.PLOTLYENV=window.PLOTLYENV || {};\n",
              "                    \n",
              "                if (document.getElementById(\"32f87cb8-4882-47d6-a448-574d1667fc9f\")) {\n",
              "                    Plotly.newPlot(\n",
              "                        '32f87cb8-4882-47d6-a448-574d1667fc9f',\n",
              "                        [{\"alignmentgroup\": \"True\", \"hoverlabel\": {\"namelength\": 0}, \"hovertemplate\": \"Model Name=%{x}<br>Fit Time=%{y}\", \"legendgroup\": \"\", \"marker\": {\"color\": \"#636efa\"}, \"name\": \"\", \"offsetgroup\": \"\", \"orientation\": \"v\", \"showlegend\": false, \"textposition\": \"auto\", \"type\": \"bar\", \"x\": [\"Cosine Similarity User Based Model\", \"Pearson Similarity User Based Model\", \"Cosine Similarity Item Based Model\", \"Pearson Similarity Item Based Model\", \"BaselineOnly Model\"], \"xaxis\": \"x\", \"y\": [\"0.237\", \"0.525\", \"8.867\", \"5.479\", \"0.159\"], \"yaxis\": \"y\"}],\n",
              "                        {\"barmode\": \"relative\", \"legend\": {\"tracegroupgap\": 0}, \"template\": {\"data\": {\"bar\": [{\"error_x\": {\"color\": \"#2a3f5f\"}, \"error_y\": {\"color\": \"#2a3f5f\"}, \"marker\": {\"line\": {\"color\": \"#E5ECF6\", \"width\": 0.5}}, \"type\": \"bar\"}], \"barpolar\": [{\"marker\": {\"line\": {\"color\": \"#E5ECF6\", \"width\": 0.5}}, \"type\": \"barpolar\"}], \"carpet\": [{\"aaxis\": {\"endlinecolor\": \"#2a3f5f\", \"gridcolor\": \"white\", \"linecolor\": \"white\", \"minorgridcolor\": \"white\", \"startlinecolor\": \"#2a3f5f\"}, \"baxis\": {\"endlinecolor\": \"#2a3f5f\", \"gridcolor\": \"white\", \"linecolor\": \"white\", \"minorgridcolor\": \"white\", \"startlinecolor\": \"#2a3f5f\"}, \"type\": \"carpet\"}], \"choropleth\": [{\"colorbar\": {\"outlinewidth\": 0, \"ticks\": \"\"}, \"type\": \"choropleth\"}], \"contour\": [{\"colorbar\": {\"outlinewidth\": 0, \"ticks\": \"\"}, \"colorscale\": [[0.0, \"#0d0887\"], [0.1111111111111111, \"#46039f\"], [0.2222222222222222, \"#7201a8\"], [0.3333333333333333, \"#9c179e\"], [0.4444444444444444, \"#bd3786\"], [0.5555555555555556, \"#d8576b\"], [0.6666666666666666, \"#ed7953\"], [0.7777777777777778, \"#fb9f3a\"], [0.8888888888888888, \"#fdca26\"], [1.0, \"#f0f921\"]], \"type\": \"contour\"}], \"contourcarpet\": [{\"colorbar\": {\"outlinewidth\": 0, \"ticks\": \"\"}, \"type\": \"contourcarpet\"}], \"heatmap\": [{\"colorbar\": {\"outlinewidth\": 0, \"ticks\": \"\"}, \"colorscale\": [[0.0, \"#0d0887\"], [0.1111111111111111, \"#46039f\"], [0.2222222222222222, \"#7201a8\"], [0.3333333333333333, \"#9c179e\"], [0.4444444444444444, \"#bd3786\"], [0.5555555555555556, \"#d8576b\"], [0.6666666666666666, \"#ed7953\"], [0.7777777777777778, \"#fb9f3a\"], [0.8888888888888888, \"#fdca26\"], [1.0, \"#f0f921\"]], \"type\": \"heatmap\"}], \"heatmapgl\": [{\"colorbar\": {\"outlinewidth\": 0, \"ticks\": \"\"}, \"colorscale\": [[0.0, \"#0d0887\"], [0.1111111111111111, \"#46039f\"], [0.2222222222222222, \"#7201a8\"], [0.3333333333333333, \"#9c179e\"], [0.4444444444444444, \"#bd3786\"], [0.5555555555555556, \"#d8576b\"], [0.6666666666666666, \"#ed7953\"], [0.7777777777777778, \"#fb9f3a\"], [0.8888888888888888, \"#fdca26\"], [1.0, \"#f0f921\"]], \"type\": \"heatmapgl\"}], \"histogram\": [{\"marker\": {\"colorbar\": {\"outlinewidth\": 0, \"ticks\": \"\"}}, \"type\": \"histogram\"}], \"histogram2d\": [{\"colorbar\": {\"outlinewidth\": 0, \"ticks\": \"\"}, \"colorscale\": [[0.0, \"#0d0887\"], [0.1111111111111111, \"#46039f\"], [0.2222222222222222, \"#7201a8\"], [0.3333333333333333, \"#9c179e\"], [0.4444444444444444, \"#bd3786\"], [0.5555555555555556, \"#d8576b\"], [0.6666666666666666, \"#ed7953\"], [0.7777777777777778, \"#fb9f3a\"], [0.8888888888888888, \"#fdca26\"], [1.0, \"#f0f921\"]], \"type\": \"histogram2d\"}], \"histogram2dcontour\": [{\"colorbar\": {\"outlinewidth\": 0, \"ticks\": \"\"}, \"colorscale\": [[0.0, \"#0d0887\"], [0.1111111111111111, \"#46039f\"], [0.2222222222222222, \"#7201a8\"], [0.3333333333333333, \"#9c179e\"], [0.4444444444444444, \"#bd3786\"], [0.5555555555555556, \"#d8576b\"], [0.6666666666666666, \"#ed7953\"], [0.7777777777777778, \"#fb9f3a\"], [0.8888888888888888, \"#fdca26\"], [1.0, \"#f0f921\"]], \"type\": \"histogram2dcontour\"}], \"mesh3d\": [{\"colorbar\": {\"outlinewidth\": 0, \"ticks\": \"\"}, \"type\": \"mesh3d\"}], \"parcoords\": [{\"line\": {\"colorbar\": {\"outlinewidth\": 0, \"ticks\": \"\"}}, \"type\": \"parcoords\"}], \"pie\": [{\"automargin\": true, \"type\": \"pie\"}], \"scatter\": [{\"marker\": {\"colorbar\": {\"outlinewidth\": 0, \"ticks\": \"\"}}, \"type\": \"scatter\"}], \"scatter3d\": [{\"line\": {\"colorbar\": {\"outlinewidth\": 0, \"ticks\": \"\"}}, \"marker\": {\"colorbar\": {\"outlinewidth\": 0, \"ticks\": \"\"}}, \"type\": \"scatter3d\"}], \"scattercarpet\": [{\"marker\": {\"colorbar\": {\"outlinewidth\": 0, \"ticks\": \"\"}}, \"type\": \"scattercarpet\"}], \"scattergeo\": [{\"marker\": {\"colorbar\": {\"outlinewidth\": 0, \"ticks\": \"\"}}, \"type\": \"scattergeo\"}], \"scattergl\": [{\"marker\": {\"colorbar\": {\"outlinewidth\": 0, \"ticks\": \"\"}}, \"type\": \"scattergl\"}], \"scattermapbox\": [{\"marker\": {\"colorbar\": {\"outlinewidth\": 0, \"ticks\": \"\"}}, \"type\": \"scattermapbox\"}], \"scatterpolar\": [{\"marker\": {\"colorbar\": {\"outlinewidth\": 0, \"ticks\": \"\"}}, \"type\": \"scatterpolar\"}], \"scatterpolargl\": [{\"marker\": {\"colorbar\": {\"outlinewidth\": 0, \"ticks\": \"\"}}, \"type\": \"scatterpolargl\"}], \"scatterternary\": [{\"marker\": {\"colorbar\": {\"outlinewidth\": 0, \"ticks\": \"\"}}, \"type\": \"scatterternary\"}], \"surface\": [{\"colorbar\": {\"outlinewidth\": 0, \"ticks\": \"\"}, \"colorscale\": [[0.0, \"#0d0887\"], [0.1111111111111111, \"#46039f\"], [0.2222222222222222, \"#7201a8\"], [0.3333333333333333, \"#9c179e\"], [0.4444444444444444, \"#bd3786\"], [0.5555555555555556, \"#d8576b\"], [0.6666666666666666, \"#ed7953\"], [0.7777777777777778, \"#fb9f3a\"], [0.8888888888888888, \"#fdca26\"], [1.0, \"#f0f921\"]], \"type\": \"surface\"}], \"table\": [{\"cells\": {\"fill\": {\"color\": \"#EBF0F8\"}, \"line\": {\"color\": \"white\"}}, \"header\": {\"fill\": {\"color\": \"#C8D4E3\"}, \"line\": {\"color\": \"white\"}}, \"type\": \"table\"}]}, \"layout\": {\"annotationdefaults\": {\"arrowcolor\": \"#2a3f5f\", \"arrowhead\": 0, \"arrowwidth\": 1}, \"coloraxis\": {\"colorbar\": {\"outlinewidth\": 0, \"ticks\": \"\"}}, \"colorscale\": {\"diverging\": [[0, \"#8e0152\"], [0.1, \"#c51b7d\"], [0.2, \"#de77ae\"], [0.3, \"#f1b6da\"], [0.4, \"#fde0ef\"], [0.5, \"#f7f7f7\"], [0.6, \"#e6f5d0\"], [0.7, \"#b8e186\"], [0.8, \"#7fbc41\"], [0.9, \"#4d9221\"], [1, \"#276419\"]], \"sequential\": [[0.0, \"#0d0887\"], [0.1111111111111111, \"#46039f\"], [0.2222222222222222, \"#7201a8\"], [0.3333333333333333, \"#9c179e\"], [0.4444444444444444, \"#bd3786\"], [0.5555555555555556, \"#d8576b\"], [0.6666666666666666, \"#ed7953\"], [0.7777777777777778, \"#fb9f3a\"], [0.8888888888888888, \"#fdca26\"], [1.0, \"#f0f921\"]], \"sequentialminus\": [[0.0, \"#0d0887\"], [0.1111111111111111, \"#46039f\"], [0.2222222222222222, \"#7201a8\"], [0.3333333333333333, \"#9c179e\"], [0.4444444444444444, \"#bd3786\"], [0.5555555555555556, \"#d8576b\"], [0.6666666666666666, \"#ed7953\"], [0.7777777777777778, \"#fb9f3a\"], [0.8888888888888888, \"#fdca26\"], [1.0, \"#f0f921\"]]}, \"colorway\": [\"#636efa\", \"#EF553B\", \"#00cc96\", \"#ab63fa\", \"#FFA15A\", \"#19d3f3\", \"#FF6692\", \"#B6E880\", \"#FF97FF\", \"#FECB52\"], \"font\": {\"color\": \"#2a3f5f\"}, \"geo\": {\"bgcolor\": \"white\", \"lakecolor\": \"white\", \"landcolor\": \"#E5ECF6\", \"showlakes\": true, \"showland\": true, \"subunitcolor\": \"white\"}, \"hoverlabel\": {\"align\": \"left\"}, \"hovermode\": \"closest\", \"mapbox\": {\"style\": \"light\"}, \"paper_bgcolor\": \"white\", \"plot_bgcolor\": \"#E5ECF6\", \"polar\": {\"angularaxis\": {\"gridcolor\": \"white\", \"linecolor\": \"white\", \"ticks\": \"\"}, \"bgcolor\": \"#E5ECF6\", \"radialaxis\": {\"gridcolor\": \"white\", \"linecolor\": \"white\", \"ticks\": \"\"}}, \"scene\": {\"xaxis\": {\"backgroundcolor\": \"#E5ECF6\", \"gridcolor\": \"white\", \"gridwidth\": 2, \"linecolor\": \"white\", \"showbackground\": true, \"ticks\": \"\", \"zerolinecolor\": \"white\"}, \"yaxis\": {\"backgroundcolor\": \"#E5ECF6\", \"gridcolor\": \"white\", \"gridwidth\": 2, \"linecolor\": \"white\", \"showbackground\": true, \"ticks\": \"\", \"zerolinecolor\": \"white\"}, \"zaxis\": {\"backgroundcolor\": \"#E5ECF6\", \"gridcolor\": \"white\", \"gridwidth\": 2, \"linecolor\": \"white\", \"showbackground\": true, \"ticks\": \"\", \"zerolinecolor\": \"white\"}}, \"shapedefaults\": {\"line\": {\"color\": \"#2a3f5f\"}}, \"ternary\": {\"aaxis\": {\"gridcolor\": \"white\", \"linecolor\": \"white\", \"ticks\": \"\"}, \"baxis\": {\"gridcolor\": \"white\", \"linecolor\": \"white\", \"ticks\": \"\"}, \"bgcolor\": \"#E5ECF6\", \"caxis\": {\"gridcolor\": \"white\", \"linecolor\": \"white\", \"ticks\": \"\"}}, \"title\": {\"x\": 0.05}, \"xaxis\": {\"automargin\": true, \"gridcolor\": \"white\", \"linecolor\": \"white\", \"ticks\": \"\", \"title\": {\"standoff\": 15}, \"zerolinecolor\": \"white\", \"zerolinewidth\": 2}, \"yaxis\": {\"automargin\": true, \"gridcolor\": \"white\", \"linecolor\": \"white\", \"ticks\": \"\", \"title\": {\"standoff\": 15}, \"zerolinecolor\": \"white\", \"zerolinewidth\": 2}}}, \"title\": {\"text\": \"Fit Time\"}, \"xaxis\": {\"anchor\": \"y\", \"domain\": [0.0, 1.0], \"title\": {\"text\": \"Model Name\"}}, \"yaxis\": {\"anchor\": \"x\", \"domain\": [0.0, 1.0], \"title\": {\"text\": \"Fit Time\"}}},\n",
              "                        {\"responsive\": true}\n",
              "                    ).then(function(){\n",
              "                            \n",
              "var gd = document.getElementById('32f87cb8-4882-47d6-a448-574d1667fc9f');\n",
              "var x = new MutationObserver(function (mutations, observer) {{\n",
              "        var display = window.getComputedStyle(gd).display;\n",
              "        if (!display || display === 'none') {{\n",
              "            console.log([gd, 'removed!']);\n",
              "            Plotly.purge(gd);\n",
              "            observer.disconnect();\n",
              "        }}\n",
              "}});\n",
              "\n",
              "// Listen for the removal of the full notebook cells\n",
              "var notebookContainer = gd.closest('#notebook-container');\n",
              "if (notebookContainer) {{\n",
              "    x.observe(notebookContainer, {childList: true});\n",
              "}}\n",
              "\n",
              "// Listen for the clearing of the current output cell\n",
              "var outputEl = gd.closest('.output');\n",
              "if (outputEl) {{\n",
              "    x.observe(outputEl, {childList: true});\n",
              "}}\n",
              "\n",
              "                        })\n",
              "                };\n",
              "                \n",
              "            </script>\n",
              "        </div>\n",
              "</body>\n",
              "</html>"
            ]
          },
          "metadata": {
            "tags": []
          }
        }
      ]
    },
    {
      "cell_type": "markdown",
      "metadata": {
        "id": "cTNFKQ49BBXz"
      },
      "source": [
        "![Fit Time_OLD.png](data:image/png;base64,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)"
      ]
    }
  ]
}