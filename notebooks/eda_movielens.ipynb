{
 "cells": [
  {
   "cell_type": "markdown",
   "metadata": {},
   "source": [
    "# Exploratory Data Analysis on MovieLens Dataset"
   ]
  },
  {
   "cell_type": "markdown",
   "metadata": {},
   "source": [
    "> Kunal PATIL (AIS S20)"
   ]
  },
  {
   "cell_type": "markdown",
   "metadata": {},
   "source": [
    "In this notebook we are going to do exploratory Data analysis on Movielens dataset.\n",
    "We will be performing below explorations:\n",
    "1. Explaining the data\n",
    "2. Cleaning the data \n",
    "(Identifying duplicates, Eliminating duplicates if there are any and Adapting these changes in ratings dataset to avoid wrong interpretation of data)"
   ]
  },
  {
   "cell_type": "code",
   "execution_count": 1,
   "metadata": {},
   "outputs": [
    {
     "name": "stdout",
     "output_type": "stream",
     "text": [
      "Python 3.8.7\n"
     ]
    }
   ],
   "source": [
    "!python --version"
   ]
  },
  {
   "cell_type": "markdown",
   "metadata": {},
   "source": [
    "### Arborescence"
   ]
  },
  {
   "cell_type": "code",
   "execution_count": 3,
   "metadata": {
    "pycharm": {
     "is_executing": false
    }
   },
   "outputs": [
    {
     "name": "stdout",
     "output_type": "stream",
     "text": [
      "Folder PATH listing for volume PROJECT\n",
      "Volume serial number is E8EA-F1D3\n",
      "D:\\SUBJECTS\\RECSYS\\PROJECT\\\n",
      "Invalid path - \\SUBJECTS\\RECSYS\\PROJECT\\\n",
      "No subfolders exist \n",
      "\n"
     ]
    }
   ],
   "source": [
    "!tree ../"
   ]
  },
  {
   "cell_type": "markdown",
   "metadata": {},
   "source": [
    "### Import Libraries and Declare variables"
   ]
  },
  {
   "cell_type": "code",
   "execution_count": 3,
   "metadata": {},
   "outputs": [],
   "source": [
    "from pathlib import Path\n",
    "import pandas as pd"
   ]
  },
  {
   "cell_type": "code",
   "execution_count": 4,
   "metadata": {},
   "outputs": [],
   "source": [
    "DATA_DIR = Path('../data/movielens/ml-latest')\n",
    "\n",
    "RATINGS_FILEPATH = DATA_DIR / 'ratings.csv'\n",
    "MOVIES_FILPATH = DATA_DIR / 'movies.csv'"
   ]
  },
  {
   "cell_type": "markdown",
   "metadata": {},
   "source": [
    "# Ratings"
   ]
  },
  {
   "cell_type": "markdown",
   "metadata": {},
   "source": [
    "#### Performing analysis on ratings dataset."
   ]
  },
  {
   "cell_type": "markdown",
   "metadata": {},
   "source": [
    "Read data using pandas and save it in variable"
   ]
  },
  {
   "cell_type": "code",
   "execution_count": 5,
   "metadata": {},
   "outputs": [
    {
     "data": {
      "text/html": [
       "<div>\n",
       "<style scoped>\n",
       "    .dataframe tbody tr th:only-of-type {\n",
       "        vertical-align: middle;\n",
       "    }\n",
       "\n",
       "    .dataframe tbody tr th {\n",
       "        vertical-align: top;\n",
       "    }\n",
       "\n",
       "    .dataframe thead th {\n",
       "        text-align: right;\n",
       "    }\n",
       "</style>\n",
       "<table border=\"1\" class=\"dataframe\">\n",
       "  <thead>\n",
       "    <tr style=\"text-align: right;\">\n",
       "      <th></th>\n",
       "      <th>userId</th>\n",
       "      <th>movieId</th>\n",
       "      <th>rating</th>\n",
       "      <th>timestamp</th>\n",
       "    </tr>\n",
       "  </thead>\n",
       "  <tbody>\n",
       "    <tr>\n",
       "      <th>8573461</th>\n",
       "      <td>88366</td>\n",
       "      <td>36529</td>\n",
       "      <td>3.0</td>\n",
       "      <td>1326719775</td>\n",
       "    </tr>\n",
       "    <tr>\n",
       "      <th>10539337</th>\n",
       "      <td>108312</td>\n",
       "      <td>33493</td>\n",
       "      <td>1.5</td>\n",
       "      <td>1221972955</td>\n",
       "    </tr>\n",
       "    <tr>\n",
       "      <th>14844458</th>\n",
       "      <td>151859</td>\n",
       "      <td>1527</td>\n",
       "      <td>4.0</td>\n",
       "      <td>966129091</td>\n",
       "    </tr>\n",
       "    <tr>\n",
       "      <th>15501777</th>\n",
       "      <td>158274</td>\n",
       "      <td>49530</td>\n",
       "      <td>3.5</td>\n",
       "      <td>1461063353</td>\n",
       "    </tr>\n",
       "    <tr>\n",
       "      <th>26024629</th>\n",
       "      <td>265806</td>\n",
       "      <td>26776</td>\n",
       "      <td>5.0</td>\n",
       "      <td>1170141136</td>\n",
       "    </tr>\n",
       "  </tbody>\n",
       "</table>\n",
       "</div>"
      ],
      "text/plain": [
       "          userId  movieId  rating   timestamp\n",
       "8573461    88366    36529     3.0  1326719775\n",
       "10539337  108312    33493     1.5  1221972955\n",
       "14844458  151859     1527     4.0   966129091\n",
       "15501777  158274    49530     3.5  1461063353\n",
       "26024629  265806    26776     5.0  1170141136"
      ]
     },
     "execution_count": 5,
     "metadata": {},
     "output_type": "execute_result"
    }
   ],
   "source": [
    "ratings_raw = pd.read_csv(RATINGS_FILEPATH)\n",
    "ratings_raw.sample(5)"
   ]
  },
  {
   "cell_type": "markdown",
   "metadata": {},
   "source": [
    "> There are four columns UserId, movieId, rating and timestamp, showing only first 5 rows."
   ]
  },
  {
   "cell_type": "code",
   "execution_count": 6,
   "metadata": {},
   "outputs": [],
   "source": [
    "# Make a duplicate of original dataset for further operations\n",
    "ratings = ratings_raw.copy()"
   ]
  },
  {
   "cell_type": "code",
   "execution_count": 7,
   "metadata": {},
   "outputs": [
    {
     "name": "stdout",
     "output_type": "stream",
     "text": [
      "<class 'pandas.core.frame.DataFrame'>\n",
      "RangeIndex: 27753444 entries, 0 to 27753443\n",
      "Data columns (total 4 columns):\n",
      " #   Column     Dtype  \n",
      "---  ------     -----  \n",
      " 0   userId     int64  \n",
      " 1   movieId    int64  \n",
      " 2   rating     float64\n",
      " 3   timestamp  int64  \n",
      "dtypes: float64(1), int64(3)\n",
      "memory usage: 847.0 MB\n"
     ]
    }
   ],
   "source": [
    "# Check the information about the dataset\n",
    "ratings.info()"
   ]
  },
  {
   "cell_type": "markdown",
   "metadata": {},
   "source": [
    "Check if there is any null data present in any column"
   ]
  },
  {
   "cell_type": "code",
   "execution_count": 8,
   "metadata": {},
   "outputs": [
    {
     "data": {
      "text/plain": [
       "userId       0\n",
       "movieId      0\n",
       "rating       0\n",
       "timestamp    0\n",
       "dtype: int64"
      ]
     },
     "execution_count": 8,
     "metadata": {},
     "output_type": "execute_result"
    }
   ],
   "source": [
    "ratings.isnull().sum()"
   ]
  },
  {
   "cell_type": "markdown",
   "metadata": {},
   "source": [
    "> There is no null values present in our dataset, So we have our all data, but what if we have duplicate entries?"
   ]
  },
  {
   "cell_type": "markdown",
   "metadata": {},
   "source": [
    "Check whether is there any duplicate rows present and if yes what's the count."
   ]
  },
  {
   "cell_type": "code",
   "execution_count": 9,
   "metadata": {},
   "outputs": [
    {
     "data": {
      "text/plain": [
       "0"
      ]
     },
     "execution_count": 9,
     "metadata": {},
     "output_type": "execute_result"
    }
   ],
   "source": [
    "ratings.duplicated(keep=False).sum()"
   ]
  },
  {
   "cell_type": "markdown",
   "metadata": {},
   "source": [
    "> There seems no duplication in row values, means all movieIds are distinct, but again what if there are duplication in other columns like ratings, userId and timestamp?"
   ]
  },
  {
   "cell_type": "markdown",
   "metadata": {},
   "source": [
    "Check the duplicates per column if any"
   ]
  },
  {
   "cell_type": "code",
   "execution_count": 11,
   "metadata": {},
   "outputs": [
    {
     "data": {
      "text/plain": [
       "0"
      ]
     },
     "execution_count": 11,
     "metadata": {},
     "output_type": "execute_result"
    }
   ],
   "source": [
    "ratings.duplicated(subset=['userId', 'movieId', 'rating', 'timestamp']).sum()"
   ]
  },
  {
   "cell_type": "markdown",
   "metadata": {},
   "source": [
    "> There are no duplicates found."
   ]
  },
  {
   "cell_type": "markdown",
   "metadata": {},
   "source": [
    "We will check movie dataset and we will later come back to ratings dataset if necessary."
   ]
  },
  {
   "cell_type": "markdown",
   "metadata": {},
   "source": [
    "# Movies"
   ]
  },
  {
   "cell_type": "markdown",
   "metadata": {},
   "source": [
    "#### Performing analysis on movies dataset."
   ]
  },
  {
   "cell_type": "markdown",
   "metadata": {},
   "source": [
    "Read data using pandas and save it in variable"
   ]
  },
  {
   "cell_type": "code",
   "execution_count": 12,
   "metadata": {},
   "outputs": [
    {
     "data": {
      "text/html": [
       "<div>\n",
       "<style scoped>\n",
       "    .dataframe tbody tr th:only-of-type {\n",
       "        vertical-align: middle;\n",
       "    }\n",
       "\n",
       "    .dataframe tbody tr th {\n",
       "        vertical-align: top;\n",
       "    }\n",
       "\n",
       "    .dataframe thead th {\n",
       "        text-align: right;\n",
       "    }\n",
       "</style>\n",
       "<table border=\"1\" class=\"dataframe\">\n",
       "  <thead>\n",
       "    <tr style=\"text-align: right;\">\n",
       "      <th></th>\n",
       "      <th>movieId</th>\n",
       "      <th>title</th>\n",
       "      <th>genres</th>\n",
       "    </tr>\n",
       "  </thead>\n",
       "  <tbody>\n",
       "    <tr>\n",
       "      <th>20818</th>\n",
       "      <td>101162</td>\n",
       "      <td>Last Call at the Oasis (2011)</td>\n",
       "      <td>Documentary</td>\n",
       "    </tr>\n",
       "    <tr>\n",
       "      <th>19491</th>\n",
       "      <td>96110</td>\n",
       "      <td>Campaign, The (2012)</td>\n",
       "      <td>Comedy</td>\n",
       "    </tr>\n",
       "    <tr>\n",
       "      <th>55266</th>\n",
       "      <td>186953</td>\n",
       "      <td>Hearts Beat Loud (2018)</td>\n",
       "      <td>Drama</td>\n",
       "    </tr>\n",
       "    <tr>\n",
       "      <th>34169</th>\n",
       "      <td>139397</td>\n",
       "      <td>Peace After Marriage (2013)</td>\n",
       "      <td>Comedy|Drama|Romance</td>\n",
       "    </tr>\n",
       "    <tr>\n",
       "      <th>49462</th>\n",
       "      <td>174171</td>\n",
       "      <td>The Kingdom of Fairies (1903)</td>\n",
       "      <td>Adventure|Fantasy</td>\n",
       "    </tr>\n",
       "  </tbody>\n",
       "</table>\n",
       "</div>"
      ],
      "text/plain": [
       "       movieId                          title                genres\n",
       "20818   101162  Last Call at the Oasis (2011)           Documentary\n",
       "19491    96110           Campaign, The (2012)                Comedy\n",
       "55266   186953        Hearts Beat Loud (2018)                 Drama\n",
       "34169   139397    Peace After Marriage (2013)  Comedy|Drama|Romance\n",
       "49462   174171  The Kingdom of Fairies (1903)     Adventure|Fantasy"
      ]
     },
     "execution_count": 12,
     "metadata": {},
     "output_type": "execute_result"
    }
   ],
   "source": [
    "movies_raw = pd.read_csv(MOVIES_FILPATH)\n",
    "movies_raw.sample(5)"
   ]
  },
  {
   "cell_type": "markdown",
   "metadata": {},
   "source": [
    "> There are three columns movieId, Title and Genre, showing only first 5 rows."
   ]
  },
  {
   "cell_type": "code",
   "execution_count": 13,
   "metadata": {},
   "outputs": [],
   "source": [
    "# Make a duplicate of original dataset for further operations\n",
    "movies = movies_raw.copy()"
   ]
  },
  {
   "cell_type": "code",
   "execution_count": 14,
   "metadata": {},
   "outputs": [
    {
     "name": "stdout",
     "output_type": "stream",
     "text": [
      "<class 'pandas.core.frame.DataFrame'>\n",
      "RangeIndex: 58098 entries, 0 to 58097\n",
      "Data columns (total 3 columns):\n",
      " #   Column   Non-Null Count  Dtype \n",
      "---  ------   --------------  ----- \n",
      " 0   movieId  58098 non-null  int64 \n",
      " 1   title    58098 non-null  object\n",
      " 2   genres   58098 non-null  object\n",
      "dtypes: int64(1), object(2)\n",
      "memory usage: 1.3+ MB\n"
     ]
    }
   ],
   "source": [
    "# Check the information about the dataset\n",
    "movies.info()"
   ]
  },
  {
   "cell_type": "markdown",
   "metadata": {},
   "source": [
    "Check if there is any null data present in any column"
   ]
  },
  {
   "cell_type": "code",
   "execution_count": 15,
   "metadata": {
    "pycharm": {
     "name": "#%%\n"
    }
   },
   "outputs": [
    {
     "data": {
      "text/plain": [
       "movieId    0\n",
       "title      0\n",
       "genres     0\n",
       "dtype: int64"
      ]
     },
     "execution_count": 15,
     "metadata": {},
     "output_type": "execute_result"
    }
   ],
   "source": [
    " movies.isnull().sum()"
   ]
  },
  {
   "cell_type": "markdown",
   "metadata": {},
   "source": [
    "> There is no null values present in our dataset, So we have our all data, but what if we have duplicate entries?"
   ]
  },
  {
   "cell_type": "markdown",
   "metadata": {},
   "source": [
    "Check whether is there any duplicate rows present and if yes what's the count."
   ]
  },
  {
   "cell_type": "code",
   "execution_count": 16,
   "metadata": {
    "pycharm": {
     "name": "#%%\n"
    }
   },
   "outputs": [
    {
     "data": {
      "text/plain": [
       "0"
      ]
     },
     "execution_count": 16,
     "metadata": {},
     "output_type": "execute_result"
    }
   ],
   "source": [
    "movies.duplicated().sum()"
   ]
  },
  {
   "cell_type": "markdown",
   "metadata": {},
   "source": [
    "> There seems no duplication in row values, means all movieIds are distinct, but again what if there are duplication in other columns like with movie title or genres."
   ]
  },
  {
   "cell_type": "markdown",
   "metadata": {},
   "source": [
    "Check the duplicates per column if any"
   ]
  },
  {
   "cell_type": "code",
   "execution_count": 17,
   "metadata": {
    "pycharm": {
     "name": "#%%\n"
    }
   },
   "outputs": [
    {
     "data": {
      "text/plain": [
       "14"
      ]
     },
     "execution_count": 17,
     "metadata": {},
     "output_type": "execute_result"
    }
   ],
   "source": [
    "movies.duplicated(subset=['title', 'genres']).sum()"
   ]
  },
  {
   "cell_type": "markdown",
   "metadata": {},
   "source": [
    "> Yes! There are some duplicates present, let's check further in details"
   ]
  },
  {
   "cell_type": "markdown",
   "metadata": {},
   "source": [
    "Check the duplicates associated with columns, title and genres"
   ]
  },
  {
   "cell_type": "code",
   "execution_count": 18,
   "metadata": {
    "pycharm": {
     "name": "#%%\n"
    }
   },
   "outputs": [
    {
     "data": {
      "text/html": [
       "<div>\n",
       "<style scoped>\n",
       "    .dataframe tbody tr th:only-of-type {\n",
       "        vertical-align: middle;\n",
       "    }\n",
       "\n",
       "    .dataframe tbody tr th {\n",
       "        vertical-align: top;\n",
       "    }\n",
       "\n",
       "    .dataframe thead th {\n",
       "        text-align: right;\n",
       "    }\n",
       "</style>\n",
       "<table border=\"1\" class=\"dataframe\">\n",
       "  <thead>\n",
       "    <tr style=\"text-align: right;\">\n",
       "      <th></th>\n",
       "      <th>movieId</th>\n",
       "      <th>title</th>\n",
       "      <th>genres</th>\n",
       "    </tr>\n",
       "  </thead>\n",
       "  <tbody>\n",
       "    <tr>\n",
       "      <th>2560</th>\n",
       "      <td>2644</td>\n",
       "      <td>Dracula (1931)</td>\n",
       "      <td>Horror</td>\n",
       "    </tr>\n",
       "    <tr>\n",
       "      <th>11173</th>\n",
       "      <td>46865</td>\n",
       "      <td>Little Man (2006)</td>\n",
       "      <td>Comedy</td>\n",
       "    </tr>\n",
       "    <tr>\n",
       "      <th>11412</th>\n",
       "      <td>48682</td>\n",
       "      <td>Offside (2006)</td>\n",
       "      <td>Comedy|Drama</td>\n",
       "    </tr>\n",
       "    <tr>\n",
       "      <th>13504</th>\n",
       "      <td>66511</td>\n",
       "      <td>Berlin Calling (2008)</td>\n",
       "      <td>Comedy|Drama</td>\n",
       "    </tr>\n",
       "    <tr>\n",
       "      <th>14038</th>\n",
       "      <td>70155</td>\n",
       "      <td>Seven Years Bad Luck (1921)</td>\n",
       "      <td>Comedy</td>\n",
       "    </tr>\n",
       "    <tr>\n",
       "      <th>15637</th>\n",
       "      <td>79254</td>\n",
       "      <td>Home (2008)</td>\n",
       "      <td>Drama</td>\n",
       "    </tr>\n",
       "    <tr>\n",
       "      <th>15902</th>\n",
       "      <td>80330</td>\n",
       "      <td>Offside (2006)</td>\n",
       "      <td>Comedy|Drama</td>\n",
       "    </tr>\n",
       "    <tr>\n",
       "      <th>18867</th>\n",
       "      <td>93279</td>\n",
       "      <td>Darling (2007)</td>\n",
       "      <td>Drama</td>\n",
       "    </tr>\n",
       "    <tr>\n",
       "      <th>19914</th>\n",
       "      <td>97773</td>\n",
       "      <td>Girl, The (2012)</td>\n",
       "      <td>Drama</td>\n",
       "    </tr>\n",
       "    <tr>\n",
       "      <th>20835</th>\n",
       "      <td>101212</td>\n",
       "      <td>Girl, The (2012)</td>\n",
       "      <td>Drama</td>\n",
       "    </tr>\n",
       "    <tr>\n",
       "      <th>21655</th>\n",
       "      <td>104035</td>\n",
       "      <td>Beneath (2013)</td>\n",
       "      <td>Horror</td>\n",
       "    </tr>\n",
       "    <tr>\n",
       "      <th>21691</th>\n",
       "      <td>104155</td>\n",
       "      <td>Clear History (2013)</td>\n",
       "      <td>Comedy</td>\n",
       "    </tr>\n",
       "    <tr>\n",
       "      <th>23834</th>\n",
       "      <td>111519</td>\n",
       "      <td>Johnny Express (2014)</td>\n",
       "      <td>Animation|Comedy|Sci-Fi</td>\n",
       "    </tr>\n",
       "    <tr>\n",
       "      <th>25046</th>\n",
       "      <td>115777</td>\n",
       "      <td>Beneath (2013)</td>\n",
       "      <td>Horror</td>\n",
       "    </tr>\n",
       "    <tr>\n",
       "      <th>27572</th>\n",
       "      <td>122940</td>\n",
       "      <td>Clear History (2013)</td>\n",
       "      <td>Comedy</td>\n",
       "    </tr>\n",
       "    <tr>\n",
       "      <th>29852</th>\n",
       "      <td>128991</td>\n",
       "      <td>Johnny Express (2014)</td>\n",
       "      <td>Animation|Comedy|Sci-Fi</td>\n",
       "    </tr>\n",
       "    <tr>\n",
       "      <th>30226</th>\n",
       "      <td>130062</td>\n",
       "      <td>Darling (2007)</td>\n",
       "      <td>Drama</td>\n",
       "    </tr>\n",
       "    <tr>\n",
       "      <th>33001</th>\n",
       "      <td>136564</td>\n",
       "      <td>Macbeth (2015)</td>\n",
       "      <td>Drama</td>\n",
       "    </tr>\n",
       "    <tr>\n",
       "      <th>36172</th>\n",
       "      <td>143978</td>\n",
       "      <td>Home (2008)</td>\n",
       "      <td>Drama</td>\n",
       "    </tr>\n",
       "    <tr>\n",
       "      <th>38804</th>\n",
       "      <td>150310</td>\n",
       "      <td>Macbeth (2015)</td>\n",
       "      <td>Drama</td>\n",
       "    </tr>\n",
       "    <tr>\n",
       "      <th>44387</th>\n",
       "      <td>163246</td>\n",
       "      <td>Seven Years Bad Luck (1921)</td>\n",
       "      <td>Comedy</td>\n",
       "    </tr>\n",
       "    <tr>\n",
       "      <th>46904</th>\n",
       "      <td>168774</td>\n",
       "      <td>Detour (2017)</td>\n",
       "      <td>Thriller</td>\n",
       "    </tr>\n",
       "    <tr>\n",
       "      <th>48620</th>\n",
       "      <td>172427</td>\n",
       "      <td>Little Man (2006)</td>\n",
       "      <td>Comedy</td>\n",
       "    </tr>\n",
       "    <tr>\n",
       "      <th>51339</th>\n",
       "      <td>178401</td>\n",
       "      <td>Lucky (2017)</td>\n",
       "      <td>Drama</td>\n",
       "    </tr>\n",
       "    <tr>\n",
       "      <th>52192</th>\n",
       "      <td>180205</td>\n",
       "      <td>Dracula (1931)</td>\n",
       "      <td>Horror</td>\n",
       "    </tr>\n",
       "    <tr>\n",
       "      <th>52644</th>\n",
       "      <td>181329</td>\n",
       "      <td>Lucky (2017)</td>\n",
       "      <td>Drama</td>\n",
       "    </tr>\n",
       "    <tr>\n",
       "      <th>52795</th>\n",
       "      <td>181655</td>\n",
       "      <td>Detour (2017)</td>\n",
       "      <td>Thriller</td>\n",
       "    </tr>\n",
       "    <tr>\n",
       "      <th>57269</th>\n",
       "      <td>191775</td>\n",
       "      <td>Berlin Calling (2008)</td>\n",
       "      <td>Comedy|Drama</td>\n",
       "    </tr>\n",
       "  </tbody>\n",
       "</table>\n",
       "</div>"
      ],
      "text/plain": [
       "       movieId                        title                   genres\n",
       "2560      2644               Dracula (1931)                   Horror\n",
       "11173    46865            Little Man (2006)                   Comedy\n",
       "11412    48682               Offside (2006)             Comedy|Drama\n",
       "13504    66511        Berlin Calling (2008)             Comedy|Drama\n",
       "14038    70155  Seven Years Bad Luck (1921)                   Comedy\n",
       "15637    79254                  Home (2008)                    Drama\n",
       "15902    80330               Offside (2006)             Comedy|Drama\n",
       "18867    93279               Darling (2007)                    Drama\n",
       "19914    97773             Girl, The (2012)                    Drama\n",
       "20835   101212             Girl, The (2012)                    Drama\n",
       "21655   104035               Beneath (2013)                   Horror\n",
       "21691   104155         Clear History (2013)                   Comedy\n",
       "23834   111519        Johnny Express (2014)  Animation|Comedy|Sci-Fi\n",
       "25046   115777               Beneath (2013)                   Horror\n",
       "27572   122940         Clear History (2013)                   Comedy\n",
       "29852   128991        Johnny Express (2014)  Animation|Comedy|Sci-Fi\n",
       "30226   130062               Darling (2007)                    Drama\n",
       "33001   136564               Macbeth (2015)                    Drama\n",
       "36172   143978                  Home (2008)                    Drama\n",
       "38804   150310               Macbeth (2015)                    Drama\n",
       "44387   163246  Seven Years Bad Luck (1921)                   Comedy\n",
       "46904   168774                Detour (2017)                 Thriller\n",
       "48620   172427            Little Man (2006)                   Comedy\n",
       "51339   178401                 Lucky (2017)                    Drama\n",
       "52192   180205               Dracula (1931)                   Horror\n",
       "52644   181329                 Lucky (2017)                    Drama\n",
       "52795   181655                Detour (2017)                 Thriller\n",
       "57269   191775        Berlin Calling (2008)             Comedy|Drama"
      ]
     },
     "execution_count": 18,
     "metadata": {},
     "output_type": "execute_result"
    }
   ],
   "source": [
    "duplicates = movies[movies.duplicated(subset=['title', 'genres'], keep=False)]\n",
    "duplicates"
   ]
  },
  {
   "cell_type": "markdown",
   "metadata": {},
   "source": [
    "> We can see there are 14 pair of entries having same movie title and genre but different movieIds."
   ]
  },
  {
   "cell_type": "markdown",
   "metadata": {},
   "source": [
    "Check values of duplicated movie titles column"
   ]
  },
  {
   "cell_type": "code",
   "execution_count": 19,
   "metadata": {
    "pycharm": {
     "name": "#%%\n"
    }
   },
   "outputs": [
    {
     "data": {
      "text/plain": [
       "array(['Dracula (1931)', 'Little Man (2006)', 'Offside (2006)',\n",
       "       'Berlin Calling (2008)', 'Seven Years Bad Luck (1921)',\n",
       "       'Home (2008)', 'Offside (2006)', 'Darling (2007)',\n",
       "       'Girl, The (2012)', 'Girl, The (2012)', 'Beneath (2013)',\n",
       "       'Clear History (2013)', 'Johnny Express (2014)', 'Beneath (2013)',\n",
       "       'Clear History (2013)', 'Johnny Express (2014)', 'Darling (2007)',\n",
       "       'Macbeth (2015)', 'Home (2008)', 'Macbeth (2015)',\n",
       "       'Seven Years Bad Luck (1921)', 'Detour (2017)',\n",
       "       'Little Man (2006)', 'Lucky (2017)', 'Dracula (1931)',\n",
       "       'Lucky (2017)', 'Detour (2017)', 'Berlin Calling (2008)'],\n",
       "      dtype=object)"
      ]
     },
     "execution_count": 19,
     "metadata": {},
     "output_type": "execute_result"
    }
   ],
   "source": [
    "duplicates.title.values"
   ]
  },
  {
   "cell_type": "markdown",
   "metadata": {},
   "source": [
    "Display duplicate values among the unique values from the titles and pair them per duplication"
   ]
  },
  {
   "cell_type": "code",
   "execution_count": 20,
   "metadata": {
    "pycharm": {
     "name": "#%%\n"
    }
   },
   "outputs": [
    {
     "data": {
      "text/html": [
       "<div>\n",
       "<style scoped>\n",
       "    .dataframe tbody tr th:only-of-type {\n",
       "        vertical-align: middle;\n",
       "    }\n",
       "\n",
       "    .dataframe tbody tr th {\n",
       "        vertical-align: top;\n",
       "    }\n",
       "\n",
       "    .dataframe thead th {\n",
       "        text-align: right;\n",
       "    }\n",
       "</style>\n",
       "<table border=\"1\" class=\"dataframe\">\n",
       "  <thead>\n",
       "    <tr style=\"text-align: right;\">\n",
       "      <th></th>\n",
       "      <th>movieId</th>\n",
       "      <th>title</th>\n",
       "      <th>genres</th>\n",
       "    </tr>\n",
       "  </thead>\n",
       "  <tbody>\n",
       "    <tr>\n",
       "      <th>2560</th>\n",
       "      <td>2644</td>\n",
       "      <td>Dracula (1931)</td>\n",
       "      <td>Horror</td>\n",
       "    </tr>\n",
       "    <tr>\n",
       "      <th>52192</th>\n",
       "      <td>180205</td>\n",
       "      <td>Dracula (1931)</td>\n",
       "      <td>Horror</td>\n",
       "    </tr>\n",
       "  </tbody>\n",
       "</table>\n",
       "</div>"
      ],
      "text/plain": [
       "       movieId           title  genres\n",
       "2560      2644  Dracula (1931)  Horror\n",
       "52192   180205  Dracula (1931)  Horror"
      ]
     },
     "metadata": {},
     "output_type": "display_data"
    },
    {
     "data": {
      "text/html": [
       "<div>\n",
       "<style scoped>\n",
       "    .dataframe tbody tr th:only-of-type {\n",
       "        vertical-align: middle;\n",
       "    }\n",
       "\n",
       "    .dataframe tbody tr th {\n",
       "        vertical-align: top;\n",
       "    }\n",
       "\n",
       "    .dataframe thead th {\n",
       "        text-align: right;\n",
       "    }\n",
       "</style>\n",
       "<table border=\"1\" class=\"dataframe\">\n",
       "  <thead>\n",
       "    <tr style=\"text-align: right;\">\n",
       "      <th></th>\n",
       "      <th>movieId</th>\n",
       "      <th>title</th>\n",
       "      <th>genres</th>\n",
       "    </tr>\n",
       "  </thead>\n",
       "  <tbody>\n",
       "    <tr>\n",
       "      <th>11173</th>\n",
       "      <td>46865</td>\n",
       "      <td>Little Man (2006)</td>\n",
       "      <td>Comedy</td>\n",
       "    </tr>\n",
       "    <tr>\n",
       "      <th>48620</th>\n",
       "      <td>172427</td>\n",
       "      <td>Little Man (2006)</td>\n",
       "      <td>Comedy</td>\n",
       "    </tr>\n",
       "  </tbody>\n",
       "</table>\n",
       "</div>"
      ],
      "text/plain": [
       "       movieId              title  genres\n",
       "11173    46865  Little Man (2006)  Comedy\n",
       "48620   172427  Little Man (2006)  Comedy"
      ]
     },
     "metadata": {},
     "output_type": "display_data"
    },
    {
     "data": {
      "text/html": [
       "<div>\n",
       "<style scoped>\n",
       "    .dataframe tbody tr th:only-of-type {\n",
       "        vertical-align: middle;\n",
       "    }\n",
       "\n",
       "    .dataframe tbody tr th {\n",
       "        vertical-align: top;\n",
       "    }\n",
       "\n",
       "    .dataframe thead th {\n",
       "        text-align: right;\n",
       "    }\n",
       "</style>\n",
       "<table border=\"1\" class=\"dataframe\">\n",
       "  <thead>\n",
       "    <tr style=\"text-align: right;\">\n",
       "      <th></th>\n",
       "      <th>movieId</th>\n",
       "      <th>title</th>\n",
       "      <th>genres</th>\n",
       "    </tr>\n",
       "  </thead>\n",
       "  <tbody>\n",
       "    <tr>\n",
       "      <th>11412</th>\n",
       "      <td>48682</td>\n",
       "      <td>Offside (2006)</td>\n",
       "      <td>Comedy|Drama</td>\n",
       "    </tr>\n",
       "    <tr>\n",
       "      <th>15902</th>\n",
       "      <td>80330</td>\n",
       "      <td>Offside (2006)</td>\n",
       "      <td>Comedy|Drama</td>\n",
       "    </tr>\n",
       "  </tbody>\n",
       "</table>\n",
       "</div>"
      ],
      "text/plain": [
       "       movieId           title        genres\n",
       "11412    48682  Offside (2006)  Comedy|Drama\n",
       "15902    80330  Offside (2006)  Comedy|Drama"
      ]
     },
     "metadata": {},
     "output_type": "display_data"
    },
    {
     "data": {
      "text/html": [
       "<div>\n",
       "<style scoped>\n",
       "    .dataframe tbody tr th:only-of-type {\n",
       "        vertical-align: middle;\n",
       "    }\n",
       "\n",
       "    .dataframe tbody tr th {\n",
       "        vertical-align: top;\n",
       "    }\n",
       "\n",
       "    .dataframe thead th {\n",
       "        text-align: right;\n",
       "    }\n",
       "</style>\n",
       "<table border=\"1\" class=\"dataframe\">\n",
       "  <thead>\n",
       "    <tr style=\"text-align: right;\">\n",
       "      <th></th>\n",
       "      <th>movieId</th>\n",
       "      <th>title</th>\n",
       "      <th>genres</th>\n",
       "    </tr>\n",
       "  </thead>\n",
       "  <tbody>\n",
       "    <tr>\n",
       "      <th>13504</th>\n",
       "      <td>66511</td>\n",
       "      <td>Berlin Calling (2008)</td>\n",
       "      <td>Comedy|Drama</td>\n",
       "    </tr>\n",
       "    <tr>\n",
       "      <th>57269</th>\n",
       "      <td>191775</td>\n",
       "      <td>Berlin Calling (2008)</td>\n",
       "      <td>Comedy|Drama</td>\n",
       "    </tr>\n",
       "  </tbody>\n",
       "</table>\n",
       "</div>"
      ],
      "text/plain": [
       "       movieId                  title        genres\n",
       "13504    66511  Berlin Calling (2008)  Comedy|Drama\n",
       "57269   191775  Berlin Calling (2008)  Comedy|Drama"
      ]
     },
     "metadata": {},
     "output_type": "display_data"
    },
    {
     "data": {
      "text/html": [
       "<div>\n",
       "<style scoped>\n",
       "    .dataframe tbody tr th:only-of-type {\n",
       "        vertical-align: middle;\n",
       "    }\n",
       "\n",
       "    .dataframe tbody tr th {\n",
       "        vertical-align: top;\n",
       "    }\n",
       "\n",
       "    .dataframe thead th {\n",
       "        text-align: right;\n",
       "    }\n",
       "</style>\n",
       "<table border=\"1\" class=\"dataframe\">\n",
       "  <thead>\n",
       "    <tr style=\"text-align: right;\">\n",
       "      <th></th>\n",
       "      <th>movieId</th>\n",
       "      <th>title</th>\n",
       "      <th>genres</th>\n",
       "    </tr>\n",
       "  </thead>\n",
       "  <tbody>\n",
       "    <tr>\n",
       "      <th>14038</th>\n",
       "      <td>70155</td>\n",
       "      <td>Seven Years Bad Luck (1921)</td>\n",
       "      <td>Comedy</td>\n",
       "    </tr>\n",
       "    <tr>\n",
       "      <th>44387</th>\n",
       "      <td>163246</td>\n",
       "      <td>Seven Years Bad Luck (1921)</td>\n",
       "      <td>Comedy</td>\n",
       "    </tr>\n",
       "  </tbody>\n",
       "</table>\n",
       "</div>"
      ],
      "text/plain": [
       "       movieId                        title  genres\n",
       "14038    70155  Seven Years Bad Luck (1921)  Comedy\n",
       "44387   163246  Seven Years Bad Luck (1921)  Comedy"
      ]
     },
     "metadata": {},
     "output_type": "display_data"
    },
    {
     "data": {
      "text/html": [
       "<div>\n",
       "<style scoped>\n",
       "    .dataframe tbody tr th:only-of-type {\n",
       "        vertical-align: middle;\n",
       "    }\n",
       "\n",
       "    .dataframe tbody tr th {\n",
       "        vertical-align: top;\n",
       "    }\n",
       "\n",
       "    .dataframe thead th {\n",
       "        text-align: right;\n",
       "    }\n",
       "</style>\n",
       "<table border=\"1\" class=\"dataframe\">\n",
       "  <thead>\n",
       "    <tr style=\"text-align: right;\">\n",
       "      <th></th>\n",
       "      <th>movieId</th>\n",
       "      <th>title</th>\n",
       "      <th>genres</th>\n",
       "    </tr>\n",
       "  </thead>\n",
       "  <tbody>\n",
       "    <tr>\n",
       "      <th>15637</th>\n",
       "      <td>79254</td>\n",
       "      <td>Home (2008)</td>\n",
       "      <td>Drama</td>\n",
       "    </tr>\n",
       "    <tr>\n",
       "      <th>36172</th>\n",
       "      <td>143978</td>\n",
       "      <td>Home (2008)</td>\n",
       "      <td>Drama</td>\n",
       "    </tr>\n",
       "  </tbody>\n",
       "</table>\n",
       "</div>"
      ],
      "text/plain": [
       "       movieId        title genres\n",
       "15637    79254  Home (2008)  Drama\n",
       "36172   143978  Home (2008)  Drama"
      ]
     },
     "metadata": {},
     "output_type": "display_data"
    },
    {
     "data": {
      "text/html": [
       "<div>\n",
       "<style scoped>\n",
       "    .dataframe tbody tr th:only-of-type {\n",
       "        vertical-align: middle;\n",
       "    }\n",
       "\n",
       "    .dataframe tbody tr th {\n",
       "        vertical-align: top;\n",
       "    }\n",
       "\n",
       "    .dataframe thead th {\n",
       "        text-align: right;\n",
       "    }\n",
       "</style>\n",
       "<table border=\"1\" class=\"dataframe\">\n",
       "  <thead>\n",
       "    <tr style=\"text-align: right;\">\n",
       "      <th></th>\n",
       "      <th>movieId</th>\n",
       "      <th>title</th>\n",
       "      <th>genres</th>\n",
       "    </tr>\n",
       "  </thead>\n",
       "  <tbody>\n",
       "    <tr>\n",
       "      <th>18867</th>\n",
       "      <td>93279</td>\n",
       "      <td>Darling (2007)</td>\n",
       "      <td>Drama</td>\n",
       "    </tr>\n",
       "    <tr>\n",
       "      <th>30226</th>\n",
       "      <td>130062</td>\n",
       "      <td>Darling (2007)</td>\n",
       "      <td>Drama</td>\n",
       "    </tr>\n",
       "  </tbody>\n",
       "</table>\n",
       "</div>"
      ],
      "text/plain": [
       "       movieId           title genres\n",
       "18867    93279  Darling (2007)  Drama\n",
       "30226   130062  Darling (2007)  Drama"
      ]
     },
     "metadata": {},
     "output_type": "display_data"
    },
    {
     "data": {
      "text/html": [
       "<div>\n",
       "<style scoped>\n",
       "    .dataframe tbody tr th:only-of-type {\n",
       "        vertical-align: middle;\n",
       "    }\n",
       "\n",
       "    .dataframe tbody tr th {\n",
       "        vertical-align: top;\n",
       "    }\n",
       "\n",
       "    .dataframe thead th {\n",
       "        text-align: right;\n",
       "    }\n",
       "</style>\n",
       "<table border=\"1\" class=\"dataframe\">\n",
       "  <thead>\n",
       "    <tr style=\"text-align: right;\">\n",
       "      <th></th>\n",
       "      <th>movieId</th>\n",
       "      <th>title</th>\n",
       "      <th>genres</th>\n",
       "    </tr>\n",
       "  </thead>\n",
       "  <tbody>\n",
       "    <tr>\n",
       "      <th>19914</th>\n",
       "      <td>97773</td>\n",
       "      <td>Girl, The (2012)</td>\n",
       "      <td>Drama</td>\n",
       "    </tr>\n",
       "    <tr>\n",
       "      <th>20835</th>\n",
       "      <td>101212</td>\n",
       "      <td>Girl, The (2012)</td>\n",
       "      <td>Drama</td>\n",
       "    </tr>\n",
       "  </tbody>\n",
       "</table>\n",
       "</div>"
      ],
      "text/plain": [
       "       movieId             title genres\n",
       "19914    97773  Girl, The (2012)  Drama\n",
       "20835   101212  Girl, The (2012)  Drama"
      ]
     },
     "metadata": {},
     "output_type": "display_data"
    },
    {
     "data": {
      "text/html": [
       "<div>\n",
       "<style scoped>\n",
       "    .dataframe tbody tr th:only-of-type {\n",
       "        vertical-align: middle;\n",
       "    }\n",
       "\n",
       "    .dataframe tbody tr th {\n",
       "        vertical-align: top;\n",
       "    }\n",
       "\n",
       "    .dataframe thead th {\n",
       "        text-align: right;\n",
       "    }\n",
       "</style>\n",
       "<table border=\"1\" class=\"dataframe\">\n",
       "  <thead>\n",
       "    <tr style=\"text-align: right;\">\n",
       "      <th></th>\n",
       "      <th>movieId</th>\n",
       "      <th>title</th>\n",
       "      <th>genres</th>\n",
       "    </tr>\n",
       "  </thead>\n",
       "  <tbody>\n",
       "    <tr>\n",
       "      <th>21655</th>\n",
       "      <td>104035</td>\n",
       "      <td>Beneath (2013)</td>\n",
       "      <td>Horror</td>\n",
       "    </tr>\n",
       "    <tr>\n",
       "      <th>25046</th>\n",
       "      <td>115777</td>\n",
       "      <td>Beneath (2013)</td>\n",
       "      <td>Horror</td>\n",
       "    </tr>\n",
       "  </tbody>\n",
       "</table>\n",
       "</div>"
      ],
      "text/plain": [
       "       movieId           title  genres\n",
       "21655   104035  Beneath (2013)  Horror\n",
       "25046   115777  Beneath (2013)  Horror"
      ]
     },
     "metadata": {},
     "output_type": "display_data"
    },
    {
     "data": {
      "text/html": [
       "<div>\n",
       "<style scoped>\n",
       "    .dataframe tbody tr th:only-of-type {\n",
       "        vertical-align: middle;\n",
       "    }\n",
       "\n",
       "    .dataframe tbody tr th {\n",
       "        vertical-align: top;\n",
       "    }\n",
       "\n",
       "    .dataframe thead th {\n",
       "        text-align: right;\n",
       "    }\n",
       "</style>\n",
       "<table border=\"1\" class=\"dataframe\">\n",
       "  <thead>\n",
       "    <tr style=\"text-align: right;\">\n",
       "      <th></th>\n",
       "      <th>movieId</th>\n",
       "      <th>title</th>\n",
       "      <th>genres</th>\n",
       "    </tr>\n",
       "  </thead>\n",
       "  <tbody>\n",
       "    <tr>\n",
       "      <th>21691</th>\n",
       "      <td>104155</td>\n",
       "      <td>Clear History (2013)</td>\n",
       "      <td>Comedy</td>\n",
       "    </tr>\n",
       "    <tr>\n",
       "      <th>27572</th>\n",
       "      <td>122940</td>\n",
       "      <td>Clear History (2013)</td>\n",
       "      <td>Comedy</td>\n",
       "    </tr>\n",
       "  </tbody>\n",
       "</table>\n",
       "</div>"
      ],
      "text/plain": [
       "       movieId                 title  genres\n",
       "21691   104155  Clear History (2013)  Comedy\n",
       "27572   122940  Clear History (2013)  Comedy"
      ]
     },
     "metadata": {},
     "output_type": "display_data"
    },
    {
     "data": {
      "text/html": [
       "<div>\n",
       "<style scoped>\n",
       "    .dataframe tbody tr th:only-of-type {\n",
       "        vertical-align: middle;\n",
       "    }\n",
       "\n",
       "    .dataframe tbody tr th {\n",
       "        vertical-align: top;\n",
       "    }\n",
       "\n",
       "    .dataframe thead th {\n",
       "        text-align: right;\n",
       "    }\n",
       "</style>\n",
       "<table border=\"1\" class=\"dataframe\">\n",
       "  <thead>\n",
       "    <tr style=\"text-align: right;\">\n",
       "      <th></th>\n",
       "      <th>movieId</th>\n",
       "      <th>title</th>\n",
       "      <th>genres</th>\n",
       "    </tr>\n",
       "  </thead>\n",
       "  <tbody>\n",
       "    <tr>\n",
       "      <th>23834</th>\n",
       "      <td>111519</td>\n",
       "      <td>Johnny Express (2014)</td>\n",
       "      <td>Animation|Comedy|Sci-Fi</td>\n",
       "    </tr>\n",
       "    <tr>\n",
       "      <th>29852</th>\n",
       "      <td>128991</td>\n",
       "      <td>Johnny Express (2014)</td>\n",
       "      <td>Animation|Comedy|Sci-Fi</td>\n",
       "    </tr>\n",
       "  </tbody>\n",
       "</table>\n",
       "</div>"
      ],
      "text/plain": [
       "       movieId                  title                   genres\n",
       "23834   111519  Johnny Express (2014)  Animation|Comedy|Sci-Fi\n",
       "29852   128991  Johnny Express (2014)  Animation|Comedy|Sci-Fi"
      ]
     },
     "metadata": {},
     "output_type": "display_data"
    },
    {
     "data": {
      "text/html": [
       "<div>\n",
       "<style scoped>\n",
       "    .dataframe tbody tr th:only-of-type {\n",
       "        vertical-align: middle;\n",
       "    }\n",
       "\n",
       "    .dataframe tbody tr th {\n",
       "        vertical-align: top;\n",
       "    }\n",
       "\n",
       "    .dataframe thead th {\n",
       "        text-align: right;\n",
       "    }\n",
       "</style>\n",
       "<table border=\"1\" class=\"dataframe\">\n",
       "  <thead>\n",
       "    <tr style=\"text-align: right;\">\n",
       "      <th></th>\n",
       "      <th>movieId</th>\n",
       "      <th>title</th>\n",
       "      <th>genres</th>\n",
       "    </tr>\n",
       "  </thead>\n",
       "  <tbody>\n",
       "    <tr>\n",
       "      <th>33001</th>\n",
       "      <td>136564</td>\n",
       "      <td>Macbeth (2015)</td>\n",
       "      <td>Drama</td>\n",
       "    </tr>\n",
       "    <tr>\n",
       "      <th>38804</th>\n",
       "      <td>150310</td>\n",
       "      <td>Macbeth (2015)</td>\n",
       "      <td>Drama</td>\n",
       "    </tr>\n",
       "  </tbody>\n",
       "</table>\n",
       "</div>"
      ],
      "text/plain": [
       "       movieId           title genres\n",
       "33001   136564  Macbeth (2015)  Drama\n",
       "38804   150310  Macbeth (2015)  Drama"
      ]
     },
     "metadata": {},
     "output_type": "display_data"
    },
    {
     "data": {
      "text/html": [
       "<div>\n",
       "<style scoped>\n",
       "    .dataframe tbody tr th:only-of-type {\n",
       "        vertical-align: middle;\n",
       "    }\n",
       "\n",
       "    .dataframe tbody tr th {\n",
       "        vertical-align: top;\n",
       "    }\n",
       "\n",
       "    .dataframe thead th {\n",
       "        text-align: right;\n",
       "    }\n",
       "</style>\n",
       "<table border=\"1\" class=\"dataframe\">\n",
       "  <thead>\n",
       "    <tr style=\"text-align: right;\">\n",
       "      <th></th>\n",
       "      <th>movieId</th>\n",
       "      <th>title</th>\n",
       "      <th>genres</th>\n",
       "    </tr>\n",
       "  </thead>\n",
       "  <tbody>\n",
       "    <tr>\n",
       "      <th>46904</th>\n",
       "      <td>168774</td>\n",
       "      <td>Detour (2017)</td>\n",
       "      <td>Thriller</td>\n",
       "    </tr>\n",
       "    <tr>\n",
       "      <th>52795</th>\n",
       "      <td>181655</td>\n",
       "      <td>Detour (2017)</td>\n",
       "      <td>Thriller</td>\n",
       "    </tr>\n",
       "  </tbody>\n",
       "</table>\n",
       "</div>"
      ],
      "text/plain": [
       "       movieId          title    genres\n",
       "46904   168774  Detour (2017)  Thriller\n",
       "52795   181655  Detour (2017)  Thriller"
      ]
     },
     "metadata": {},
     "output_type": "display_data"
    },
    {
     "data": {
      "text/html": [
       "<div>\n",
       "<style scoped>\n",
       "    .dataframe tbody tr th:only-of-type {\n",
       "        vertical-align: middle;\n",
       "    }\n",
       "\n",
       "    .dataframe tbody tr th {\n",
       "        vertical-align: top;\n",
       "    }\n",
       "\n",
       "    .dataframe thead th {\n",
       "        text-align: right;\n",
       "    }\n",
       "</style>\n",
       "<table border=\"1\" class=\"dataframe\">\n",
       "  <thead>\n",
       "    <tr style=\"text-align: right;\">\n",
       "      <th></th>\n",
       "      <th>movieId</th>\n",
       "      <th>title</th>\n",
       "      <th>genres</th>\n",
       "    </tr>\n",
       "  </thead>\n",
       "  <tbody>\n",
       "    <tr>\n",
       "      <th>51339</th>\n",
       "      <td>178401</td>\n",
       "      <td>Lucky (2017)</td>\n",
       "      <td>Drama</td>\n",
       "    </tr>\n",
       "    <tr>\n",
       "      <th>52644</th>\n",
       "      <td>181329</td>\n",
       "      <td>Lucky (2017)</td>\n",
       "      <td>Drama</td>\n",
       "    </tr>\n",
       "  </tbody>\n",
       "</table>\n",
       "</div>"
      ],
      "text/plain": [
       "       movieId         title genres\n",
       "51339   178401  Lucky (2017)  Drama\n",
       "52644   181329  Lucky (2017)  Drama"
      ]
     },
     "metadata": {},
     "output_type": "display_data"
    }
   ],
   "source": [
    "for movie_title in duplicates.title.unique():\n",
    "    display(movies[movies.title == movie_title])"
   ]
  },
  {
   "cell_type": "markdown",
   "metadata": {},
   "source": [
    "> When listed movies according to titles we can see each movie have same title and genres but different movieId"
   ]
  },
  {
   "cell_type": "markdown",
   "metadata": {},
   "source": [
    "So this can be observed that if there are duplicated movies present in movies dataset but with different movieIds, so what about their entries in ratings dataset. In movies dataset, same movie is associated with different movieIds so if we dont process ratings along with movie dataset, it will give the wrong input for processing our system."
   ]
  },
  {
   "cell_type": "markdown",
   "metadata": {},
   "source": [
    "As we saved duplicates, select movieIds and compare with ratings dataset from which we have to process the duplicated entries."
   ]
  },
  {
   "cell_type": "code",
   "execution_count": 21,
   "metadata": {
    "pycharm": {
     "name": "#%%\n"
    }
   },
   "outputs": [
    {
     "data": {
      "text/plain": [
       "3762"
      ]
     },
     "execution_count": 21,
     "metadata": {},
     "output_type": "execute_result"
    }
   ],
   "source": [
    "nb_ratings_to_drop = 0\n",
    "for movie_id in duplicates.movieId.values:\n",
    "    nb_ratings_to_drop += (ratings.movieId == movie_id).sum()\n",
    "nb_ratings_to_drop"
   ]
  },
  {
   "cell_type": "markdown",
   "metadata": {},
   "source": [
    "> So we have to process 3762 entries present in ratings dataset to avoid duplication"
   ]
  },
  {
   "cell_type": "markdown",
   "metadata": {},
   "source": [
    "Check the total number of movie titles are duplicated"
   ]
  },
  {
   "cell_type": "code",
   "execution_count": 22,
   "metadata": {
    "pycharm": {
     "name": "#%%\n"
    }
   },
   "outputs": [
    {
     "data": {
      "text/plain": [
       "78"
      ]
     },
     "execution_count": 22,
     "metadata": {},
     "output_type": "execute_result"
    }
   ],
   "source": [
    "movies.title.duplicated().sum()"
   ]
  },
  {
   "cell_type": "code",
   "execution_count": 23,
   "metadata": {
    "pycharm": {
     "name": "#%%\n"
    }
   },
   "outputs": [
    {
     "data": {
      "text/html": [
       "<div>\n",
       "<style scoped>\n",
       "    .dataframe tbody tr th:only-of-type {\n",
       "        vertical-align: middle;\n",
       "    }\n",
       "\n",
       "    .dataframe tbody tr th {\n",
       "        vertical-align: top;\n",
       "    }\n",
       "\n",
       "    .dataframe thead th {\n",
       "        text-align: right;\n",
       "    }\n",
       "</style>\n",
       "<table border=\"1\" class=\"dataframe\">\n",
       "  <thead>\n",
       "    <tr style=\"text-align: right;\">\n",
       "      <th></th>\n",
       "      <th>movieId</th>\n",
       "      <th>title</th>\n",
       "      <th>genres</th>\n",
       "    </tr>\n",
       "  </thead>\n",
       "  <tbody>\n",
       "    <tr>\n",
       "      <th>582</th>\n",
       "      <td>588</td>\n",
       "      <td>Aladdin (1992)</td>\n",
       "      <td>Adventure|Animation|Children|Comedy|Musical</td>\n",
       "    </tr>\n",
       "    <tr>\n",
       "      <th>823</th>\n",
       "      <td>838</td>\n",
       "      <td>Emma (1996)</td>\n",
       "      <td>Comedy|Drama|Romance</td>\n",
       "    </tr>\n",
       "    <tr>\n",
       "      <th>1716</th>\n",
       "      <td>1788</td>\n",
       "      <td>Men with Guns (1997)</td>\n",
       "      <td>Action|Drama</td>\n",
       "    </tr>\n",
       "    <tr>\n",
       "      <th>2560</th>\n",
       "      <td>2644</td>\n",
       "      <td>Dracula (1931)</td>\n",
       "      <td>Horror</td>\n",
       "    </tr>\n",
       "    <tr>\n",
       "      <th>2766</th>\n",
       "      <td>2851</td>\n",
       "      <td>Saturn 3 (1980)</td>\n",
       "      <td>Adventure|Sci-Fi|Thriller</td>\n",
       "    </tr>\n",
       "    <tr>\n",
       "      <th>...</th>\n",
       "      <td>...</td>\n",
       "      <td>...</td>\n",
       "      <td>...</td>\n",
       "    </tr>\n",
       "    <tr>\n",
       "      <th>57269</th>\n",
       "      <td>191775</td>\n",
       "      <td>Berlin Calling (2008)</td>\n",
       "      <td>Comedy|Drama</td>\n",
       "    </tr>\n",
       "    <tr>\n",
       "      <th>57305</th>\n",
       "      <td>191867</td>\n",
       "      <td>Let There Be Light (2017)</td>\n",
       "      <td>Documentary</td>\n",
       "    </tr>\n",
       "    <tr>\n",
       "      <th>57361</th>\n",
       "      <td>192003</td>\n",
       "      <td>Journey to the Center of the Earth (2008)</td>\n",
       "      <td>Action|Adventure|Fantasy|Sci-Fi</td>\n",
       "    </tr>\n",
       "    <tr>\n",
       "      <th>57463</th>\n",
       "      <td>192243</td>\n",
       "      <td>Contact (1992)</td>\n",
       "      <td>Drama|Horror|Mystery|Thriller</td>\n",
       "    </tr>\n",
       "    <tr>\n",
       "      <th>57953</th>\n",
       "      <td>193559</td>\n",
       "      <td>Cargo (2017)</td>\n",
       "      <td>Drama</td>\n",
       "    </tr>\n",
       "  </tbody>\n",
       "</table>\n",
       "<p>156 rows × 3 columns</p>\n",
       "</div>"
      ],
      "text/plain": [
       "       movieId                                      title  \\\n",
       "582        588                             Aladdin (1992)   \n",
       "823        838                                Emma (1996)   \n",
       "1716      1788                       Men with Guns (1997)   \n",
       "2560      2644                             Dracula (1931)   \n",
       "2766      2851                            Saturn 3 (1980)   \n",
       "...        ...                                        ...   \n",
       "57269   191775                      Berlin Calling (2008)   \n",
       "57305   191867                  Let There Be Light (2017)   \n",
       "57361   192003  Journey to the Center of the Earth (2008)   \n",
       "57463   192243                             Contact (1992)   \n",
       "57953   193559                               Cargo (2017)   \n",
       "\n",
       "                                            genres  \n",
       "582    Adventure|Animation|Children|Comedy|Musical  \n",
       "823                           Comedy|Drama|Romance  \n",
       "1716                                  Action|Drama  \n",
       "2560                                        Horror  \n",
       "2766                     Adventure|Sci-Fi|Thriller  \n",
       "...                                            ...  \n",
       "57269                                 Comedy|Drama  \n",
       "57305                                  Documentary  \n",
       "57361              Action|Adventure|Fantasy|Sci-Fi  \n",
       "57463                Drama|Horror|Mystery|Thriller  \n",
       "57953                                        Drama  \n",
       "\n",
       "[156 rows x 3 columns]"
      ]
     },
     "execution_count": 23,
     "metadata": {},
     "output_type": "execute_result"
    }
   ],
   "source": [
    "movies[movies.title.duplicated(keep=False)]"
   ]
  },
  {
   "cell_type": "markdown",
   "metadata": {},
   "source": [
    "Before dropping any values first check whether we are following correct approach to get the duplicates of the movies. Testing our logic on single entry before building a function to process dataset."
   ]
  },
  {
   "cell_type": "code",
   "execution_count": 24,
   "metadata": {
    "pycharm": {
     "name": "#%%\n"
    }
   },
   "outputs": [
    {
     "data": {
      "text/html": [
       "<div>\n",
       "<style scoped>\n",
       "    .dataframe tbody tr th:only-of-type {\n",
       "        vertical-align: middle;\n",
       "    }\n",
       "\n",
       "    .dataframe tbody tr th {\n",
       "        vertical-align: top;\n",
       "    }\n",
       "\n",
       "    .dataframe thead th {\n",
       "        text-align: right;\n",
       "    }\n",
       "</style>\n",
       "<table border=\"1\" class=\"dataframe\">\n",
       "  <thead>\n",
       "    <tr style=\"text-align: right;\">\n",
       "      <th></th>\n",
       "      <th>movieId</th>\n",
       "      <th>title</th>\n",
       "      <th>genres</th>\n",
       "    </tr>\n",
       "  </thead>\n",
       "  <tbody>\n",
       "    <tr>\n",
       "      <th>13504</th>\n",
       "      <td>66511</td>\n",
       "      <td>Berlin Calling (2008)</td>\n",
       "      <td>Comedy|Drama</td>\n",
       "    </tr>\n",
       "    <tr>\n",
       "      <th>57269</th>\n",
       "      <td>191775</td>\n",
       "      <td>Berlin Calling (2008)</td>\n",
       "      <td>Comedy|Drama</td>\n",
       "    </tr>\n",
       "  </tbody>\n",
       "</table>\n",
       "</div>"
      ],
      "text/plain": [
       "       movieId                  title        genres\n",
       "13504    66511  Berlin Calling (2008)  Comedy|Drama\n",
       "57269   191775  Berlin Calling (2008)  Comedy|Drama"
      ]
     },
     "execution_count": 24,
     "metadata": {},
     "output_type": "execute_result"
    }
   ],
   "source": [
    "movies[movies.title == 'Berlin Calling (2008)']"
   ]
  },
  {
   "cell_type": "markdown",
   "metadata": {},
   "source": [
    "Check in ratings the particular movieId (eg. 66511) is repeated how many times."
   ]
  },
  {
   "cell_type": "code",
   "execution_count": 25,
   "metadata": {
    "pycharm": {
     "name": "#%%\n"
    }
   },
   "outputs": [
    {
     "data": {
      "text/html": [
       "<div>\n",
       "<style scoped>\n",
       "    .dataframe tbody tr th:only-of-type {\n",
       "        vertical-align: middle;\n",
       "    }\n",
       "\n",
       "    .dataframe tbody tr th {\n",
       "        vertical-align: top;\n",
       "    }\n",
       "\n",
       "    .dataframe thead th {\n",
       "        text-align: right;\n",
       "    }\n",
       "</style>\n",
       "<table border=\"1\" class=\"dataframe\">\n",
       "  <thead>\n",
       "    <tr style=\"text-align: right;\">\n",
       "      <th></th>\n",
       "      <th>userId</th>\n",
       "      <th>movieId</th>\n",
       "      <th>rating</th>\n",
       "      <th>timestamp</th>\n",
       "    </tr>\n",
       "  </thead>\n",
       "  <tbody>\n",
       "    <tr>\n",
       "      <th>1892661</th>\n",
       "      <td>19461</td>\n",
       "      <td>66511</td>\n",
       "      <td>4.0</td>\n",
       "      <td>1284593250</td>\n",
       "    </tr>\n",
       "    <tr>\n",
       "      <th>1973526</th>\n",
       "      <td>20179</td>\n",
       "      <td>66511</td>\n",
       "      <td>2.0</td>\n",
       "      <td>1345422584</td>\n",
       "    </tr>\n",
       "    <tr>\n",
       "      <th>2225496</th>\n",
       "      <td>22870</td>\n",
       "      <td>66511</td>\n",
       "      <td>3.0</td>\n",
       "      <td>1359449954</td>\n",
       "    </tr>\n",
       "    <tr>\n",
       "      <th>2237277</th>\n",
       "      <td>22964</td>\n",
       "      <td>66511</td>\n",
       "      <td>5.0</td>\n",
       "      <td>1294864768</td>\n",
       "    </tr>\n",
       "    <tr>\n",
       "      <th>2697982</th>\n",
       "      <td>27860</td>\n",
       "      <td>66511</td>\n",
       "      <td>3.0</td>\n",
       "      <td>1535759538</td>\n",
       "    </tr>\n",
       "    <tr>\n",
       "      <th>...</th>\n",
       "      <td>...</td>\n",
       "      <td>...</td>\n",
       "      <td>...</td>\n",
       "      <td>...</td>\n",
       "    </tr>\n",
       "    <tr>\n",
       "      <th>26813746</th>\n",
       "      <td>273795</td>\n",
       "      <td>66511</td>\n",
       "      <td>3.0</td>\n",
       "      <td>1375648973</td>\n",
       "    </tr>\n",
       "    <tr>\n",
       "      <th>26871575</th>\n",
       "      <td>274367</td>\n",
       "      <td>66511</td>\n",
       "      <td>3.5</td>\n",
       "      <td>1299940736</td>\n",
       "    </tr>\n",
       "    <tr>\n",
       "      <th>27121778</th>\n",
       "      <td>276793</td>\n",
       "      <td>66511</td>\n",
       "      <td>3.0</td>\n",
       "      <td>1306264404</td>\n",
       "    </tr>\n",
       "    <tr>\n",
       "      <th>27252068</th>\n",
       "      <td>278103</td>\n",
       "      <td>66511</td>\n",
       "      <td>3.5</td>\n",
       "      <td>1477342170</td>\n",
       "    </tr>\n",
       "    <tr>\n",
       "      <th>27616760</th>\n",
       "      <td>281790</td>\n",
       "      <td>66511</td>\n",
       "      <td>3.0</td>\n",
       "      <td>1322864758</td>\n",
       "    </tr>\n",
       "  </tbody>\n",
       "</table>\n",
       "<p>89 rows × 4 columns</p>\n",
       "</div>"
      ],
      "text/plain": [
       "          userId  movieId  rating   timestamp\n",
       "1892661    19461    66511     4.0  1284593250\n",
       "1973526    20179    66511     2.0  1345422584\n",
       "2225496    22870    66511     3.0  1359449954\n",
       "2237277    22964    66511     5.0  1294864768\n",
       "2697982    27860    66511     3.0  1535759538\n",
       "...          ...      ...     ...         ...\n",
       "26813746  273795    66511     3.0  1375648973\n",
       "26871575  274367    66511     3.5  1299940736\n",
       "27121778  276793    66511     3.0  1306264404\n",
       "27252068  278103    66511     3.5  1477342170\n",
       "27616760  281790    66511     3.0  1322864758\n",
       "\n",
       "[89 rows x 4 columns]"
      ]
     },
     "execution_count": 25,
     "metadata": {},
     "output_type": "execute_result"
    }
   ],
   "source": [
    "ratings[ratings.movieId == 66511]"
   ]
  },
  {
   "cell_type": "markdown",
   "metadata": {},
   "source": [
    "> There are 89 entries found for the same movieId but it have other column values different so these are not duplicated"
   ]
  },
  {
   "cell_type": "markdown",
   "metadata": {},
   "source": [
    "Check entries for other movieId of the same title \"Berlin Calling (2008)\" id=191775"
   ]
  },
  {
   "cell_type": "code",
   "execution_count": 26,
   "metadata": {},
   "outputs": [
    {
     "data": {
      "text/html": [
       "<div>\n",
       "<style scoped>\n",
       "    .dataframe tbody tr th:only-of-type {\n",
       "        vertical-align: middle;\n",
       "    }\n",
       "\n",
       "    .dataframe tbody tr th {\n",
       "        vertical-align: top;\n",
       "    }\n",
       "\n",
       "    .dataframe thead th {\n",
       "        text-align: right;\n",
       "    }\n",
       "</style>\n",
       "<table border=\"1\" class=\"dataframe\">\n",
       "  <thead>\n",
       "    <tr style=\"text-align: right;\">\n",
       "      <th></th>\n",
       "      <th>userId</th>\n",
       "      <th>movieId</th>\n",
       "      <th>rating</th>\n",
       "      <th>timestamp</th>\n",
       "    </tr>\n",
       "  </thead>\n",
       "  <tbody>\n",
       "    <tr>\n",
       "      <th>4190621</th>\n",
       "      <td>43044</td>\n",
       "      <td>191775</td>\n",
       "      <td>3.5</td>\n",
       "      <td>1534967484</td>\n",
       "    </tr>\n",
       "    <tr>\n",
       "      <th>15654247</th>\n",
       "      <td>159846</td>\n",
       "      <td>191775</td>\n",
       "      <td>2.0</td>\n",
       "      <td>1534046590</td>\n",
       "    </tr>\n",
       "    <tr>\n",
       "      <th>25704535</th>\n",
       "      <td>262584</td>\n",
       "      <td>191775</td>\n",
       "      <td>3.5</td>\n",
       "      <td>1532697651</td>\n",
       "    </tr>\n",
       "  </tbody>\n",
       "</table>\n",
       "</div>"
      ],
      "text/plain": [
       "          userId  movieId  rating   timestamp\n",
       "4190621    43044   191775     3.5  1534967484\n",
       "15654247  159846   191775     2.0  1534046590\n",
       "25704535  262584   191775     3.5  1532697651"
      ]
     },
     "execution_count": 26,
     "metadata": {},
     "output_type": "execute_result"
    }
   ],
   "source": [
    "ratings[ratings.movieId == 191775]"
   ]
  },
  {
   "cell_type": "markdown",
   "metadata": {},
   "source": [
    "> There are 3 entries which are associated with this movieId which is for same movie that have 89 entries but with different movieId."
   ]
  },
  {
   "cell_type": "markdown",
   "metadata": {},
   "source": [
    "After this investigation, write a function to replace movieId in rating dataframe"
   ]
  },
  {
   "cell_type": "code",
   "execution_count": 27,
   "metadata": {
    "pycharm": {
     "name": "#%%\n"
    }
   },
   "outputs": [],
   "source": [
    "def replace_movie_id_in_rating_dataframe(dataframe: pd.DataFrame, new_movie_id: int, old_movie_id: int) \\\n",
    "    -> pd.DataFrame:\n",
    "    dataframe.loc[dataframe.movieId == old_movie_id, 'movieId'] = new_movie_id\n",
    "    return dataframe"
   ]
  },
  {
   "cell_type": "markdown",
   "metadata": {
    "pycharm": {
     "name": "#%%\n"
    }
   },
   "source": [
    "Let's try this function on same movie \"Berlin Calling (2008)\" which have two movieIds"
   ]
  },
  {
   "cell_type": "code",
   "execution_count": 28,
   "metadata": {},
   "outputs": [],
   "source": [
    "ratings = replace_movie_id_in_rating_dataframe(ratings, 66511, 191775)"
   ]
  },
  {
   "cell_type": "markdown",
   "metadata": {},
   "source": [
    "Now Check the entries in ratings dataframe, whether it have entry for old movie Id (Here we replace 191775 with 66511)"
   ]
  },
  {
   "cell_type": "code",
   "execution_count": 29,
   "metadata": {},
   "outputs": [
    {
     "data": {
      "text/plain": [
       "0"
      ]
     },
     "execution_count": 29,
     "metadata": {},
     "output_type": "execute_result"
    }
   ],
   "source": [
    "(ratings.movieId == 191775).sum()"
   ]
  },
  {
   "cell_type": "markdown",
   "metadata": {},
   "source": [
    "> All entries associated with old entry has been replaced with new one as count is zero."
   ]
  },
  {
   "cell_type": "markdown",
   "metadata": {},
   "source": [
    "Verify the count associated with new movieId"
   ]
  },
  {
   "cell_type": "code",
   "execution_count": 30,
   "metadata": {},
   "outputs": [
    {
     "data": {
      "text/plain": [
       "92"
      ]
     },
     "execution_count": 30,
     "metadata": {},
     "output_type": "execute_result"
    }
   ],
   "source": [
    "(ratings.movieId == 66511).sum()"
   ]
  },
  {
   "cell_type": "markdown",
   "metadata": {},
   "source": [
    "> We can see that now the old entries are merged into new id for which count was 89 before and now it's 92."
   ]
  },
  {
   "cell_type": "markdown",
   "metadata": {},
   "source": [
    "Voila! Our function is working!"
   ]
  },
  {
   "cell_type": "markdown",
   "metadata": {},
   "source": [
    "Now We will write a function to remove the old Ids that we replaced, now from movies dataset."
   ]
  },
  {
   "cell_type": "code",
   "execution_count": 31,
   "metadata": {},
   "outputs": [],
   "source": [
    "def remove_old_movie_ids_from_movies_dataframe(dataframe: pd.DataFrame, old_movie_ids: [int]) -> pd.DataFrame:\n",
    "    target_index = dataframe[dataframe.movieId.isin(old_movie_ids)].index\n",
    "    dataframe = dataframe.drop(target_index)\n",
    "    return dataframe"
   ]
  },
  {
   "cell_type": "markdown",
   "metadata": {},
   "source": [
    "Let's try this function on sample values on the dataset."
   ]
  },
  {
   "cell_type": "code",
   "execution_count": 32,
   "metadata": {},
   "outputs": [
    {
     "data": {
      "text/html": [
       "<div>\n",
       "<style scoped>\n",
       "    .dataframe tbody tr th:only-of-type {\n",
       "        vertical-align: middle;\n",
       "    }\n",
       "\n",
       "    .dataframe tbody tr th {\n",
       "        vertical-align: top;\n",
       "    }\n",
       "\n",
       "    .dataframe thead th {\n",
       "        text-align: right;\n",
       "    }\n",
       "</style>\n",
       "<table border=\"1\" class=\"dataframe\">\n",
       "  <thead>\n",
       "    <tr style=\"text-align: right;\">\n",
       "      <th></th>\n",
       "      <th>movieId</th>\n",
       "      <th>title</th>\n",
       "      <th>genres</th>\n",
       "    </tr>\n",
       "  </thead>\n",
       "  <tbody>\n",
       "    <tr>\n",
       "      <th>4</th>\n",
       "      <td>5</td>\n",
       "      <td>Father of the Bride Part II (1995)</td>\n",
       "      <td>Comedy</td>\n",
       "    </tr>\n",
       "    <tr>\n",
       "      <th>5</th>\n",
       "      <td>6</td>\n",
       "      <td>Heat (1995)</td>\n",
       "      <td>Action|Crime|Thriller</td>\n",
       "    </tr>\n",
       "    <tr>\n",
       "      <th>6</th>\n",
       "      <td>7</td>\n",
       "      <td>Sabrina (1995)</td>\n",
       "      <td>Comedy|Romance</td>\n",
       "    </tr>\n",
       "    <tr>\n",
       "      <th>7</th>\n",
       "      <td>8</td>\n",
       "      <td>Tom and Huck (1995)</td>\n",
       "      <td>Adventure|Children</td>\n",
       "    </tr>\n",
       "    <tr>\n",
       "      <th>8</th>\n",
       "      <td>9</td>\n",
       "      <td>Sudden Death (1995)</td>\n",
       "      <td>Action</td>\n",
       "    </tr>\n",
       "    <tr>\n",
       "      <th>...</th>\n",
       "      <td>...</td>\n",
       "      <td>...</td>\n",
       "      <td>...</td>\n",
       "    </tr>\n",
       "    <tr>\n",
       "      <th>58093</th>\n",
       "      <td>193876</td>\n",
       "      <td>The Great Glinka (1946)</td>\n",
       "      <td>(no genres listed)</td>\n",
       "    </tr>\n",
       "    <tr>\n",
       "      <th>58094</th>\n",
       "      <td>193878</td>\n",
       "      <td>Les tribulations d'une caissière (2011)</td>\n",
       "      <td>Comedy</td>\n",
       "    </tr>\n",
       "    <tr>\n",
       "      <th>58095</th>\n",
       "      <td>193880</td>\n",
       "      <td>Her Name Was Mumu (2016)</td>\n",
       "      <td>Drama</td>\n",
       "    </tr>\n",
       "    <tr>\n",
       "      <th>58096</th>\n",
       "      <td>193882</td>\n",
       "      <td>Flora (2017)</td>\n",
       "      <td>Adventure|Drama|Horror|Sci-Fi</td>\n",
       "    </tr>\n",
       "    <tr>\n",
       "      <th>58097</th>\n",
       "      <td>193886</td>\n",
       "      <td>Leal (2018)</td>\n",
       "      <td>Action|Crime|Drama</td>\n",
       "    </tr>\n",
       "  </tbody>\n",
       "</table>\n",
       "<p>58094 rows × 3 columns</p>\n",
       "</div>"
      ],
      "text/plain": [
       "       movieId                                    title  \\\n",
       "4            5       Father of the Bride Part II (1995)   \n",
       "5            6                              Heat (1995)   \n",
       "6            7                           Sabrina (1995)   \n",
       "7            8                      Tom and Huck (1995)   \n",
       "8            9                      Sudden Death (1995)   \n",
       "...        ...                                      ...   \n",
       "58093   193876                  The Great Glinka (1946)   \n",
       "58094   193878  Les tribulations d'une caissière (2011)   \n",
       "58095   193880                 Her Name Was Mumu (2016)   \n",
       "58096   193882                             Flora (2017)   \n",
       "58097   193886                              Leal (2018)   \n",
       "\n",
       "                              genres  \n",
       "4                             Comedy  \n",
       "5              Action|Crime|Thriller  \n",
       "6                     Comedy|Romance  \n",
       "7                 Adventure|Children  \n",
       "8                             Action  \n",
       "...                              ...  \n",
       "58093             (no genres listed)  \n",
       "58094                         Comedy  \n",
       "58095                          Drama  \n",
       "58096  Adventure|Drama|Horror|Sci-Fi  \n",
       "58097             Action|Crime|Drama  \n",
       "\n",
       "[58094 rows x 3 columns]"
      ]
     },
     "execution_count": 32,
     "metadata": {},
     "output_type": "execute_result"
    }
   ],
   "source": [
    "remove_old_movie_ids_from_movies_dataframe(movies, [1, 2, 3, 4])"
   ]
  },
  {
   "cell_type": "markdown",
   "metadata": {},
   "source": [
    "> As we can see now the index is starting from 4 as first 4 movieIds are removed from the dataset. As this was only a sample execution, we will not update our original dataset with this updated values."
   ]
  },
  {
   "cell_type": "markdown",
   "metadata": {},
   "source": [
    "As now we are sure about the execution of the function, Let's make it execute for all duplicated movie Ids, where we will keep first appeared movieId as original one which we will keep and other all instances with same movie title will be replaced and collect all duplicated ids in a list defined which will be appended after each iteration which will be input for second function to remove same ids from movies dataset."
   ]
  },
  {
   "cell_type": "code",
   "execution_count": 33,
   "metadata": {},
   "outputs": [],
   "source": [
    "def removal_of_ids_from_both_dataframes(movies_dataframe: pd.DataFrame, ratings_dataframe: pd.DataFrame) -> (pd.DataFrame, pd.DataFrame):\n",
    "    duplicates = movies_dataframe[movies_dataframe.duplicated(subset=['title', 'genres'], keep=False)]\n",
    "    old_movie_ids = []\n",
    "    for movie_title in duplicates.title.unique():\n",
    "        movie_ids = duplicates[duplicates.title == movie_title].movieId.values\n",
    "        new_movie_id, old_movie_id = movie_ids\n",
    "        ratings_dataframe = replace_movie_id_in_rating_dataframe(ratings_dataframe, new_movie_id, old_movie_id)\n",
    "        old_movie_ids.append(old_movie_id)\n",
    "    movies_dataframe = remove_old_movie_ids_from_movies_dataframe(movies_dataframe, old_movie_ids)\n",
    "    return movies_dataframe, ratings_dataframe"
   ]
  },
  {
   "cell_type": "markdown",
   "metadata": {},
   "source": [
    "Check actual execution on datasets and save the results in movies_df and ratings_df respectively"
   ]
  },
  {
   "cell_type": "code",
   "execution_count": 34,
   "metadata": {},
   "outputs": [],
   "source": [
    "movies_df, ratings_df = removal_of_ids_from_both_dataframes(movies, ratings)"
   ]
  },
  {
   "cell_type": "markdown",
   "metadata": {},
   "source": [
    "After successful execution, Let's check some details to confirm whether removal and updating datasets worked or not"
   ]
  },
  {
   "cell_type": "code",
   "execution_count": 35,
   "metadata": {},
   "outputs": [
    {
     "data": {
      "text/plain": [
       "14"
      ]
     },
     "execution_count": 35,
     "metadata": {},
     "output_type": "execute_result"
    }
   ],
   "source": [
    "len(movies_raw) - len(movies_df)"
   ]
  },
  {
   "cell_type": "markdown",
   "metadata": {},
   "source": [
    "> Voila! It's correct. movies original dataset has 58098 total entries among which when calculated, 14 were duplicated in terms of column. After execution of this function the duplicated entries should be removed. So the difference between original and updated dataframe should be 14 and it is the same!"
   ]
  },
  {
   "cell_type": "markdown",
   "metadata": {},
   "source": [
    "Check the same for ratings dataset"
   ]
  },
  {
   "cell_type": "code",
   "execution_count": 36,
   "metadata": {},
   "outputs": [
    {
     "data": {
      "text/plain": [
       "0"
      ]
     },
     "execution_count": 36,
     "metadata": {},
     "output_type": "execute_result"
    }
   ],
   "source": [
    "len(ratings_raw) - len(ratings_df)"
   ]
  },
  {
   "cell_type": "markdown",
   "metadata": {},
   "source": [
    "> For ratings dataset, there were different movieIds were noted for the same movie but it was not a duplication. So there should not be any removal in ratings dataset.\n",
    "Here we did replace the movieIds with only one instance for each movie so that the difference between original and updated dataset is 0."
   ]
  },
  {
   "cell_type": "markdown",
   "metadata": {},
   "source": [
    "## Operations on Ratings"
   ]
  },
  {
   "cell_type": "code",
   "execution_count": 45,
   "metadata": {},
   "outputs": [
    {
     "data": {
      "text/html": [
       "<div>\n",
       "<style scoped>\n",
       "    .dataframe tbody tr th:only-of-type {\n",
       "        vertical-align: middle;\n",
       "    }\n",
       "\n",
       "    .dataframe tbody tr th {\n",
       "        vertical-align: top;\n",
       "    }\n",
       "\n",
       "    .dataframe thead th {\n",
       "        text-align: right;\n",
       "    }\n",
       "</style>\n",
       "<table border=\"1\" class=\"dataframe\">\n",
       "  <thead>\n",
       "    <tr style=\"text-align: right;\">\n",
       "      <th></th>\n",
       "      <th>userId</th>\n",
       "      <th>movieId</th>\n",
       "      <th>rating</th>\n",
       "      <th>timestamp</th>\n",
       "    </tr>\n",
       "  </thead>\n",
       "  <tbody>\n",
       "    <tr>\n",
       "      <th>0</th>\n",
       "      <td>1</td>\n",
       "      <td>307</td>\n",
       "      <td>3.5</td>\n",
       "      <td>1256677221</td>\n",
       "    </tr>\n",
       "    <tr>\n",
       "      <th>1</th>\n",
       "      <td>1</td>\n",
       "      <td>481</td>\n",
       "      <td>3.5</td>\n",
       "      <td>1256677456</td>\n",
       "    </tr>\n",
       "    <tr>\n",
       "      <th>2</th>\n",
       "      <td>1</td>\n",
       "      <td>1091</td>\n",
       "      <td>1.5</td>\n",
       "      <td>1256677471</td>\n",
       "    </tr>\n",
       "    <tr>\n",
       "      <th>3</th>\n",
       "      <td>1</td>\n",
       "      <td>1257</td>\n",
       "      <td>4.5</td>\n",
       "      <td>1256677460</td>\n",
       "    </tr>\n",
       "    <tr>\n",
       "      <th>4</th>\n",
       "      <td>1</td>\n",
       "      <td>1449</td>\n",
       "      <td>4.5</td>\n",
       "      <td>1256677264</td>\n",
       "    </tr>\n",
       "    <tr>\n",
       "      <th>...</th>\n",
       "      <td>...</td>\n",
       "      <td>...</td>\n",
       "      <td>...</td>\n",
       "      <td>...</td>\n",
       "    </tr>\n",
       "    <tr>\n",
       "      <th>27753439</th>\n",
       "      <td>283228</td>\n",
       "      <td>8542</td>\n",
       "      <td>4.5</td>\n",
       "      <td>1379882795</td>\n",
       "    </tr>\n",
       "    <tr>\n",
       "      <th>27753440</th>\n",
       "      <td>283228</td>\n",
       "      <td>8712</td>\n",
       "      <td>4.5</td>\n",
       "      <td>1379882751</td>\n",
       "    </tr>\n",
       "    <tr>\n",
       "      <th>27753441</th>\n",
       "      <td>283228</td>\n",
       "      <td>34405</td>\n",
       "      <td>4.5</td>\n",
       "      <td>1379882889</td>\n",
       "    </tr>\n",
       "    <tr>\n",
       "      <th>27753442</th>\n",
       "      <td>283228</td>\n",
       "      <td>44761</td>\n",
       "      <td>4.5</td>\n",
       "      <td>1354159524</td>\n",
       "    </tr>\n",
       "    <tr>\n",
       "      <th>27753443</th>\n",
       "      <td>283228</td>\n",
       "      <td>54286</td>\n",
       "      <td>4.5</td>\n",
       "      <td>1354159718</td>\n",
       "    </tr>\n",
       "  </tbody>\n",
       "</table>\n",
       "<p>27753444 rows × 4 columns</p>\n",
       "</div>"
      ],
      "text/plain": [
       "          userId  movieId  rating   timestamp\n",
       "0              1      307     3.5  1256677221\n",
       "1              1      481     3.5  1256677456\n",
       "2              1     1091     1.5  1256677471\n",
       "3              1     1257     4.5  1256677460\n",
       "4              1     1449     4.5  1256677264\n",
       "...          ...      ...     ...         ...\n",
       "27753439  283228     8542     4.5  1379882795\n",
       "27753440  283228     8712     4.5  1379882751\n",
       "27753441  283228    34405     4.5  1379882889\n",
       "27753442  283228    44761     4.5  1354159524\n",
       "27753443  283228    54286     4.5  1354159718\n",
       "\n",
       "[27753444 rows x 4 columns]"
      ]
     },
     "execution_count": 45,
     "metadata": {},
     "output_type": "execute_result"
    }
   ],
   "source": [
    "ratings_df"
   ]
  },
  {
   "cell_type": "markdown",
   "metadata": {},
   "source": [
    "Now let's re-ensure duplication in dataset if there any"
   ]
  },
  {
   "cell_type": "code",
   "execution_count": 46,
   "metadata": {},
   "outputs": [
    {
     "data": {
      "text/plain": [
       "0"
      ]
     },
     "execution_count": 46,
     "metadata": {},
     "output_type": "execute_result"
    }
   ],
   "source": [
    "ratings_df.duplicated(keep=False).sum()"
   ]
  },
  {
   "cell_type": "markdown",
   "metadata": {},
   "source": [
    "Checking duplication with respect to columns"
   ]
  },
  {
   "cell_type": "code",
   "execution_count": 47,
   "metadata": {},
   "outputs": [
    {
     "data": {
      "text/plain": [
       "0"
      ]
     },
     "execution_count": 47,
     "metadata": {},
     "output_type": "execute_result"
    }
   ],
   "source": [
    "ratings_df.duplicated(subset=['userId','movieId', 'rating', 'timestamp']).sum()"
   ]
  },
  {
   "cell_type": "markdown",
   "metadata": {},
   "source": [
    "> So there are no duplicates present in new dataset we have"
   ]
  },
  {
   "cell_type": "markdown",
   "metadata": {},
   "source": [
    "Let's try by removing timestamp column as it is not important when we consider user and movies and their ratings.\n",
    "Create a new dataset by selecting only 'userId', 'movieId', 'rating' from ratings_df."
   ]
  },
  {
   "cell_type": "code",
   "execution_count": 43,
   "metadata": {},
   "outputs": [
    {
     "data": {
      "text/html": [
       "<div>\n",
       "<style scoped>\n",
       "    .dataframe tbody tr th:only-of-type {\n",
       "        vertical-align: middle;\n",
       "    }\n",
       "\n",
       "    .dataframe tbody tr th {\n",
       "        vertical-align: top;\n",
       "    }\n",
       "\n",
       "    .dataframe thead th {\n",
       "        text-align: right;\n",
       "    }\n",
       "</style>\n",
       "<table border=\"1\" class=\"dataframe\">\n",
       "  <thead>\n",
       "    <tr style=\"text-align: right;\">\n",
       "      <th></th>\n",
       "      <th>userId</th>\n",
       "      <th>movieId</th>\n",
       "      <th>rating</th>\n",
       "    </tr>\n",
       "  </thead>\n",
       "  <tbody>\n",
       "    <tr>\n",
       "      <th>0</th>\n",
       "      <td>1</td>\n",
       "      <td>307</td>\n",
       "      <td>3.5</td>\n",
       "    </tr>\n",
       "    <tr>\n",
       "      <th>1</th>\n",
       "      <td>1</td>\n",
       "      <td>481</td>\n",
       "      <td>3.5</td>\n",
       "    </tr>\n",
       "    <tr>\n",
       "      <th>2</th>\n",
       "      <td>1</td>\n",
       "      <td>1091</td>\n",
       "      <td>1.5</td>\n",
       "    </tr>\n",
       "    <tr>\n",
       "      <th>3</th>\n",
       "      <td>1</td>\n",
       "      <td>1257</td>\n",
       "      <td>4.5</td>\n",
       "    </tr>\n",
       "    <tr>\n",
       "      <th>4</th>\n",
       "      <td>1</td>\n",
       "      <td>1449</td>\n",
       "      <td>4.5</td>\n",
       "    </tr>\n",
       "    <tr>\n",
       "      <th>...</th>\n",
       "      <td>...</td>\n",
       "      <td>...</td>\n",
       "      <td>...</td>\n",
       "    </tr>\n",
       "    <tr>\n",
       "      <th>27753439</th>\n",
       "      <td>283228</td>\n",
       "      <td>8542</td>\n",
       "      <td>4.5</td>\n",
       "    </tr>\n",
       "    <tr>\n",
       "      <th>27753440</th>\n",
       "      <td>283228</td>\n",
       "      <td>8712</td>\n",
       "      <td>4.5</td>\n",
       "    </tr>\n",
       "    <tr>\n",
       "      <th>27753441</th>\n",
       "      <td>283228</td>\n",
       "      <td>34405</td>\n",
       "      <td>4.5</td>\n",
       "    </tr>\n",
       "    <tr>\n",
       "      <th>27753442</th>\n",
       "      <td>283228</td>\n",
       "      <td>44761</td>\n",
       "      <td>4.5</td>\n",
       "    </tr>\n",
       "    <tr>\n",
       "      <th>27753443</th>\n",
       "      <td>283228</td>\n",
       "      <td>54286</td>\n",
       "      <td>4.5</td>\n",
       "    </tr>\n",
       "  </tbody>\n",
       "</table>\n",
       "<p>27753444 rows × 3 columns</p>\n",
       "</div>"
      ],
      "text/plain": [
       "          userId  movieId  rating\n",
       "0              1      307     3.5\n",
       "1              1      481     3.5\n",
       "2              1     1091     1.5\n",
       "3              1     1257     4.5\n",
       "4              1     1449     4.5\n",
       "...          ...      ...     ...\n",
       "27753439  283228     8542     4.5\n",
       "27753440  283228     8712     4.5\n",
       "27753441  283228    34405     4.5\n",
       "27753442  283228    44761     4.5\n",
       "27753443  283228    54286     4.5\n",
       "\n",
       "[27753444 rows x 3 columns]"
      ]
     },
     "execution_count": 43,
     "metadata": {},
     "output_type": "execute_result"
    }
   ],
   "source": [
    "ratings_df_1 = ratings_df[['userId', 'movieId', 'rating']]\n",
    "ratings_df_1"
   ]
  },
  {
   "cell_type": "markdown",
   "metadata": {},
   "source": [
    "Further let's try to get count of total number of duplicates"
   ]
  },
  {
   "cell_type": "code",
   "execution_count": 44,
   "metadata": {},
   "outputs": [
    {
     "data": {
      "text/plain": [
       "13"
      ]
     },
     "execution_count": 44,
     "metadata": {},
     "output_type": "execute_result"
    }
   ],
   "source": [
    "ratings_df_1.duplicated(subset=['userId','movieId', 'rating']).sum()"
   ]
  },
  {
   "cell_type": "markdown",
   "metadata": {},
   "source": [
    "> Without including timestamp now, There are 13 duplicates found"
   ]
  },
  {
   "cell_type": "markdown",
   "metadata": {},
   "source": [
    "Check the duplicated entries and verify"
   ]
  },
  {
   "cell_type": "code",
   "execution_count": 48,
   "metadata": {},
   "outputs": [
    {
     "data": {
      "text/html": [
       "<div>\n",
       "<style scoped>\n",
       "    .dataframe tbody tr th:only-of-type {\n",
       "        vertical-align: middle;\n",
       "    }\n",
       "\n",
       "    .dataframe tbody tr th {\n",
       "        vertical-align: top;\n",
       "    }\n",
       "\n",
       "    .dataframe thead th {\n",
       "        text-align: right;\n",
       "    }\n",
       "</style>\n",
       "<table border=\"1\" class=\"dataframe\">\n",
       "  <thead>\n",
       "    <tr style=\"text-align: right;\">\n",
       "      <th></th>\n",
       "      <th>userId</th>\n",
       "      <th>movieId</th>\n",
       "      <th>rating</th>\n",
       "    </tr>\n",
       "  </thead>\n",
       "  <tbody>\n",
       "    <tr>\n",
       "      <th>6213836</th>\n",
       "      <td>63786</td>\n",
       "      <td>104155</td>\n",
       "      <td>0.5</td>\n",
       "    </tr>\n",
       "    <tr>\n",
       "      <th>6214019</th>\n",
       "      <td>63786</td>\n",
       "      <td>104155</td>\n",
       "      <td>0.5</td>\n",
       "    </tr>\n",
       "    <tr>\n",
       "      <th>7128279</th>\n",
       "      <td>73145</td>\n",
       "      <td>104155</td>\n",
       "      <td>4.0</td>\n",
       "    </tr>\n",
       "    <tr>\n",
       "      <th>7128522</th>\n",
       "      <td>73145</td>\n",
       "      <td>104155</td>\n",
       "      <td>4.0</td>\n",
       "    </tr>\n",
       "    <tr>\n",
       "      <th>10394207</th>\n",
       "      <td>106859</td>\n",
       "      <td>70155</td>\n",
       "      <td>3.0</td>\n",
       "    </tr>\n",
       "    <tr>\n",
       "      <th>10394847</th>\n",
       "      <td>106859</td>\n",
       "      <td>70155</td>\n",
       "      <td>3.0</td>\n",
       "    </tr>\n",
       "    <tr>\n",
       "      <th>10862664</th>\n",
       "      <td>111688</td>\n",
       "      <td>104155</td>\n",
       "      <td>4.5</td>\n",
       "    </tr>\n",
       "    <tr>\n",
       "      <th>10862692</th>\n",
       "      <td>111688</td>\n",
       "      <td>104155</td>\n",
       "      <td>4.5</td>\n",
       "    </tr>\n",
       "    <tr>\n",
       "      <th>12010931</th>\n",
       "      <td>123100</td>\n",
       "      <td>97773</td>\n",
       "      <td>3.0</td>\n",
       "    </tr>\n",
       "    <tr>\n",
       "      <th>12011347</th>\n",
       "      <td>123100</td>\n",
       "      <td>97773</td>\n",
       "      <td>3.0</td>\n",
       "    </tr>\n",
       "    <tr>\n",
       "      <th>12243097</th>\n",
       "      <td>125365</td>\n",
       "      <td>111519</td>\n",
       "      <td>4.5</td>\n",
       "    </tr>\n",
       "    <tr>\n",
       "      <th>12243194</th>\n",
       "      <td>125365</td>\n",
       "      <td>111519</td>\n",
       "      <td>4.5</td>\n",
       "    </tr>\n",
       "    <tr>\n",
       "      <th>15264429</th>\n",
       "      <td>155976</td>\n",
       "      <td>48682</td>\n",
       "      <td>3.5</td>\n",
       "    </tr>\n",
       "    <tr>\n",
       "      <th>15264776</th>\n",
       "      <td>155976</td>\n",
       "      <td>48682</td>\n",
       "      <td>3.5</td>\n",
       "    </tr>\n",
       "    <tr>\n",
       "      <th>15653605</th>\n",
       "      <td>159846</td>\n",
       "      <td>66511</td>\n",
       "      <td>2.0</td>\n",
       "    </tr>\n",
       "    <tr>\n",
       "      <th>15654247</th>\n",
       "      <td>159846</td>\n",
       "      <td>66511</td>\n",
       "      <td>2.0</td>\n",
       "    </tr>\n",
       "    <tr>\n",
       "      <th>16408991</th>\n",
       "      <td>167835</td>\n",
       "      <td>104155</td>\n",
       "      <td>3.0</td>\n",
       "    </tr>\n",
       "    <tr>\n",
       "      <th>16409115</th>\n",
       "      <td>167835</td>\n",
       "      <td>104155</td>\n",
       "      <td>3.0</td>\n",
       "    </tr>\n",
       "    <tr>\n",
       "      <th>19174782</th>\n",
       "      <td>195628</td>\n",
       "      <td>104155</td>\n",
       "      <td>3.0</td>\n",
       "    </tr>\n",
       "    <tr>\n",
       "      <th>19174990</th>\n",
       "      <td>195628</td>\n",
       "      <td>104155</td>\n",
       "      <td>3.0</td>\n",
       "    </tr>\n",
       "    <tr>\n",
       "      <th>19242274</th>\n",
       "      <td>196323</td>\n",
       "      <td>2644</td>\n",
       "      <td>5.0</td>\n",
       "    </tr>\n",
       "    <tr>\n",
       "      <th>19243096</th>\n",
       "      <td>196323</td>\n",
       "      <td>2644</td>\n",
       "      <td>5.0</td>\n",
       "    </tr>\n",
       "    <tr>\n",
       "      <th>22505207</th>\n",
       "      <td>230183</td>\n",
       "      <td>97773</td>\n",
       "      <td>3.5</td>\n",
       "    </tr>\n",
       "    <tr>\n",
       "      <th>22505255</th>\n",
       "      <td>230183</td>\n",
       "      <td>97773</td>\n",
       "      <td>3.5</td>\n",
       "    </tr>\n",
       "    <tr>\n",
       "      <th>26353900</th>\n",
       "      <td>269098</td>\n",
       "      <td>104155</td>\n",
       "      <td>3.5</td>\n",
       "    </tr>\n",
       "    <tr>\n",
       "      <th>26354146</th>\n",
       "      <td>269098</td>\n",
       "      <td>104155</td>\n",
       "      <td>3.5</td>\n",
       "    </tr>\n",
       "  </tbody>\n",
       "</table>\n",
       "</div>"
      ],
      "text/plain": [
       "          userId  movieId  rating\n",
       "6213836    63786   104155     0.5\n",
       "6214019    63786   104155     0.5\n",
       "7128279    73145   104155     4.0\n",
       "7128522    73145   104155     4.0\n",
       "10394207  106859    70155     3.0\n",
       "10394847  106859    70155     3.0\n",
       "10862664  111688   104155     4.5\n",
       "10862692  111688   104155     4.5\n",
       "12010931  123100    97773     3.0\n",
       "12011347  123100    97773     3.0\n",
       "12243097  125365   111519     4.5\n",
       "12243194  125365   111519     4.5\n",
       "15264429  155976    48682     3.5\n",
       "15264776  155976    48682     3.5\n",
       "15653605  159846    66511     2.0\n",
       "15654247  159846    66511     2.0\n",
       "16408991  167835   104155     3.0\n",
       "16409115  167835   104155     3.0\n",
       "19174782  195628   104155     3.0\n",
       "19174990  195628   104155     3.0\n",
       "19242274  196323     2644     5.0\n",
       "19243096  196323     2644     5.0\n",
       "22505207  230183    97773     3.5\n",
       "22505255  230183    97773     3.5\n",
       "26353900  269098   104155     3.5\n",
       "26354146  269098   104155     3.5"
      ]
     },
     "execution_count": 48,
     "metadata": {},
     "output_type": "execute_result"
    }
   ],
   "source": [
    "ratings_df_2 = ratings_df_1[ratings_df_1.duplicated(subset=['userId','movieId', 'rating'], keep=False)]\n",
    "ratings_df_2"
   ]
  },
  {
   "cell_type": "markdown",
   "metadata": {},
   "source": [
    "> So we have above entries with same row values which we can reduce and only keep single entry from that."
   ]
  },
  {
   "cell_type": "markdown",
   "metadata": {},
   "source": [
    "Now we will try to operate on removal of this duplication for these 13 row values"
   ]
  },
  {
   "cell_type": "code",
   "execution_count": 49,
   "metadata": {},
   "outputs": [
    {
     "data": {
      "text/plain": [
       "array([ 63786,  73145, 106859, 111688, 123100, 125365, 155976, 159846,\n",
       "       167835, 195628, 196323, 230183, 269098], dtype=int64)"
      ]
     },
     "execution_count": 49,
     "metadata": {},
     "output_type": "execute_result"
    }
   ],
   "source": [
    "ratings_df_2.userId.unique()"
   ]
  },
  {
   "cell_type": "markdown",
   "metadata": {},
   "source": [
    "Before going to global change we will first test our logic on single value entry"
   ]
  },
  {
   "cell_type": "code",
   "execution_count": 52,
   "metadata": {},
   "outputs": [
    {
     "data": {
      "text/html": [
       "<div>\n",
       "<style scoped>\n",
       "    .dataframe tbody tr th:only-of-type {\n",
       "        vertical-align: middle;\n",
       "    }\n",
       "\n",
       "    .dataframe tbody tr th {\n",
       "        vertical-align: top;\n",
       "    }\n",
       "\n",
       "    .dataframe thead th {\n",
       "        text-align: right;\n",
       "    }\n",
       "</style>\n",
       "<table border=\"1\" class=\"dataframe\">\n",
       "  <thead>\n",
       "    <tr style=\"text-align: right;\">\n",
       "      <th></th>\n",
       "      <th>userId</th>\n",
       "      <th>movieId</th>\n",
       "      <th>rating</th>\n",
       "    </tr>\n",
       "  </thead>\n",
       "  <tbody>\n",
       "    <tr>\n",
       "      <th>6213836</th>\n",
       "      <td>63786</td>\n",
       "      <td>104155</td>\n",
       "      <td>0.5</td>\n",
       "    </tr>\n",
       "    <tr>\n",
       "      <th>6214019</th>\n",
       "      <td>63786</td>\n",
       "      <td>104155</td>\n",
       "      <td>0.5</td>\n",
       "    </tr>\n",
       "  </tbody>\n",
       "</table>\n",
       "</div>"
      ],
      "text/plain": [
       "         userId  movieId  rating\n",
       "6213836   63786   104155     0.5\n",
       "6214019   63786   104155     0.5"
      ]
     },
     "execution_count": 52,
     "metadata": {},
     "output_type": "execute_result"
    }
   ],
   "source": [
    "ratings_df_2[ratings_df_2.userId == 63786]"
   ]
  },
  {
   "cell_type": "markdown",
   "metadata": {},
   "source": [
    "> There are two entries present among which we will keep the first row and remove the second row"
   ]
  },
  {
   "cell_type": "markdown",
   "metadata": {},
   "source": [
    "Try to get an index value for the row "
   ]
  },
  {
   "cell_type": "code",
   "execution_count": 60,
   "metadata": {},
   "outputs": [
    {
     "data": {
      "text/plain": [
       "6214019"
      ]
     },
     "execution_count": 60,
     "metadata": {},
     "output_type": "execute_result"
    }
   ],
   "source": [
    "ratings_df_2[ratings_df_2.userId == 63786].index.values.astype(int)[1]"
   ]
  },
  {
   "cell_type": "markdown",
   "metadata": {},
   "source": [
    "Now using drop in pandas, Drop the row with index 6214019"
   ]
  },
  {
   "cell_type": "code",
   "execution_count": 62,
   "metadata": {},
   "outputs": [
    {
     "data": {
      "text/html": [
       "<div>\n",
       "<style scoped>\n",
       "    .dataframe tbody tr th:only-of-type {\n",
       "        vertical-align: middle;\n",
       "    }\n",
       "\n",
       "    .dataframe tbody tr th {\n",
       "        vertical-align: top;\n",
       "    }\n",
       "\n",
       "    .dataframe thead th {\n",
       "        text-align: right;\n",
       "    }\n",
       "</style>\n",
       "<table border=\"1\" class=\"dataframe\">\n",
       "  <thead>\n",
       "    <tr style=\"text-align: right;\">\n",
       "      <th></th>\n",
       "      <th>userId</th>\n",
       "      <th>movieId</th>\n",
       "      <th>rating</th>\n",
       "    </tr>\n",
       "  </thead>\n",
       "  <tbody>\n",
       "    <tr>\n",
       "      <th>6213836</th>\n",
       "      <td>63786</td>\n",
       "      <td>104155</td>\n",
       "      <td>0.5</td>\n",
       "    </tr>\n",
       "  </tbody>\n",
       "</table>\n",
       "</div>"
      ],
      "text/plain": [
       "         userId  movieId  rating\n",
       "6213836   63786   104155     0.5"
      ]
     },
     "execution_count": 62,
     "metadata": {},
     "output_type": "execute_result"
    }
   ],
   "source": [
    "ratings_df_2[ratings_df_2.userId == 63786].drop(6214019)"
   ]
  },
  {
   "cell_type": "markdown",
   "metadata": {},
   "source": [
    "We dropped 6214019 index row values successfully so let's try to make function to do the same globally"
   ]
  },
  {
   "cell_type": "code",
   "execution_count": 68,
   "metadata": {},
   "outputs": [],
   "source": [
    "# Just make sure its working for ratings_df_1 containing all entries\n",
    "test = ratings_df_1.drop(6214019)"
   ]
  },
  {
   "cell_type": "code",
   "execution_count": 69,
   "metadata": {},
   "outputs": [
    {
     "data": {
      "text/html": [
       "<div>\n",
       "<style scoped>\n",
       "    .dataframe tbody tr th:only-of-type {\n",
       "        vertical-align: middle;\n",
       "    }\n",
       "\n",
       "    .dataframe tbody tr th {\n",
       "        vertical-align: top;\n",
       "    }\n",
       "\n",
       "    .dataframe thead th {\n",
       "        text-align: right;\n",
       "    }\n",
       "</style>\n",
       "<table border=\"1\" class=\"dataframe\">\n",
       "  <thead>\n",
       "    <tr style=\"text-align: right;\">\n",
       "      <th></th>\n",
       "      <th>userId</th>\n",
       "      <th>movieId</th>\n",
       "      <th>rating</th>\n",
       "    </tr>\n",
       "  </thead>\n",
       "  <tbody>\n",
       "  </tbody>\n",
       "</table>\n",
       "</div>"
      ],
      "text/plain": [
       "Empty DataFrame\n",
       "Columns: [userId, movieId, rating]\n",
       "Index: []"
      ]
     },
     "execution_count": 69,
     "metadata": {},
     "output_type": "execute_result"
    }
   ],
   "source": [
    "# Check whether the index is deleted or not\n",
    "test[test.index.values.astype(int) == 6214019]"
   ]
  },
  {
   "cell_type": "markdown",
   "metadata": {},
   "source": [
    "Super! Our test is working, Let's build a function for global removal of these entries on our dataset."
   ]
  },
  {
   "cell_type": "code",
   "execution_count": 85,
   "metadata": {},
   "outputs": [],
   "source": [
    "def remove_duplicate_row_values_from_ratings_dataset(dataframe: pd.DataFrame, user_ids: [int]) -> pd.DataFrame:\n",
    "    for user_id in user_ids:        \n",
    "        index_to_remove = dataframe[dataframe.userId == user_id].index.values.astype(int)[1]\n",
    "        dataframe = dataframe.drop(index_to_remove)\n",
    "    return dataframe"
   ]
  },
  {
   "cell_type": "markdown",
   "metadata": {},
   "source": [
    "Execute the function and save it to variable named ratings_df_final"
   ]
  },
  {
   "cell_type": "code",
   "execution_count": 91,
   "metadata": {},
   "outputs": [],
   "source": [
    "ratings_df_final = remove_duplicate_row_values_from_ratings_dataset(ratings_df_1, ratings_df_2.userId.unique())"
   ]
  },
  {
   "cell_type": "markdown",
   "metadata": {},
   "source": [
    "It Works! Let's make sure the deletion of duplicated entries by comparing size of previous dataset with new updated dataset"
   ]
  },
  {
   "cell_type": "code",
   "execution_count": 92,
   "metadata": {},
   "outputs": [
    {
     "data": {
      "text/plain": [
       "13"
      ]
     },
     "execution_count": 92,
     "metadata": {},
     "output_type": "execute_result"
    }
   ],
   "source": [
    "len(ratings_df_1) - len(ratings_df_final)"
   ]
  },
  {
   "cell_type": "markdown",
   "metadata": {},
   "source": [
    "> Voila! Our function is working as the difference between size of old and new dataset is same as the number of duplicate entries were present. "
   ]
  },
  {
   "cell_type": "markdown",
   "metadata": {},
   "source": [
    "We have successfully removed duplicate rows from our dataset.\n",
    "Now we can process our analysis further on \"movies_df\" and \"ratings_df_final\""
   ]
  }
 ],
 "metadata": {
  "kernelspec": {
   "display_name": "Python 3",
   "language": "python",
   "name": "python3"
  },
  "language_info": {
   "codemirror_mode": {
    "name": "ipython",
    "version": 3
   },
   "file_extension": ".py",
   "mimetype": "text/x-python",
   "name": "python",
   "nbconvert_exporter": "python",
   "pygments_lexer": "ipython3",
   "version": "3.8.7"
  },
  "pycharm": {
   "stem_cell": {
    "cell_type": "raw",
    "metadata": {
     "collapsed": false
    },
    "source": []
   }
  },
  "toc": {
   "base_numbering": 1,
   "nav_menu": {},
   "number_sections": true,
   "sideBar": true,
   "skip_h1_title": false,
   "title_cell": "Table of Contents",
   "title_sidebar": "Contents",
   "toc_cell": false,
   "toc_position": {},
   "toc_section_display": true,
   "toc_window_display": false
  }
 },
 "nbformat": 4,
 "nbformat_minor": 4
}
